{
 "cells": [
  {
   "cell_type": "markdown",
   "metadata": {},
   "source": [
    "# Sistema de Cadastro - by Marilia Ruth\n",
    "\n",
    "O Sistema de Cadastro é um software projetado para gerenciar e manter registros de indivíduos de forma organizada e eficiente.\n",
    "\n",
    "Principais Recursos:\n",
    "```\n",
    "-Menu principal\n",
    "-Inicialização\n",
    "-Inserção de usuário\n",
    "-Exclusão de usuário\n",
    "-Atualizar usuário\n",
    "-Exibir informações de um usuário\n",
    "-Exibir Informações de todos os usuários\n",
    "-Sair\n",
    "```"
   ]
  },
  {
   "cell_type": "code",
   "execution_count": 68,
   "metadata": {},
   "outputs": [],
   "source": [
    "import json\n",
    "\n",
    "def lerArquivo(ler=True, nomeArquivo='projetoModuloII.json'):\n",
    "    if ler:\n",
    "        # Criar o passo-a-passo para ler o arquivo e \n",
    "        # retornar para a função principal o arquivo lido\n",
    "        try:\n",
    "            with open(nomeArquivo, 'r') as arquivo:\n",
    "                dados= json.load(arquivo)\n",
    "            return dados\n",
    "        except FileNotFoundError:\n",
    "            print(\"Arquivo nao encontrado\")\n",
    "    else:\n",
    "        # Criar o passo-a-passo para salvar o arquivo \n",
    "        # e não é necessário retornar nada\n",
    "        try:\n",
    "            nome, telefone, endereco = dadosNovoUsuario()\n",
    "            dados=addUsuario(nome, telefone, endereco)\n",
    "            with open(nomeArquivo, 'w') as arquivo:\n",
    "                json.dump(dados, arquivo, indent=4)\n",
    "            return dados\n",
    "            print(\"Arquivo salvo com sucesso.\")\n",
    "        except IOError:\n",
    "            print(\"Erro ao salvar o arquivo.\")"
   ]
  },
  {
   "cell_type": "code",
   "execution_count": 69,
   "metadata": {},
   "outputs": [],
   "source": [
    "def salvarArquivo(dados, nomeArquivo='projetoModuloII.json'):\n",
    "    json.dump(dados, open(nomeArquivo, 'w'), indent=4)\n",
    "    print(\"Arquivo salvo com sucesso.\")"
   ]
  },
  {
   "cell_type": "code",
   "execution_count": 70,
   "metadata": {},
   "outputs": [],
   "source": [
    "menu_str = \"\"\"\n",
    "\\nBoas vindas ao nosso sistema!\n",
    "\n",
    "Digite a opção desejada:\n",
    "1 - Inserir usuário\n",
    "2 - Excluir usuário\n",
    "3 - Atualizar/Editar usuário\n",
    "4 - Informações de um usuário\n",
    "5 - Informações de todos os usuários\n",
    "6 - Sair\\n\n",
    "\"\"\"\n"
   ]
  },
  {
   "cell_type": "code",
   "execution_count": 98,
   "metadata": {},
   "outputs": [],
   "source": [
    "def obterIds():\n",
    "    ids_exibicao = []\n",
    "    #print(\"Digite os IDs dos usuários que deseja exibir (digite 'sair' para encerrar):\")\n",
    "    while True:\n",
    "        id_digitado = input(\"Digite os IDs dos usuários que deseja exibir (digite 'sair' para encerrar):\")\n",
    "        if id_digitado.lower() == \"sair\":\n",
    "            break\n",
    "        if not id_digitado.isdigit():\n",
    "            print(\"ID inválido! O ID deve ser um número inteiro.\")\n",
    "            continue\n",
    "        if id_digitado not in dados:\n",
    "            print(\"Usuário não encontrado!\\n\")\n",
    "            continue\n",
    "        ids_exibicao.append(str(id_digitado))\n",
    "    print(ids_exibicao)\n",
    "    return ids_exibicao\n"
   ]
  },
  {
   "cell_type": "code",
   "execution_count": 88,
   "metadata": {},
   "outputs": [],
   "source": [
    "def dadosNovoUsuario():\n",
    "    nome=input(\"\\nDigite nome:\\n\")\n",
    "    telefone=input(\"\\nDigite telefone:\\n\")\n",
    "    endereco=input(\"\\nDigite endereço:\\n\")\n",
    "    return addUsuario(nome, telefone, endereco)\n",
    "\n",
    "def addUsuario(nome, telefone, endereco):\n",
    "    global dados\n",
    "\n",
    "    # Definir valores padrões\n",
    "    if not nome:\n",
    "        nome = \"Nao Informado\"\n",
    "    if not telefone:\n",
    "        telefone = \"Nao Informado\"\n",
    "    if not endereco:\n",
    "        endereco = \"Nao Informado\"\n",
    "\n",
    "    # Verificar se o usuário já existe pelo nome, telefone e endereço\n",
    "    for usuario_id, usuario in dados.items():\n",
    "        if (usuario[\"Nome\"] == nome and usuario[\"Telefone\"] == telefone and usuario[\"Endereço\"] == endereco):\n",
    "            # Se existir e estiver inativo, torná-lo ativo e sair da função\n",
    "            if not usuario[\"Status\"]:\n",
    "                usuario[\"Status\"] = True\n",
    "                return\n",
    "\n",
    "    # Gerar um novo ID incremental para o usuário\n",
    "    maior_indice = max(dados.keys(), key=int)\n",
    "    proximo_indice =int(maior_indice)+1\n",
    "    novo_id=str(proximo_indice)\n",
    "    \n",
    "    #novo_id=proximo_indice\n",
    "    # Adicionar o novo usuário ao dicionário\n",
    "    dados[novo_id] = {\n",
    "            \"Status\": True,\n",
    "            \"Nome\": nome,\n",
    "            \"Telefone\": telefone,\n",
    "            \"Endereço\": endereco\n",
    "        }\n",
    "        #return dados[novo_id]\n",
    "    print(f\"\\nNovo usuário:\\n{dados[novo_id]}\")\n",
    "    return salvarArquivo(dados)\n"
   ]
  },
  {
   "cell_type": "code",
   "execution_count": null,
   "metadata": {},
   "outputs": [],
   "source": [
    "sub_menu = \"\"\"\n",
    "\\nQual informação deseja alterar?\n",
    "1 - Nome\n",
    "2 - Telefone\n",
    "3 - Endereço\n",
    "\\n\n",
    "\"\"\"\n",
    "\n",
    "\n",
    "def atualizarCadastro(usuario_id, campo, valor):\n",
    "    global dados\n",
    "    if usuario_id in dados:\n",
    "        if campo == \"Nome\":\n",
    "           dados[usuario_id][\"Nome\"] = valor\n",
    "        elif campo == \"Telefone\":\n",
    "           dados[usuario_id][\"Telefone\"] = valor\n",
    "        elif campo == \"Endereço\":\n",
    "           dados[usuario_id][\"Endereço\"] = valor\n",
    "\n",
    "\n",
    "def editarUsuario():\n",
    "    global dados\n",
    "    print(50*\"¨\")\n",
    "    print(\"Editar Usuário\")\n",
    "    while True:\n",
    "        id_digitado = obterIds()\n",
    "        print(50*\"¨\")\n",
    "        print(sub_menu)\n",
    "        campo_digitado = input()\n",
    "        if campo_digitado not in [\"1\", \"2\", \"3\"]:\n",
    "            print(\"Opção inválida! Digite um número válido (1, 2 ou 3).\")\n",
    "            continue\n",
    "        campo_digitado = int(campo_digitado)\n",
    "        for id in id_digitado:\n",
    "            if campo_digitado == 1:\n",
    "                dados[id]['Nome'] = input(\"Insira o novo nome: \")\n",
    "                #atualizarCadastro(id_digitado, \"Nome\", novo_nome)\n",
    "            elif campo_digitado == 2:\n",
    "                dados[id]['Telefone'] = input(\"Insira o novo telefone: \")\n",
    "                #atualizarCadastro(id_digitado, \"Telefone\", novo_telefone)\n",
    "            elif campo_digitado == 3:\n",
    "                dados[id]['Endereço'] = input(\"Insira o novo endereço: \")\n",
    "                #atualizarCadastro(id_digitado, \"Endereço\", novo_endereco)\n",
    "        print(\"\\nDados Atualizados\\n\")\n",
    "        return salvarArquivo(dados)\n",
    "         \n"
   ]
  },
  {
   "cell_type": "code",
   "execution_count": 83,
   "metadata": {},
   "outputs": [],
   "source": [
    "def excluirUsuario(ids=None):\n",
    "    if ids is None:\n",
    "        ids=obterIds()\n",
    "    global dados\n",
    "    for usuario_id in ids:\n",
    "        if usuario_id in dados:\n",
    "            dados[usuario_id][\"Status\"] = False\n",
    "            print(f\"Usuário com ID {usuario_id} excluído logicamente.\")\n",
    "        else:\n",
    "            print(\"Usuário não encontrado!\\n\")\n",
    "    return salvarArquivo(dados)"
   ]
  },
  {
   "cell_type": "code",
   "execution_count": 75,
   "metadata": {},
   "outputs": [],
   "source": [
    "def exibirAlgunsUsuarios(ids=None):\n",
    "    if ids is None:\n",
    "        ids=obterIds()\n",
    "    global dados\n",
    "    for usuario_id in ids:\n",
    "        if usuario_id in dados and dados[usuario_id][\"Status\"]:\n",
    "            usuario = dados[usuario_id]\n",
    "            print(f\"ID: {usuario_id}\")\n",
    "            print(f\"Nome: {usuario['Nome']}\")\n",
    "            print(f\"Telefone: {usuario['Telefone']}\")\n",
    "            print(f\"Endereço: {usuario['Endereço']}\")\n",
    "            print()\n"
   ]
  },
  {
   "cell_type": "code",
   "execution_count": 76,
   "metadata": {},
   "outputs": [],
   "source": [
    "def exibirTodosUsuarios():\n",
    "    global dados\n",
    "    print(50*\"#\")\n",
    "    print(\"Exibir Informações de Todos os Usuários\")\n",
    "    dados_ativos = [usuario_id for usuario_id, usuario in dados.items() if usuario[\"Status\"]]\n",
    "    exibirAlgunsUsuarios(dados_ativos)"
   ]
  },
  {
   "cell_type": "code",
   "execution_count": 77,
   "metadata": {},
   "outputs": [],
   "source": [
    "def sair():\n",
    "    global dados\n",
    "    salvarArquivo(dados)\n",
    "    print(\"Encerrando o programa...\")\n",
    "    #exit()"
   ]
  },
  {
   "cell_type": "code",
   "execution_count": 78,
   "metadata": {},
   "outputs": [],
   "source": [
    "def Main():\n",
    "    global dados\n",
    "    print(\"\\nBoas vindas ao nosso sistema!\\n\\n\\n\")\n",
    "    menu_str = \"\"\"\n",
    "                Digite a opção desejada:\\n\n",
    "                1 - Inserir usuário\\n\n",
    "                2 - Excluir usuário\\n\n",
    "                3 - Atualizar/Editar usuário\\n\n",
    "                4 - Informações de um usuário\\n\n",
    "                5 - Informações de todos os usuários\\n\n",
    "                6 - Sair\\n\n",
    "                \"\"\"\n",
    "    operacao=\"0\"\n",
    "    while operacao != \"6\":\n",
    "        operacao=input(menu_str)\n",
    "        seletor_operacoes={'1':dadosNovoUsuario,\n",
    "                        '2':excluirUsuario,\n",
    "                        '3':editarUsuario,\n",
    "                        '4':exibirAlgunsUsuarios,\n",
    "                        '5':exibirTodosUsuarios,\n",
    "                        '6':sair\n",
    "                        }\n",
    "        if operacao in seletor_operacoes.keys():\n",
    "            resultado= seletor_operacoes[operacao]\n",
    "            resultado()\n",
    "        else:\n",
    "            print(50*\"!\")\n",
    "            print(\"\\nOpção invalida.\")\n"
   ]
  },
  {
   "cell_type": "code",
   "execution_count": 104,
   "metadata": {},
   "outputs": [
    {
     "name": "stdout",
     "output_type": "stream",
     "text": [
      "\n",
      "Boas vindas ao nosso sistema!\n",
      "\n",
      "\n",
      "\n",
      "\n",
      "                Digite a opção desejada:\n",
      "\n",
      "                1 - Inserir usuário\n",
      "\n",
      "                2 - Excluir usuário\n",
      "\n",
      "                3 - Atualizar/Editar usuário\n",
      "\n",
      "                4 - Informações de um usuário\n",
      "\n",
      "                5 - Informações de todos os usuários\n",
      "\n",
      "                6 - Sair\n",
      "\n",
      "                6\n",
      "Arquivo salvo com sucesso.\n",
      "Encerrando o programa...\n"
     ]
    }
   ],
   "source": [
    "if __name__ == \"__main__\":\n",
    "    dados=lerArquivo()\n",
    "    Main()"
   ]
  },
  {
   "cell_type": "code",
   "execution_count": 105,
   "metadata": {},
   "outputs": [
    {
     "name": "stdout",
     "output_type": "stream",
     "text": [
      "{'1': {'Status': True, 'Nome': 'Pedro', 'Telefone': '98765443', 'Endereço': 'Rua do Python', 'nome': 'Pedro', 'Endereco': 'Rua dos bobos, numwero 0'}, '2': {'Status': True, 'Nome': 'Sebastião', 'Telefone': '23546312', 'Endereço': 'Modulo II', 'nome': 'Segundo'}, '3': {'Status': True, 'Nome': 'João', 'Telefone': '45786327', 'Endereço': 'Av. Faria Lima', 'nome': 'Terceiro'}, '4': {'Status': False, 'Nome': 'Maria', 'Telefone': '74125823', 'Endereço': 'Av. Paulista'}, '5': {'Status': False, 'Nome': 'Juliana', 'Telefone': '41230578', 'Endereço': 'Rua das Flores'}, '6': {'Status': True, 'Nome': 'Marilia Ruth', 'Telefone': '99 9999 9999', 'Endereço': 'Rua das Pedras, 23'}, '7': {'Status': True, 'Nome': 'Klinger Sales', 'Telefone': '12 34455500', 'Endereço': 'vish'}, '8': {'Status': False, 'Nome': 'klinger sales', 'Telefone': '987653', 'Endereço': 'rua dos bobos'}, '9': {'Status': False, 'Nome': 'nathallie sunshine', 'Telefone': '12345678', 'Endereço': 'Rua das estrelas,23'}, '10': {'Status': False, 'Nome': 'karla', 'Telefone': '123', 'Endereço': '123'}, '11': {'Status': True, 'Nome': 'hugo fez o nome', 'Telefone': '10', 'Endereço': '10000'}, '12': {'Status': True, 'Nome': 'er', 'Telefone': 'er', 'Endereço': 'er'}}\n"
     ]
    }
   ],
   "source": [
    "print(dados)"
   ]
  }
 ],
 "metadata": {
  "colab": {
   "provenance": []
  },
  "kernelspec": {
   "display_name": "Python 3 (ipykernel)",
   "language": "python",
   "name": "python3"
  },
  "language_info": {
   "codemirror_mode": {
    "name": "ipython",
    "version": 3
   },
   "file_extension": ".py",
   "mimetype": "text/x-python",
   "name": "python",
   "nbconvert_exporter": "python",
   "pygments_lexer": "ipython3",
   "version": "3.9.12"
  },
  "latex_envs": {
   "LaTeX_envs_menu_present": true,
   "autoclose": false,
   "autocomplete": true,
   "bibliofile": "biblio.bib",
   "cite_by": "apalike",
   "current_citInitial": 1,
   "eqLabelWithNumbers": true,
   "eqNumInitial": 1,
   "hotkeys": {
    "equation": "Ctrl-E",
    "itemize": "Ctrl-I"
   },
   "labels_anchors": false,
   "latex_user_defs": false,
   "report_style_numbering": false,
   "user_envs_cfg": false
  },
  "toc": {
   "base_numbering": 1,
   "nav_menu": {},
   "number_sections": true,
   "sideBar": true,
   "skip_h1_title": false,
   "title_cell": "Table of Contents",
   "title_sidebar": "Contents",
   "toc_cell": false,
   "toc_position": {},
   "toc_section_display": true,
   "toc_window_display": false
  },
  "varInspector": {
   "cols": {
    "lenName": 16,
    "lenType": 16,
    "lenVar": 40
   },
   "kernels_config": {
    "python": {
     "delete_cmd_postfix": "",
     "delete_cmd_prefix": "del ",
     "library": "var_list.py",
     "varRefreshCmd": "print(var_dic_list())"
    },
    "r": {
     "delete_cmd_postfix": ") ",
     "delete_cmd_prefix": "rm(",
     "library": "var_list.r",
     "varRefreshCmd": "cat(var_dic_list()) "
    }
   },
   "types_to_exclude": [
    "module",
    "function",
    "builtin_function_or_method",
    "instance",
    "_Feature"
   ],
   "window_display": false
  },
  "vscode": {
   "interpreter": {
    "hash": "c31ee28a2e8a8c14288e32f43cdc31d04eb5922835efbdee25a698b666fb5ffc"
   }
  }
 },
 "nbformat": 4,
 "nbformat_minor": 1
}
