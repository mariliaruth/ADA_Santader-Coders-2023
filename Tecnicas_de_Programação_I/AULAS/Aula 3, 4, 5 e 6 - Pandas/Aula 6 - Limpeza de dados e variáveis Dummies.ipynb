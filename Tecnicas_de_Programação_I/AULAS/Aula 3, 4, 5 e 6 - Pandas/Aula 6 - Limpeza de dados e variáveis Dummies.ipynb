{
 "cells": [
  {
   "cell_type": "markdown",
   "metadata": {},
   "source": [
    "# Aula 6 - Limpeza e transformação de dados\n",
    "\n",
    "Na aula de hoje, vamos explorar os seguintes tópicos em Python:\n",
    "\n",
    "- 1) Limpeza de Dados (dropna, fillna, isnull, notnull, replace, duplicated, drop_duplicated)\n",
    "- 2) Transformação de Dados (cut, qcut, get_dummies)\n",
    "\n",
    "\n",
    "### Objetivos\n",
    "\n",
    "Apresentar como identificamos valores nulos, discutir melhores formas de tratá-los além de trabalhar com variáveis dummies.\n",
    "\n",
    "\n",
    "### Habilidades a serem desenvolvidas nessa aula\n",
    "\n",
    "Ao final da aula o aluno deve:\n",
    "\n",
    "- Saber como identificar valores nulos e como tratá-los\n",
    "- Identificar quando utilizar variáveis dummies e como criá-las\n",
    "- Como converter variáveis numéricas em categóricas\n",
    "____\n",
    "____\n",
    "____"
   ]
  },
  {
   "cell_type": "code",
   "execution_count": null,
   "metadata": {},
   "outputs": [],
   "source": [
    "import pandas as pd \n",
    "import numpy as np"
   ]
  },
  {
   "cell_type": "code",
   "execution_count": null,
   "metadata": {},
   "outputs": [],
   "source": [
    "df = pd.read_csv(\"data/titanic.csv\")"
   ]
  },
  {
   "cell_type": "markdown",
   "metadata": {},
   "source": [
    "## Limpeza de Dados: Dados Faltantes\n",
    "\n",
    "### `.isna() e isnull()`\n",
    "retorna um df booleano indicando se existe um nulo naquela posição. `pd.isnull()` é um alias para `pd.isna()` dentro do python como podemos ver na <a href=\"https://github.com/pandas-dev/pandas/blob/0409521665bd436a10aea7e06336066bf07ff057/pandas/core/dtypes/missing.py#L109\">documentação</a>. O pandas dataframe é baseado nos df do R, onde null e na tem sentidos distintos."
   ]
  },
  {
   "cell_type": "code",
   "execution_count": null,
   "metadata": {},
   "outputs": [],
   "source": []
  },
  {
   "cell_type": "markdown",
   "metadata": {},
   "source": [
    "Para termos a quantidade de nans em cada coluna podemos somar os valores true:"
   ]
  },
  {
   "cell_type": "code",
   "execution_count": null,
   "metadata": {},
   "outputs": [],
   "source": []
  },
  {
   "cell_type": "markdown",
   "metadata": {},
   "source": [
    "### `.notnull()`\n",
    "\n",
    "retorna df com True ou False, com True para elementos não nulos"
   ]
  },
  {
   "cell_type": "code",
   "execution_count": null,
   "metadata": {},
   "outputs": [],
   "source": []
  },
  {
   "cell_type": "markdown",
   "metadata": {},
   "source": [
    "### `.dropna()`\n",
    "\n",
    "elimina nulos em todo o df ou em colunas específicas quando utilizado o argumento `subset`. É um dos métodos que aceita o parâmetro `inplace`.\n"
   ]
  },
  {
   "cell_type": "code",
   "execution_count": null,
   "metadata": {},
   "outputs": [],
   "source": []
  },
  {
   "cell_type": "markdown",
   "metadata": {},
   "source": [
    "### `.fillna()`\n",
    "\n",
    "preeche os valores nulos com valores especificados dentro do método. Esses valores podem tanto ser uma constante quanto aplicar técnicas como o backfill e o forward fill.\n",
    "\n",
    "Parâmetros úteis:\n",
    "\n",
    "   * `method {‘bfill’,‘ffill’, None}`, default None <br>\n",
    "       Preenche os nas propagando o último valor válido para frente (ffill) ou utiliza próxima observação válida para preencher os nulos (bfill).\n",
    "   * `limit`, default None <br>\n",
    "       Quantidade máxima de nulos sequenciais a ser preenchido. \n",
    "   * `axis` {0 para ‘index’, 1 para ‘colunas’} <br>\n",
    "       Eixo no qual se quer preencher os nulos\n",
    "   * `inplace` {booleano}, default False\n"
   ]
  },
  {
   "cell_type": "code",
   "execution_count": null,
   "metadata": {},
   "outputs": [],
   "source": []
  },
  {
   "cell_type": "markdown",
   "metadata": {},
   "source": [
    "### Voltando ao dataset do titanic...\n",
    "\n",
    "Quais soluções poderíamos utilizar para preencher os nulos em Age? <br>\n",
    "E as cabines nulas? <br>\n",
    "E os portões de embarque nulos? <br>\n",
    "Qual os possíveis problemas que podemos encontrar utilizando essas abordagens? <br>\n"
   ]
  },
  {
   "cell_type": "markdown",
   "metadata": {},
   "source": [
    "_________\n",
    "_________\n",
    "**Exercício:** Ordene as colunas Pclass e Fare, nessa ordem e ascendente, e preencha os nulos utilizando o método foward fill."
   ]
  },
  {
   "cell_type": "code",
   "execution_count": null,
   "metadata": {},
   "outputs": [],
   "source": []
  },
  {
   "cell_type": "markdown",
   "metadata": {},
   "source": [
    "_________\n",
    "_________"
   ]
  },
  {
   "cell_type": "markdown",
   "metadata": {},
   "source": [
    "### `.interpolate()`\n",
    "Faz a interpolação dos missing de acordo com o método escolhido.\n",
    "[Documentação](https://pandas.pydata.org/pandas-docs/version/0.23/generated/pandas.Series.interpolate.html)\n",
    "\n",
    "Principais parâmetros: `Series.interpolate(method='linear', order=None, axis=0, limit=None, inplace=False)`"
   ]
  },
  {
   "cell_type": "code",
   "execution_count": null,
   "metadata": {},
   "outputs": [],
   "source": [
    "s = pd.DataFrame([0, 1, np.nan, 3, 4, np.nan, 400], columns=['original'])\n"
   ]
  },
  {
   "cell_type": "markdown",
   "metadata": {},
   "source": [
    "## Substituição de valores\n",
    "\n",
    "### `.replace()`\n",
    "\n",
    "substitui elementos dentro do df. É um dos métodos que aceita o parâmetro `inplace`.\n"
   ]
  },
  {
   "cell_type": "code",
   "execution_count": null,
   "metadata": {},
   "outputs": [],
   "source": [
    "# para apenas uma troca\n"
   ]
  },
  {
   "cell_type": "code",
   "execution_count": null,
   "metadata": {},
   "outputs": [],
   "source": [
    "# para mais de uma troca\n"
   ]
  },
  {
   "cell_type": "markdown",
   "metadata": {},
   "source": [
    "___________________\n",
    "___________________\n",
    "\n",
    "**Exercício**: Troque os valores abreviados do portão de embarque para seus respectivos nomes \n",
    "(C = Cherbourg; Q = Queenstown; S = Southampton) e preencha os dados faltantes com o portão mais frequente."
   ]
  },
  {
   "cell_type": "code",
   "execution_count": null,
   "metadata": {},
   "outputs": [],
   "source": []
  },
  {
   "cell_type": "markdown",
   "metadata": {},
   "source": [
    "___________________\n",
    "___________________\n"
   ]
  },
  {
   "cell_type": "markdown",
   "metadata": {},
   "source": [
    "## Limpeza de Dados: Dados duplicados\n",
    "### `.duplicated()` e `.drop_duplicated()`\n",
    "\n",
    "O `.duplicated()` retorna uma máscara series booleana indicando se determinada linha possui duplicados ou não. Já o `.drop_duplicated()`, elimina as linhas duplicadas. <br>\n",
    "Parâmetros do `.drop_duplicated()`:\n",
    "\n",
    "   * `subset` -  seleciona colunas para serem utilizadas na comparação de linhas duplicadas\n",
    "   * `keep` - {‘first’, ‘last’, False} (default ‘first’) Determina qual duplicado manter\n",
    "   * `inplace` - (default False) Se False retorna uma cópia do df com as alterações, se True faz as modificações no próprio df\n",
    "\n"
   ]
  },
  {
   "cell_type": "code",
   "execution_count": null,
   "metadata": {},
   "outputs": [],
   "source": [
    "# vamos criar um df que possua linhas duplicadas\n",
    "df_dup = df.copy()\n",
    "\n",
    "df_dup.loc[891, :] = df_dup.loc[0, :]\n",
    "df_dup.loc[892, :] = df_dup.loc[1, :]\n",
    "df_dup.loc[893, :] = df_dup.loc[1, :]\n",
    "\n",
    "print(df.shape, df_dup.shape)"
   ]
  },
  {
   "cell_type": "code",
   "execution_count": null,
   "metadata": {},
   "outputs": [],
   "source": []
  },
  {
   "cell_type": "markdown",
   "metadata": {},
   "source": [
    "_______________________\n",
    "_______________________\n",
    "**Exercícios:** Elimine os duplicados considerando as colunas 'brand' e 'style' mantendo o último valor."
   ]
  },
  {
   "cell_type": "code",
   "execution_count": null,
   "metadata": {},
   "outputs": [],
   "source": [
    "df_exerc = pd.DataFrame({\n",
    "    'brand': ['Yum Yum', 'Yum Yum', 'Yum Yum', 'Indomie', 'Indomie', 'Indomie'],\n",
    "    'style': ['cup', 'cup', 'cup', 'cup', 'pack', 'pack'],\n",
    "    'rating': [4, 4, np.nan, 3.5, 15, 5]\n",
    "})\n",
    "\n",
    "df_exerc"
   ]
  },
  {
   "cell_type": "markdown",
   "metadata": {},
   "source": [
    "__________\n",
    "__________\n"
   ]
  },
  {
   "cell_type": "markdown",
   "metadata": {},
   "source": [
    "## Transformação de dados\n",
    "\n",
    "### Variáveis categóricas -> booleanas\n",
    "\n",
    "\n",
    "Variáveis categóricas são aquelas que representam grupos ou classes dentro dos nossos dados. Elas podem ser de dois tipos:\n",
    "* ordinais: <br>\n",
    "   possuem uma ordem que tem um sentido. Por exemplo, em rendimentos poderíamos ter: classe alta > classe média > classe baixa  \n",
    "* nominais: <br>\n",
    "   não possuem uma ordem válida. Por exemplo: sexo e CEP.\n",
    "\n",
    "<img src=\"variaveis_categoricas.jpeg\" style=\"width: 600px\">\n",
    "\n",
    "Criamos variáveis dummies quando convertemos variáveis categóricas para valores binários que passarão a representar cada uma das classes. \n",
    "\n",
    "#### `.get_dummies()`\n",
    "\n",
    "O método `pd.get_dummies()` converte as variáveis categóricas em numéricas separando cada categoria em uma coluna única.\n",
    "<br>\n",
    "<br>\n",
    "<a href=\"https://pandas.pydata.org/docs/reference/api/pandas.get_dummies.html\">Parâmetros:</a> <br>\n",
    "`pandas.get_dummies(data, prefix=None, prefix_sep='_', dummy_na=False, columns=None, sparse=False, drop_first=False)`"
   ]
  },
  {
   "cell_type": "code",
   "execution_count": null,
   "metadata": {},
   "outputs": [],
   "source": []
  },
  {
   "cell_type": "markdown",
   "metadata": {},
   "source": [
    "### Variáveis numéricas -> categóricas\n",
    "\n",
    "Neste caso criamos grupos para representar nossas variáveis numéricas. Um exemplo é quando convertemos a idade das pessoas em grupos de crianças, jovens, adultos e idosos.\n",
    "\n",
    "#### `.cut()`\n",
    "\n",
    "O método `.cut()` ordena os dados, separa em bins e computa para cada linha do df qual é o grupo que ela pertence. O `.cut()` automaticamente define como serão os bins, ou seja, onde serão feitas as quebras, de tal forma que esses grupos estejam espaçados uniformemente indo do menor valor encontrado até o maior. Com isso teremos quebras uniformemente espaçadas mas com quantidades distintas de amostras em cada um dos grupos criados.\n",
    "\n",
    "Ele é muito utilizado para **transformar variáveis contínuas em categóricas**. Por exemplo, podemos converter o valor númerico da idade em grupos de criança, jovem, adulto e idoso.\n",
    "<br><br>\n",
    "<a href='https://pandas.pydata.org/docs/reference/api/pandas.cut.html'>Parâmetros:</a> <br>\n",
    "`pandas.cut(x, bins, right=True, labels=None, retbins=False, precision=3, include_lowest=False, duplicates='raise', ordered=True)`"
   ]
  },
  {
   "cell_type": "markdown",
   "metadata": {},
   "source": [
    "Ao informar quantidade de grupos o pd.cut() escolhe os bins com o mesmo tamanho de janela :\n"
   ]
  },
  {
   "cell_type": "code",
   "execution_count": null,
   "metadata": {},
   "outputs": [],
   "source": []
  },
  {
   "cell_type": "markdown",
   "metadata": {},
   "source": [
    "Podemos passar o nome dos grupos e transformar a variável numérica diretamente em categórica utilizando o parâmetro `labels`.\n"
   ]
  },
  {
   "cell_type": "code",
   "execution_count": null,
   "metadata": {},
   "outputs": [],
   "source": []
  },
  {
   "cell_type": "markdown",
   "metadata": {},
   "source": [
    "Ao invés de indicarmos a quantidade de grupos podemos passar uma lista com os valores de início e fim dos bins:"
   ]
  },
  {
   "cell_type": "code",
   "execution_count": null,
   "metadata": {},
   "outputs": [],
   "source": []
  },
  {
   "cell_type": "markdown",
   "metadata": {},
   "source": [
    "<a href='https://towardsdatascience.com/discretisation-using-decision-trees-21910483fa4b'>Discretização utilizando decision trees</a>"
   ]
  },
  {
   "cell_type": "markdown",
   "metadata": {},
   "source": [
    "#### `.qcut()`\n",
    "O `pd.qcut()` é utilizado quando queremos discretizar nossos dados em quantis, de forma a termos uma mesma quantidade de valores em cada grupo. Ao informar a quantidade de grupos o `pd.qcut()` ele automaticamente escolhe os bins para conseguir manter essa proporção equilibrada entre os grupos.\n",
    "\n",
    "#### `.cut()` x `.qcut()`\n",
    "   * O comando `.cut()` cria **caixas equidistantes**, mas a **frequência** das amostras é **desigual** em cada caixa\n",
    "   * O comando `.qcut()` cria **caixas de tamanhos desiguais**, mas a **frequência** das amostras é **igual** em cada caixa.\n",
    "\n",
    "<br>\n",
    "\n",
    "[Parâmetros](https://pandas.pydata.org/docs/reference/api/pandas.qcut.html)\n",
    "<br>\n",
    "`pandas.qcut(x, q, labels=None, retbins=False, precision=3, duplicates='raise')`"
   ]
  },
  {
   "cell_type": "code",
   "execution_count": null,
   "metadata": {
    "scrolled": true
   },
   "outputs": [],
   "source": []
  },
  {
   "cell_type": "markdown",
   "metadata": {},
   "source": [
    "## Material de aprofundamento\n",
    "\n",
    "Uma biblioteca interessante para visualizarmos dados faltantes é a `missigno`."
   ]
  },
  {
   "cell_type": "code",
   "execution_count": null,
   "metadata": {},
   "outputs": [],
   "source": [
    "import missingno as msno\n",
    "import matplotlib.pyplot as plt\n",
    "\n",
    "msno.matrix(df)\n",
    "plt.figure(figsize = (15,9))\n",
    "plt.show()"
   ]
  },
  {
   "cell_type": "markdown",
   "metadata": {},
   "source": [
    "## Exercícios"
   ]
  },
  {
   "cell_type": "markdown",
   "metadata": {},
   "source": [
    "1. Converta os países do dataframe abaixo para variáveis dummies eliminando a primeira coluna e utilizando 'Country' como prefixo no nome das colunas."
   ]
  },
  {
   "cell_type": "code",
   "execution_count": null,
   "metadata": {},
   "outputs": [],
   "source": [
    "ids = [11, 22, 33, 44, 55, 66, 77]\n",
    "countries = ['Brasil', 'Argentina', 'Peru', 'Bolívia', 'Uruguai']\n",
    "sales = [42, 53, 37, 45, 20]\n",
    "\n"
   ]
  },
  {
   "attachments": {
    "image.png": {
     "image/png": "[encoded data removed]"
    }
   },
   "cell_type": "markdown",
   "metadata": {},
   "source": [
    "2. Com o dataset do titanic, crie variáveis dummies para grupos de idades de 0 a 20, 21 a 40, 41 a 60 e 61 a 80.\n",
    "\n",
    "Exemplo de saída desejada:\n",
    "\n",
    "![image.png](attachment:image.png)"
   ]
  },
  {
   "cell_type": "code",
   "execution_count": null,
   "metadata": {},
   "outputs": [],
   "source": []
  },
  {
   "cell_type": "markdown",
   "metadata": {},
   "source": [
    "3. Considere os dados do arquivo \"german_credit.csv\" que contem dados de empréstimos realizados por um banco.<br>\n",
    "a. Tem nulos nesse df? Se sim, preencha os nulos da forma que o grupo decidir."
   ]
  },
  {
   "cell_type": "code",
   "execution_count": null,
   "metadata": {},
   "outputs": [],
   "source": []
  },
  {
   "cell_type": "markdown",
   "metadata": {},
   "source": [
    "b. Crie ranges para as variáveis de idade, quantidade de crédito e duração do empréstimo."
   ]
  },
  {
   "cell_type": "code",
   "execution_count": null,
   "metadata": {},
   "outputs": [],
   "source": []
  },
  {
   "cell_type": "markdown",
   "metadata": {},
   "source": [
    "c. Converta as variáveis categóricas em dummies, inclusive as criadas no item anterior."
   ]
  },
  {
   "cell_type": "code",
   "execution_count": null,
   "metadata": {
    "scrolled": true
   },
   "outputs": [],
   "source": []
  },
  {
   "cell_type": "markdown",
   "metadata": {},
   "source": [
    "4. Para esse exercício vamos considerar o dataset https://archive.ics.uci.edu/ml/datasets/automobile que traz a especificação de modelos de carros em 1985."
   ]
  },
  {
   "cell_type": "code",
   "execution_count": null,
   "metadata": {},
   "outputs": [],
   "source": [
    "# Define the headers since the data does not have any\n",
    "headers = [\"symboling\", \"normalized_losses\", \"make\", \"fuel_type\", \"aspiration\",\n",
    "           \"num_doors\", \"body_style\", \"drive_wheels\", \"engine_location\",\n",
    "           \"wheel_base\", \"length\", \"width\", \"height\", \"curb_weight\",\n",
    "           \"engine_type\", \"num_cylinders\", \"engine_size\", \"fuel_system\",\n",
    "           \"bore\", \"stroke\", \"compression_ratio\", \"horsepower\", \"peak_rpm\",\n",
    "           \"city_mpg\", \"highway_mpg\", \"price\"]\n",
    "\n",
    "# Read in the CSV file and convert \"?\" to NaN\n",
    "obj_df = pd.read_csv(\"https://archive.ics.uci.edu/ml/machine-learning-databases/autos/imports-85.data\",\n",
    "                  header=None, names=headers) #, na_values=\"?\" \n",
    "obj_df.head()"
   ]
  },
  {
   "cell_type": "markdown",
   "metadata": {},
   "source": [
    "a. Esse dataset possui nans? Se sim, o grupo precisa entrar em um acordo de como tratá-los."
   ]
  },
  {
   "cell_type": "code",
   "execution_count": null,
   "metadata": {},
   "outputs": [],
   "source": []
  },
  {
   "cell_type": "markdown",
   "metadata": {},
   "source": [
    "b. Esse dataset possui linhas duplicadas?"
   ]
  },
  {
   "cell_type": "code",
   "execution_count": null,
   "metadata": {},
   "outputs": [],
   "source": []
  },
  {
   "cell_type": "markdown",
   "metadata": {},
   "source": [
    "c. O consumo dos automóveis na cidade e rodovia, representados pelas colunas \"city-mpg\" e \"highway-mpg\", respectivamente, estão na unidade mpg (miles per gallon). Converta essas colunas para consumo em L/100km sabendo que a conversão é dada por:\n",
    "\n",
    "consumo_L_por_100km = 235 / consumo_mpg "
   ]
  },
  {
   "cell_type": "code",
   "execution_count": null,
   "metadata": {},
   "outputs": [],
   "source": []
  },
  {
   "cell_type": "markdown",
   "metadata": {},
   "source": [
    "d. Converta as colunas \"body_style\" e \"drive_wheels\" para variáveis dummies."
   ]
  },
  {
   "cell_type": "code",
   "execution_count": null,
   "metadata": {},
   "outputs": [],
   "source": []
  },
  {
   "cell_type": "markdown",
   "metadata": {},
   "source": [
    "## Referências:\n",
    "pd.melt(): <br>\n",
    "https://towardsdatascience.com/shape-tables-like-jelly-with-pandas-melt-and-pivot-f2e13e666d6 <br>\n",
    "https://pub.towardsai.net/understanding-pandas-melt-pd-melt-362954f8c125"
   ]
  },
  {
   "cell_type": "markdown",
   "metadata": {},
   "source": [
    "## [Avaliação anônima](https://forms.gle/tShxhxNYhvi6ZmQm8)"
   ]
  },
  {
   "cell_type": "markdown",
   "metadata": {},
   "source": []
  }
 ],
 "metadata": {
  "kernelspec": {
   "display_name": "Python 3 (ipykernel)",
   "language": "python",
   "name": "python3"
  },
  "language_info": {
   "codemirror_mode": {
    "name": "ipython",
    "version": 3
   },
   "file_extension": ".py",
   "mimetype": "text/x-python",
   "name": "python",
   "nbconvert_exporter": "python",
   "pygments_lexer": "ipython3",
   "version": "3.9.12"
  }
 },
 "nbformat": 4,
 "nbformat_minor": 2
}
