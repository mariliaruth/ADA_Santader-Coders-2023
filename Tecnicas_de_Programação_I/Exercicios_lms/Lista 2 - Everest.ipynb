{
 "cells": [
  {
   "attachments": {},
   "cell_type": "markdown",
   "metadata": {},
   "source": [
    "# Exercicios Lista 2 - Everest"
   ]
  },
  {
   "cell_type": "code",
   "execution_count": 1,
   "metadata": {},
   "outputs": [],
   "source": [
    "import pandas as pd"
   ]
  },
  {
   "attachments": {},
   "cell_type": "markdown",
   "metadata": {},
   "source": [
    "### 04 - Restaurantes Mais Próximos\n",
    "Perto da casa de João existem vários restaurantes que entregam comida e João deseja fazer um pedido, mas ele tem um compromisso marcado e não pode esperar muito tempo. Então João quer saber qual é o restaurante mais próximo da residência dele, utilizando a distância Euclidiana, cuja a fórmula é dado pela equação a seguir:\n",
    "```\n",
    " d(A, B) = \\sqrt{(x_{A, 1} - x_{B, 1})^{2} + (x_{A, 2} - x_{B, 2})^{2} + ... + (x_{A, n} - x_{B, n})^{2}}\n",
    "```\n",
    "Desenvolva uma função chamada ```restaurante_mais_proximo``` que irá receber como parâmetros respectivamente uma lista de coordenadas da casa do João e uma lista de 4 listas com as coordenadas dos restaurantes a verificar e o retorno da função deve ser o número referente ao restaurante mais próximo. Importante ressaltar que o número do restaurante começa pelo 1 e que em caso de empate, deve-se indicar o primeiro restaurante a apresentar a menor distância.\n",
    "\n",
    "Obs.: Importante explicitar a saída como um valor inteiro, ou seja, utilize o int() para converter o retorno."
   ]
  },
  {
   "cell_type": "code",
   "execution_count": 5,
   "metadata": {},
   "outputs": [],
   "source": [
    "import math\n",
    "def distancia_euclidiana(ponto1, ponto2):\n",
    "        return math.sqrt(sum((a - b) ** 2 for a, b in zip(ponto1, ponto2)))"
   ]
  },
  {
   "cell_type": "code",
   "execution_count": 8,
   "metadata": {},
   "outputs": [
    {
     "data": {
      "text/plain": [
       "40.70626487409524"
      ]
     },
     "execution_count": 8,
     "metadata": {},
     "output_type": "execute_result"
    }
   ],
   "source": [
    "#teste\n",
    "distancia_euclidiana([10,7,9,15],[9,1,45,33])"
   ]
  },
  {
   "cell_type": "code",
   "execution_count": 9,
   "metadata": {},
   "outputs": [],
   "source": [
    "def restaurante_mais_proximo(casa, restaurantes):\n",
    "    menor_distancia = float('inf')\n",
    "    restaurante_mais_prox = -1\n",
    "\n",
    "    for idx, restaurante in enumerate(restaurantes):\n",
    "        dist = math.sqrt(sum((a - b) ** 2 for a, b in zip(casa, restaurante)))\n",
    "        if dist < menor_distancia:\n",
    "            menor_distancia = dist\n",
    "            restaurante_mais_prox = idx\n",
    "    return int(restaurante_mais_prox)"
   ]
  },
  {
   "cell_type": "code",
   "execution_count": 10,
   "metadata": {},
   "outputs": [
    {
     "name": "stdout",
     "output_type": "stream",
     "text": [
      "2\n"
     ]
    }
   ],
   "source": [
    "# Teste\n",
    "entrada = {\n",
    "  \"casa\": [\n",
    "    0.42103931,\n",
    "    0.092845,\n",
    "    0.64838459\n",
    "  ],\n",
    "  \"restaurantes\": [\n",
    "    [\n",
    "      0.54884213,\n",
    "      0.25634315,\n",
    "      0.52710366\n",
    "    ],\n",
    "    [\n",
    "      0.39814683,\n",
    "      0.53127311,\n",
    "      0.30449767\n",
    "    ],\n",
    "    [\n",
    "      0.36531785,\n",
    "      0.10544186,\n",
    "      0.65775578\n",
    "    ],\n",
    "    [\n",
    "      0.14256171,\n",
    "      0.61038363,\n",
    "      0.57625647\n",
    "    ]\n",
    "  ]\n",
    "}\n",
    "\n",
    "casa_do_joao = entrada[\"casa\"]\n",
    "coordenadas_restaurantes = entrada[\"restaurantes\"]\n",
    "restaurante_mais_proximo_numero = restaurante_mais_proximo(casa_do_joao, coordenadas_restaurantes)\n",
    "print(restaurante_mais_proximo_numero)"
   ]
  },
  {
   "attachments": {},
   "cell_type": "markdown",
   "metadata": {},
   "source": [
    "### 05 Cálculo de IMC\n",
    "O Índice de Massa Corporal (IMC) é um coeficiente de referência para avaliar a saúde das pessoas de acordo com seu peso e altura, onde o IMC segue as seguintes faixas:\n",
    "```\n",
    "IMC\tClassificação\n",
    "<= 18,5\t1 - Abaixo do Peso\n",
    "entre 18,6 e 24,9\t2 - Peso Ideal\n",
    "entre 25,0 e 29,9\t3 - Sobrepeso\n",
    "entre 30,0 e 34,9\t4 - Obesidade Grau I\n",
    "entre 35,0 e 39,9\t5 - Obesidade Grau II\n",
    ">= 40,0\t6 - Obesidade Grau III\n",
    "```\n",
    "Dadas as faixas e respectivas classificações, desenvolva a função calculo_imc que terá como entrada respectivamente uma lista de pesos em kg e uma lista de alturas em cm de **20** pessoas; e deve calcular o IMC de cada uma delas de acordo com a fórmula ```$IMC = \\frac{peso(kg)}{altura^2(m)}$```. Por fim, calcular qual é a quantidade de pessoas em cada uma das faixas e devolver isto como resposta na forma de uma lista, onde os elementos são ordenados respectivamente segundo a ordem de classificação: ``` o primeiro elemento será o número de pessoas na classificação````\n",
    "``` 1 - Abaixo do Peso, e assim por diante.```\n",
    "\n",
    "```\n",
    "def calculo_imc(pesos, alturas)\n",
    "```"
   ]
  },
  {
   "cell_type": "code",
   "execution_count": 14,
   "metadata": {},
   "outputs": [],
   "source": [
    "def calculo_imc(pesos, alturas):\n",
    "    classificacoes = [0, 0, 0, 0, 0, 0] \n",
    "    for peso, altura in zip(pesos, alturas):\n",
    "        altura_metros = altura / 100 \n",
    "        imc = peso / (altura_metros ** 2)\n",
    "\n",
    "        if imc <= 18.5:\n",
    "            classificacoes[0] += 1\n",
    "        elif imc <= 24.9:\n",
    "            classificacoes[1] += 1\n",
    "        elif imc <= 29.9:\n",
    "            classificacoes[2] += 1\n",
    "        elif imc <= 34.9:\n",
    "            classificacoes[3] += 1\n",
    "        elif imc <= 39.9:\n",
    "            classificacoes[4] += 1\n",
    "        else:\n",
    "            classificacoes[5] += 1\n",
    "\n",
    "    return classificacoes"
   ]
  },
  {
   "cell_type": "code",
   "execution_count": 15,
   "metadata": {},
   "outputs": [
    {
     "name": "stdout",
     "output_type": "stream",
     "text": [
      "Quantidade de pessoas em cada classificação: [0, 8, 12, 0, 0, 0]\n"
     ]
    }
   ],
   "source": [
    "# Exemplo de uso\n",
    "pesos = [70, 55, 85, 68, 75, 92, 62, 78, 61, 80, 72, 63, 88, 67, 95, 58, 71, 83, 77, 64]\n",
    "alturas = [170, 165, 180, 160, 173, 185, 158, 168, 157, 175, 170, 162, 178, 165, 190, 163, 169, 177, 172, 160]\n",
    "resultados = calculo_imc(pesos, alturas)\n",
    "print(\"Quantidade de pessoas em cada classificação:\", resultados)\n"
   ]
  },
  {
   "cell_type": "code",
   "execution_count": 19,
   "metadata": {},
   "outputs": [
    {
     "data": {
      "text/plain": [
       "[1, 3, 3, 2, 3, 8]"
      ]
     },
     "execution_count": 19,
     "metadata": {},
     "output_type": "execute_result"
    }
   ],
   "source": [
    "entradas={\n",
    "  \"pesos\": [\n",
    "    132,\n",
    "    84,\n",
    "    67,\n",
    "    107,\n",
    "    124,\n",
    "    66,\n",
    "    100,\n",
    "    96,\n",
    "    59,\n",
    "    98,\n",
    "    51,\n",
    "    132,\n",
    "    113,\n",
    "    121,\n",
    "    84,\n",
    "    121,\n",
    "    83,\n",
    "    126,\n",
    "    111,\n",
    "    106\n",
    "  ],\n",
    "  \"alturas\": [\n",
    "    164,\n",
    "    168,\n",
    "    166,\n",
    "    161,\n",
    "    173,\n",
    "    180,\n",
    "    165,\n",
    "    171,\n",
    "    173,\n",
    "    176,\n",
    "    168,\n",
    "    168,\n",
    "    166,\n",
    "    174,\n",
    "    180,\n",
    "    179,\n",
    "    174,\n",
    "    176,\n",
    "    177,\n",
    "    162\n",
    "  ]\n",
    "}\n",
    "calculo_imc(entradas[\"pesos\"], entradas[\"alturas\"])"
   ]
  },
  {
   "cell_type": "code",
   "execution_count": 17,
   "metadata": {},
   "outputs": [],
   "source": [
    "expectativa=[\n",
    "  5,\n",
    "  15,\n",
    "  15,\n",
    "  10,\n",
    "  15,\n",
    "  40\n",
    "]"
   ]
  },
  {
   "cell_type": "code",
   "execution_count": 20,
   "metadata": {},
   "outputs": [
    {
     "data": {
      "text/plain": [
       "20"
      ]
     },
     "execution_count": 20,
     "metadata": {},
     "output_type": "execute_result"
    }
   ],
   "source": [
    "len(entradas[\"pesos\"])"
   ]
  },
  {
   "cell_type": "code",
   "execution_count": null,
   "metadata": {},
   "outputs": [],
   "source": []
  },
  {
   "attachments": {},
   "cell_type": "markdown",
   "metadata": {},
   "source": [
    "### 06 - Ordenando pelo MMC\n",
    "O Mínimo Múltiplo Comum (MMC) de dois ou mais números é definido pelo múltiplo comum corresponde a todos os números observados. Por exemplo, o MMC entre 6 e 10 é o 30 devido aos número 2, 3 e 5. O objetivo deste exercício, além de calcular o MMC será ordenar uma lista utilizando o MMC. Assim, desenvolva a função ordenar_mmc, que como entrada irá receber uma lista de números e um número a parte de referência. A função deve calcular O MMC de cada um dos números da lista em relação ao de referência e em seguida ordenar os números originais de acordo com o MMC do menor valor para o maior, como o exemplo a seguir:\n",
    "\n",
    "**lista de entrada**\n",
    "```lista = [12, 8, 10]```\n",
    "\n",
    "**numero de referência**\n",
    "```ref = 4```\n",
    "\n",
    "**utilizando a função**\n",
    "```print(ordenar_mmc(lista, ref))```\n",
    "\n",
    "**Resultado da função, pois o mmcs = [12, 8, 20]**\n",
    "```[8, 12, 10]```"
   ]
  },
  {
   "cell_type": "code",
   "execution_count": 1,
   "metadata": {},
   "outputs": [],
   "source": [
    "import math\n",
    "\n",
    "def ordenar_mmc(lista, ref):\n",
    "    mmcs = [(num, num * ref // math.gcd(num, ref)) for num in lista]\n",
    "    mmcs.sort(key=lambda x: x[1])\n",
    "    lista_ordenada = [num for num, _ in mmcs]\n",
    "    return lista_ordenada"
   ]
  },
  {
   "cell_type": "code",
   "execution_count": 2,
   "metadata": {},
   "outputs": [
    {
     "name": "stdout",
     "output_type": "stream",
     "text": [
      "[8, 12, 10]\n"
     ]
    }
   ],
   "source": [
    "lista = [12, 8, 10]\n",
    "ref = 4\n",
    "resultado = ordenar_mmc(lista, ref)\n",
    "print(resultado)"
   ]
  },
  {
   "attachments": {},
   "cell_type": "markdown",
   "metadata": {},
   "source": [
    "### 07 - Palíndromo\n",
    "Palíndromo é a característica de uma palavra ser igualmente escrita na ordem normal e reversa, como por exemplo ana e arara. O objetivo deste exercício é criar uma função nomeada palindromo, onde a função recebe uma lista de palavras e a saída será a quantidade de palindromos dentro da lista. Lembre-se de avaliar as palavras independentemente da forma como estiver grafada.\n",
    "\n",
    "´´´\n",
    "def palindromo(lista):\n",
    "\tpass\n",
    "´´´\n",
    "\n"
   ]
  },
  {
   "cell_type": "code",
   "execution_count": 5,
   "metadata": {},
   "outputs": [],
   "source": [
    "def palindromo(lista):\n",
    "    count = 0\n",
    "    for word in lista:\n",
    "        # Remove espaços em branco e converte para letras minúsculas\n",
    "        cleaned_word = word.replace(\" \", \"\").lower()\n",
    "        # Verifica se a palavra é um palíndromo comparando com sua reversão\n",
    "        if cleaned_word == cleaned_word[::-1]:\n",
    "            count += 1\n",
    "    return count\n"
   ]
  },
  {
   "cell_type": "code",
   "execution_count": 6,
   "metadata": {},
   "outputs": [
    {
     "name": "stdout",
     "output_type": "stream",
     "text": [
      "Quantidade de palíndromos na lista: 4\n"
     ]
    }
   ],
   "source": [
    "palavras = [\"ana\", \"arara\", \"casa\", \"Ame a ema\", \"radar\"]\n",
    "quantidade_palindromos = palindromo(palavras)\n",
    "print(f\"Quantidade de palíndromos na lista: {quantidade_palindromos}\")"
   ]
  },
  {
   "attachments": {},
   "cell_type": "markdown",
   "metadata": {},
   "source": [
    "#### 08 - Calculadora de Horas\n",
    "Amanda trabalha como desenvolvedora Python em uma Consultoria em TI e recebe o valor de 25 reais por hora, sendo que em média ela trabalha em torno de 8 horas por dia. Para facilitar o acompanhamento de Amanda, desenvolva uma função chamada calculadora_horas que irá receber como entrada respectivamente duas marcações de tempo (com data e hora no formato string) time1 e time2, sendo time2 sempre posterior ao time1. A saída da função será respectivamente uma lista com dois valores float: o primeiro é o total de horas trabalhadas; e o segundo é o valor total que será recebido por Amanda.\n",
    "\n",
    "Observação: A resposta de saída da função deve ser uma lista com os respectivos valores indicados no enunciado, arredondados em 2 casas decimais.\n",
    "\n",
    "```\n",
    "def calculadora_horas(time1, time2):\n",
    "\tpass\n",
    "```\n",
    "\n",
    "\n",
    "Entrada:\n",
    "\n",
    "```\n",
    "{\n",
    "  \"time1\": \"2022-11-14 8:37\",\n",
    "  \"time2\": \"2022-11-15 17:04\"\n",
    "}\n",
    "```\n",
    "\n",
    "Expectativa:\n",
    "````\n",
    "[\n",
    "  7.62,\n",
    "  190.42\n",
    "]\n",
    "````\n"
   ]
  },
  {
   "cell_type": "code",
   "execution_count": 33,
   "metadata": {},
   "outputs": [],
   "source": [
    "from datetime import datetime\n",
    "\n",
    "def calculadora_horas(dados):\n",
    "    # Formato da string de data e hora\n",
    "    formato = \"%Y-%m-%d %H:%M\"\n",
    "    dados_values_list=list(dados.values())\n",
    "\n",
    "    # Convertendo as strings para objetos datetime\n",
    "    data_hora1 = datetime.strptime(dados_values_list[0], formato)\n",
    "    data_hora2 = datetime.strptime(dados_values_list[1], formato)\n",
    "\n",
    "    # Calculando a diferença de tempo em horas\n",
    "    diferenca_tempo = (data_hora2 - data_hora1).total_seconds() / 3600\n",
    "\n",
    "    # Calculando o valor total a ser recebido\n",
    "    valor_hora = 25  # Valor por hora\n",
    "    valor_total = round(diferenca_tempo * valor_hora, 2)\n",
    "\n",
    "    return [round(diferenca_tempo, 2), valor_total]\n"
   ]
  },
  {
   "cell_type": "code",
   "execution_count": 34,
   "metadata": {},
   "outputs": [
    {
     "name": "stdout",
     "output_type": "stream",
     "text": [
      "Total de horas trabalhadas: 32.45 horas\n",
      "Valor total a ser recebido: R$811.25\n"
     ]
    }
   ],
   "source": [
    "# Exemplo\n",
    "entrada = {\n",
    "  \"time1\": \"2022-11-14 8:37\",\n",
    "  \"time2\": \"2022-11-15 17:04\"\n",
    "}\n",
    "\n",
    "\n",
    "resultado = calculadora_horas(entrada)\n",
    "print(f\"Total de horas trabalhadas: {resultado[0]} horas\")\n",
    "print(f\"Valor total a ser recebido: R${resultado[1]}\")\n",
    "\n"
   ]
  },
  {
   "cell_type": "markdown",
   "metadata": {},
   "source": []
  },
  {
   "cell_type": "code",
   "execution_count": null,
   "metadata": {},
   "outputs": [],
   "source": []
  }
 ],
 "metadata": {
  "kernelspec": {
   "display_name": "Python 3 (ipykernel)",
   "language": "python",
   "name": "python3"
  },
  "language_info": {
   "codemirror_mode": {
    "name": "ipython",
    "version": 3
   },
   "file_extension": ".py",
   "mimetype": "text/x-python",
   "name": "python",
   "nbconvert_exporter": "python",
   "pygments_lexer": "ipython3",
   "version": "3.10.12"
  },
  "orig_nbformat": 4
 },
 "nbformat": 4,
 "nbformat_minor": 2
}
