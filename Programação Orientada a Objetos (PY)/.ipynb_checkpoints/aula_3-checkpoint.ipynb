{
 "cells": [
  {
   "cell_type": "markdown",
   "metadata": {},
   "source": [
    "# Programação Orientada a Objetos - Aula 3"
   ]
  },
  {
   "cell_type": "markdown",
   "metadata": {},
   "source": [
    "Implementar um sistema de controle de conta corrente bancária.\n",
    "\n",
    "A conta bancária possui, no mínimo, os seguintes atributos:\n",
    "\n",
    "1) Agência (str)\n",
    "\n",
    "2) Conta (str)\n",
    "\n",
    "3) Saldo (float)\n",
    "\n",
    "4) Nome do titular (str)\n",
    "\n",
    "5) Data de nascimento do titular (date)\n",
    "\n",
    "6) CPF do titular (str)\n",
    "\n",
    "Todas as contas correntes iniciam sem saldo (R$ 0,00). Os atributos não devem ser acessados diretamente (observar a melhor forma de garantir o acesso quando necessário). O nome do titular pode ser alterado após o cadastro do titular.\n",
    "\n",
    "Nessa conta corrente deve ser possível realizar:\n",
    "\n",
    "1) Depósitos\n",
    "\n",
    "2) Pagamentos (basta informar o valor a ser pago e debitar da conta)\n",
    "\n",
    "3) Transferências (de uma conta para outra conta)\n",
    "\n",
    "4) Saques \n",
    "\n",
    "5) Extrato (visualiza as operações realizadas na conta, idependente de dia, mês, etc)\n",
    "\n",
    "No extrato bancário deve constar:\n",
    "\n",
    "1) Número da Agência\n",
    "\n",
    "2) Número da conta\n",
    "\n",
    "3) Nome do titular\n",
    "\n",
    "4) CPF do titular\n",
    "\n",
    "5) Saldo final\n",
    "\n",
    "6) Movimentações ('E' para entrada, 'S' para saída)\n",
    "\n",
    "Criar um menu no console para navegar entre as opções desejadas.\n"
   ]
  },
  {
   "cell_type": "code",
   "execution_count": null,
   "metadata": {},
   "outputs": [],
   "source": [
    "class Titular():\n",
    "    def"
   ]
  }
 ],
 "metadata": {
  "kernelspec": {
   "display_name": "Python 3 (ipykernel)",
   "language": "python",
   "name": "python3"
  },
  "language_info": {
   "codemirror_mode": {
    "name": "ipython",
    "version": 3
   },
   "file_extension": ".py",
   "mimetype": "text/x-python",
   "name": "python",
   "nbconvert_exporter": "python",
   "pygments_lexer": "ipython3",
   "version": "3.9.12"
  },
  "varInspector": {
   "cols": {
    "lenName": 16,
    "lenType": 16,
    "lenVar": 40
   },
   "kernels_config": {
    "python": {
     "delete_cmd_postfix": "",
     "delete_cmd_prefix": "del ",
     "library": "var_list.py",
     "varRefreshCmd": "print(var_dic_list())"
    },
    "r": {
     "delete_cmd_postfix": ") ",
     "delete_cmd_prefix": "rm(",
     "library": "var_list.r",
     "varRefreshCmd": "cat(var_dic_list()) "
    }
   },
   "types_to_exclude": [
    "module",
    "function",
    "builtin_function_or_method",
    "instance",
    "_Feature"
   ],
   "window_display": false
  }
 },
 "nbformat": 4,
 "nbformat_minor": 2
}
