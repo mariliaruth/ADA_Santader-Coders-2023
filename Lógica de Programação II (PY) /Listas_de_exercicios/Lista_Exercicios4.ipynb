{
 "cells": [
  {
   "attachments": {},
   "cell_type": "markdown",
   "metadata": {},
   "source": [
    "# Lista de Exercicios 04"
   ]
  },
  {
   "attachments": {},
   "cell_type": "markdown",
   "metadata": {},
   "source": [
    "## 01 Validação por blocos try except - parte 1\n"
   ]
  },
  {
   "attachments": {},
   "cell_type": "markdown",
   "metadata": {},
   "source": [
    "Quando implementamos um software, precisamos pensar nas diferentes situações que podem ocorrer nele, inclusive possíveis falhas. Uma falha que não seja detectada previamente pode resultar em uma interrupção abrupta do programa e esta pode ocorrer de diferentes formas.\n",
    "\n",
    "Por exemplo, suponhamos que um programa necessite de arquitos externos para ser executado e um desses arquivos tenha sido movido para outro diretório, porém, o programa esteja fazendo a leitura do arquivo no diretório antigo. Quando o programa for executado, ele não encontrará o arquivo e sua execução pode ser interrompida. Um outro exemplo são operações matemáticas não permitidas, como uma divisão por zero.\n",
    "\n",
    "Para evitar isso, utilizamos blocos try-except a fim de tratar possíveis erros e evitar a quebra do programa. Sabendo disso, implemente a função divide_dois_numeros(), que recebe dois números x e y e retorna a divisão do número x por y. Para garantir o uso correto, adicione um bloco try-except nesta função de forma que, caso y seja igual a zero, acione uma cláusula except ZeroDivisionError.\n",
    "\n",
    "````\n",
    "def divide_dois_numeros(x,y):\n",
    "\ttry:\n",
    "\t\t#executar operação \n",
    "\texcept ###chama exceção\n",
    "\t\traise #chama exceção\n",
    "````"
   ]
  },
  {
   "cell_type": "code",
   "execution_count": 17,
   "metadata": {},
   "outputs": [
    {
     "name": "stdout",
     "output_type": "stream",
     "text": [
      "zero não pode ser divisor\n"
     ]
    },
    {
     "ename": "ZeroDivisionError",
     "evalue": "division by zero",
     "output_type": "error",
     "traceback": [
      "\u001b[0;31m---------------------------------------------------------------------------\u001b[0m",
      "\u001b[0;31mZeroDivisionError\u001b[0m                         Traceback (most recent call last)",
      "Cell \u001b[0;32mIn[17], line 11\u001b[0m\n\u001b[1;32m      7\u001b[0m \t\u001b[39mexcept\u001b[39;00m \u001b[39mTypeError\u001b[39;00m:\n\u001b[1;32m      8\u001b[0m \t\t\u001b[39mprint\u001b[39m(\u001b[39m\"\u001b[39m\u001b[39margumentos invalidos\u001b[39m\u001b[39m\"\u001b[39m)\n\u001b[0;32m---> 11\u001b[0m teste\u001b[39m=\u001b[39mdivide_dois_numeros(\u001b[39m3\u001b[39;49m,\u001b[39m0\u001b[39;49m)\n",
      "Cell \u001b[0;32mIn[17], line 3\u001b[0m, in \u001b[0;36mdivide_dois_numeros\u001b[0;34m(x, y)\u001b[0m\n\u001b[1;32m      1\u001b[0m \u001b[39mdef\u001b[39;00m \u001b[39mdivide_dois_numeros\u001b[39m(x,y):\n\u001b[1;32m      2\u001b[0m \t\u001b[39mtry\u001b[39;00m:\n\u001b[0;32m----> 3\u001b[0m \t\t\u001b[39mreturn\u001b[39;00m x\u001b[39m/\u001b[39;49my\n\u001b[1;32m      4\u001b[0m \t\u001b[39mexcept\u001b[39;00m \u001b[39mZeroDivisionError\u001b[39;00m:\n\u001b[1;32m      5\u001b[0m \t\t\u001b[39mprint\u001b[39m(\u001b[39m\"\u001b[39m\u001b[39mzero não pode ser divisor\u001b[39m\u001b[39m\"\u001b[39m)\n",
      "\u001b[0;31mZeroDivisionError\u001b[0m: division by zero"
     ]
    }
   ],
   "source": [
    "def divide_dois_numeros(x,y):\n",
    "\ttry:\n",
    "\t\treturn x/y\n",
    "\texcept ZeroDivisionError:\n",
    "\t\tprint(\"zero não pode ser divisor\")\n",
    "\t\traise \n",
    "\texcept TypeError:\n",
    "\t\tprint(\"argumentos invalidos\")\n",
    "\n",
    "\n",
    "teste=divide_dois_numeros(3,0)"
   ]
  },
  {
   "attachments": {},
   "cell_type": "markdown",
   "metadata": {},
   "source": [
    "## 02 Uso de Arquivos JSON - parte 1"
   ]
  },
  {
   "attachments": {},
   "cell_type": "markdown",
   "metadata": {},
   "source": [
    "No python, principalmente em aplicações web, é muito comum utilizarmos o formato JSON. Essa linguagem possui sintaxe semelhante a um dicionário e torna o entendimento do arquivo legível para humanos.\n",
    "\n",
    "Em um arquivo JSON, podemos ter estruturas que variam desde estruturas semelhantes a dicionários simples como dicionários compostos e diferentes estruturas agregadas (listas e tuplas, por exemplo).\n",
    "\n",
    "Sabendo disso, crie a função converte_para_json() que recebe um JSON na forma de string como parâmetro e internamente converte esta string para um objeto do tipo JSON ou dicionário. Adicionalmente, a função recebe um segundo argumento que é alguma das chaves do JSON/dicionário. No fim, a função deve retornar o valor correspondente à chave que foi passada como segundo argumento.\n",
    "\n",
    "Obs.: Importar o módulo json pode ser útil.\n",
    "\n",
    "\n",
    "```\n",
    "def converte_para_json(json_string, chave):\n",
    "\tpass\n",
    "```"
   ]
  },
  {
   "cell_type": "code",
   "execution_count": 19,
   "metadata": {},
   "outputs": [
    {
     "name": "stdout",
     "output_type": "stream",
     "text": [
      "New York\n"
     ]
    }
   ],
   "source": [
    "import json\n",
    "\n",
    "def converte_para_json(json_string, chave):\n",
    "    json_object = json.loads(json_string)\n",
    "    valor = json_object[chave]\n",
    "    return valor\n",
    "\n",
    "# Example of use:\n",
    "json_string = '{\"name\": \"John\", \"age\": 30, \"city\": \"New York\"}'\n",
    "chave_procurada = \"city\"\n",
    "resultado_valor = converte_para_json(json_string, chave_procurada)\n",
    "print(resultado_valor)\n",
    "\n"
   ]
  },
  {
   "attachments": {},
   "cell_type": "markdown",
   "metadata": {},
   "source": [
    "## 03 Validação por blocos try except - parte 6"
   ]
  },
  {
   "attachments": {},
   "cell_type": "markdown",
   "metadata": {},
   "source": [
    "Quando implementamos um software, precisamos pensar nas diferentes situações que podem ocorrer nele, inclusive possíveis falhas. Uma falha que não seja detectada previamente pode resultar em uma interrupção abrupta do programa e esta pode ocorrer de n formas.\n",
    "\n",
    "Por exemplo, suponhamos que um programa necessite de arquitos externos para ser executado e um desses arquivos tenha sido movido para outro diretório, porém, o programa esteja fazendo a leitura do arquivo no diretório antigo. Quando o programa for executado, ele não encontrará o arquivo e sua execução pode ser interrompida. Um outro exemplo são operações matemáticas não permitidas, como uma divisão por zero.\n",
    "\n",
    "Para evitar isso, utilizamos blocos try-except afim de tratar possíveis erros e evitar quebra do programa. Um erro comum de ocorrer é alguma variável do programa estar vazia em um dado momento quando não deveria estar. Sabendo disso, faça um programa que lance uma exceção TypeError caso uma variável seja None.\n",
    "\n",
    "````\n",
    "def valida_variavel:\n",
    "\tpass\n",
    "```"
   ]
  },
  {
   "cell_type": "code",
   "execution_count": 32,
   "metadata": {},
   "outputs": [
    {
     "name": "stdout",
     "output_type": "stream",
     "text": [
      "42\n"
     ]
    },
    {
     "ename": "TypeError",
     "evalue": "A variável não pode ser None.",
     "output_type": "error",
     "traceback": [
      "\u001b[0;31m---------------------------------------------------------------------------\u001b[0m",
      "\u001b[0;31mTypeError\u001b[0m                                 Traceback (most recent call last)",
      "Cell \u001b[0;32mIn[32], line 12\u001b[0m\n\u001b[1;32m      9\u001b[0m variavel_2 \u001b[39m=\u001b[39m \u001b[39mNone\u001b[39;00m\n\u001b[1;32m     11\u001b[0m valida_variavel(variavel_1)  \u001b[39m# No output, variable is not None\u001b[39;00m\n\u001b[0;32m---> 12\u001b[0m valida_variavel(variavel_2)  \u001b[39m# Output: A variável não pode ser None.\u001b[39;00m\n",
      "Cell \u001b[0;32mIn[32], line 3\u001b[0m, in \u001b[0;36mvalida_variavel\u001b[0;34m(variavel)\u001b[0m\n\u001b[1;32m      1\u001b[0m \u001b[39mdef\u001b[39;00m \u001b[39mvalida_variavel\u001b[39m(variavel):\n\u001b[1;32m      2\u001b[0m     \u001b[39mif\u001b[39;00m variavel \u001b[39mis\u001b[39;00m \u001b[39mNone\u001b[39;00m:\n\u001b[0;32m----> 3\u001b[0m         \u001b[39mraise\u001b[39;00m \u001b[39mTypeError\u001b[39;00m(\u001b[39m\"\u001b[39m\u001b[39mA variável não pode ser None.\u001b[39m\u001b[39m\"\u001b[39m)\n\u001b[1;32m      4\u001b[0m     \u001b[39melse\u001b[39;00m:\n\u001b[1;32m      5\u001b[0m         \u001b[39mprint\u001b[39m(variavel)\n",
      "\u001b[0;31mTypeError\u001b[0m: A variável não pode ser None."
     ]
    }
   ],
   "source": [
    "def valida_variavel(variavel):\n",
    "    if variavel is None:\n",
    "        raise TypeError(\"A variável não pode ser None.\")\n",
    "    else:\n",
    "        print(variavel)\n",
    "\n",
    "# Example of use:\n",
    "variavel_1 = 42\n",
    "variavel_2 = None\n",
    "\n",
    "valida_variavel(variavel_1)  # No output, variable is not None\n",
    "valida_variavel(variavel_2)  # Output: A variável não pode ser None.\n"
   ]
  },
  {
   "attachments": {},
   "cell_type": "markdown",
   "metadata": {},
   "source": [
    "## 04 Uso de Arquivos JSON - parte 2"
   ]
  },
  {
   "attachments": {},
   "cell_type": "markdown",
   "metadata": {},
   "source": [
    "No python, principalmente em aplicações web, é muito comum utilizarmos o formato JSON. Essa linguagem possui sintaxe semelhante a um dicionário e torna o entendimento do arquivo legível para humanos.\n",
    "\n",
    "Em um arquivo JSON, podemos ter estruturas que variam desde estruturas semelhantes a dicionários simples como dicionários compostos e diferentes estruturas agregadas (listas e tuplas, por exemplo).\n",
    "\n",
    "Sabendo disso, crie uma função que recebe uma lista de chaves, uma lista de valores (respectivamente) e cria um json a partir dessas listas. A função deverá retornar uma string que representa o json criado.\n",
    "\n",
    "````\n",
    "def cria_arquivo_json(chaves, valores):\n",
    "\tpass\n",
    "````\n"
   ]
  },
  {
   "cell_type": "code",
   "execution_count": 33,
   "metadata": {},
   "outputs": [],
   "source": [
    "import json\n",
    "def cria_arquivo_json(chaves, valores):\n",
    "\tjson_dict = dict(zip(chaves, valores))\n",
    "\treturn json.dumps(json_dict)"
   ]
  },
  {
   "attachments": {},
   "cell_type": "markdown",
   "metadata": {},
   "source": [
    "## 05 Validação por blocos try except - parte 5\n"
   ]
  },
  {
   "attachments": {},
   "cell_type": "markdown",
   "metadata": {},
   "source": [
    "Quando implementamos um software, precisamos pensar nas diferentes situações que podem ocorrer nele, inclusive possíveis falhas. Uma falha que não seja detectada previamente pode resultar em uma interrupção abrupta do programa e esta pode ocorrer de diferentes formas.\n",
    "\n",
    "Por exemplo, suponhamos que um programa necessite de arquitos externos para ser executado e um desses arquivos tenha sido movido para outro diretório, porém, o programa esteja fazendo a leitura do arquivo no diretório antigo. Quando o programa for executado, ele não encontrará o arquivo e sua execução pode ser interrompida. Um outro exemplo são operações matemáticas não permitidas, como uma divisão por zero.\n",
    "\n",
    "Para evitar isso, utilizamos blocos try-except a fim de tratar possíveis erros e evitar a quebra do programa. Podemos utilizar esses blocos juntamente também de estruturas if-else. Sabendo disso, crie uma função verifica_extensao() que recebe um caminho de um arquivo a ser lido por um programa e valide a extensão deste arquivo. Será considerada uma extensão válida os arquivos nos formatos .jpg, .jpeg e .png, os demais deverão lançar uma exceção Exception(\"Formato inválido\").\n",
    "\n",
    "````\n",
    "def verifica_extensao(path):\n",
    "\tpass\n",
    "````"
   ]
  },
  {
   "cell_type": "code",
   "execution_count": 37,
   "metadata": {},
   "outputs": [],
   "source": [
    "def verifica_extensao(path):\n",
    "  try:\n",
    "    extensao_arquivo = path.split(\".\")[-1].lower()\n",
    "    extensao_valida=[\"jpg\", \"jpeg\", \"png\"]\n",
    "    if extensao_arquivo in extensao_valida:\n",
    "      print(\"extensão válida\")\n",
    "    else:\n",
    "      raise Exception(\"Formato inválido\")\n",
    "  except Exception as e:\n",
    "    print(e)\n"
   ]
  },
  {
   "cell_type": "code",
   "execution_count": 40,
   "metadata": {},
   "outputs": [],
   "source": [
    "def verifica_extensao(path):\n",
    "  try:\n",
    "    extensao_arquivo = path.split(\".\")[-1].lower()\n",
    "    extensao_valida=[\"jpg\", \"jpeg\", \"png\"]\n",
    "    if extensao_arquivo in extensao_valida:\n",
    "      print(\"extensão válida\")\n",
    "    else:\n",
    "      raise Exception(\"Formato inválido\")\n",
    "  except Exception:\n",
    "\t  raise Exception(\"Formato inválido\")"
   ]
  },
  {
   "cell_type": "code",
   "execution_count": 41,
   "metadata": {},
   "outputs": [
    {
     "name": "stdout",
     "output_type": "stream",
     "text": [
      "extensão válida\n"
     ]
    }
   ],
   "source": [
    "file_path = \"example.jpg\"\n",
    "verifica_extensao(file_path)"
   ]
  },
  {
   "cell_type": "code",
   "execution_count": 42,
   "metadata": {},
   "outputs": [
    {
     "ename": "Exception",
     "evalue": "Formato inválido",
     "output_type": "error",
     "traceback": [
      "\u001b[0;31m---------------------------------------------------------------------------\u001b[0m",
      "\u001b[0;31mException\u001b[0m                                 Traceback (most recent call last)",
      "Cell \u001b[0;32mIn[40], line 8\u001b[0m, in \u001b[0;36mverifica_extensao\u001b[0;34m(path)\u001b[0m\n\u001b[1;32m      7\u001b[0m   \u001b[39melse\u001b[39;00m:\n\u001b[0;32m----> 8\u001b[0m     \u001b[39mraise\u001b[39;00m \u001b[39mException\u001b[39;00m(\u001b[39m\"\u001b[39m\u001b[39mFormato inválido\u001b[39m\u001b[39m\"\u001b[39m)\n\u001b[1;32m      9\u001b[0m \u001b[39mexcept\u001b[39;00m \u001b[39mException\u001b[39;00m:\n",
      "\u001b[0;31mException\u001b[0m: Formato inválido",
      "\nDuring handling of the above exception, another exception occurred:\n",
      "\u001b[0;31mException\u001b[0m                                 Traceback (most recent call last)",
      "Cell \u001b[0;32mIn[42], line 2\u001b[0m\n\u001b[1;32m      1\u001b[0m file_path \u001b[39m=\u001b[39m \u001b[39m\"\u001b[39m\u001b[39mdocument.pdf\u001b[39m\u001b[39m\"\u001b[39m\n\u001b[0;32m----> 2\u001b[0m verifica_extensao(file_path)\n",
      "Cell \u001b[0;32mIn[40], line 10\u001b[0m, in \u001b[0;36mverifica_extensao\u001b[0;34m(path)\u001b[0m\n\u001b[1;32m      8\u001b[0m       \u001b[39mraise\u001b[39;00m \u001b[39mException\u001b[39;00m(\u001b[39m\"\u001b[39m\u001b[39mFormato inválido\u001b[39m\u001b[39m\"\u001b[39m)\n\u001b[1;32m      9\u001b[0m   \u001b[39mexcept\u001b[39;00m \u001b[39mException\u001b[39;00m:\n\u001b[0;32m---> 10\u001b[0m \t  \u001b[39mraise\u001b[39;00m \u001b[39mException\u001b[39;00m(\u001b[39m\"\u001b[39m\u001b[39mFormato inválido\u001b[39m\u001b[39m\"\u001b[39m)\n",
      "\u001b[0;31mException\u001b[0m: Formato inválido"
     ]
    }
   ],
   "source": [
    "file_path = \"document.pdf\"\n",
    "verifica_extensao(file_path)"
   ]
  },
  {
   "attachments": {},
   "cell_type": "markdown",
   "metadata": {},
   "source": [
    "## 06 Validação por blocos try except - parte 4"
   ]
  },
  {
   "attachments": {},
   "cell_type": "markdown",
   "metadata": {},
   "source": [
    "Quando implementamos um software, precisamos pensar nas diferentes situações que podem ocorrer nele, inclusive possíveis falhas. Uma falha que não seja detectada previamente pode resultar em uma interrupção abrupta do programa e esta pode ocorrer de diferentes formas.\n",
    "\n",
    "Por exemplo, suponhamos que um programa necessite de arquitos externos para ser executado e um desses arquivos tenha sido movido para outro diretório, porém, o programa esteja fazendo a leitura do arquivo no diretório antigo. Quando o programa for executado, ele não encontrará o arquivo e sua execução pode ser interrompida. Um outro exemplo são operações matemáticas não permitidas, como uma divisão por zero.\n",
    "\n",
    "Para evitar isso, utilizamos blocos try-except a fim de tratar possíveis erros e evitar a quebra do programa. Podemos utilizar esses blocos juntamente também de estruturas if-else. Sabendo disso, crie uma função verifica_numero(x1) que recebe um número e, caso este número não seja positivo, retorne uma exceção de tipo Exception(\"Número deverá ser maior que zero\").\n",
    "\n",
    "````\n",
    "def verifica_numero(x1):\n",
    "\tpass\n",
    "````"
   ]
  },
  {
   "cell_type": "code",
   "execution_count": 47,
   "metadata": {},
   "outputs": [],
   "source": [
    "def verifica_numero(x1):\n",
    "    try:\n",
    "        if x1 >0:\n",
    "            print(f\"{x1}\\n\\nNumero positivo\\n\\n\\n\")\n",
    "        else:\n",
    "            raise Exception(\"Número deverá ser maior que zero.\")\n",
    "    except Exception:\n",
    "        raise Exception(\"Número deverá ser maior que zero.\")"
   ]
  },
  {
   "cell_type": "code",
   "execution_count": 48,
   "metadata": {},
   "outputs": [
    {
     "name": "stdout",
     "output_type": "stream",
     "text": [
      "5\n",
      "\n",
      "Numero positivo\n",
      "\n",
      "\n",
      "\n"
     ]
    }
   ],
   "source": [
    "numero = 5\n",
    "verifica_numero(numero)"
   ]
  },
  {
   "cell_type": "code",
   "execution_count": 49,
   "metadata": {},
   "outputs": [
    {
     "ename": "Exception",
     "evalue": "Número deverá ser maior que zero.",
     "output_type": "error",
     "traceback": [
      "\u001b[0;31m---------------------------------------------------------------------------\u001b[0m",
      "\u001b[0;31mException\u001b[0m                                 Traceback (most recent call last)",
      "Cell \u001b[0;32mIn[47], line 6\u001b[0m, in \u001b[0;36mverifica_numero\u001b[0;34m(x1)\u001b[0m\n\u001b[1;32m      5\u001b[0m     \u001b[39melse\u001b[39;00m:\n\u001b[0;32m----> 6\u001b[0m         \u001b[39mraise\u001b[39;00m \u001b[39mException\u001b[39;00m(\u001b[39m\"\u001b[39m\u001b[39mNúmero deverá ser maior que zero.\u001b[39m\u001b[39m\"\u001b[39m)\n\u001b[1;32m      7\u001b[0m \u001b[39mexcept\u001b[39;00m \u001b[39mException\u001b[39;00m:\n",
      "\u001b[0;31mException\u001b[0m: Número deverá ser maior que zero.",
      "\nDuring handling of the above exception, another exception occurred:\n",
      "\u001b[0;31mException\u001b[0m                                 Traceback (most recent call last)",
      "Cell \u001b[0;32mIn[49], line 2\u001b[0m\n\u001b[1;32m      1\u001b[0m numero \u001b[39m=\u001b[39m \u001b[39m-\u001b[39m\u001b[39m5\u001b[39m\n\u001b[0;32m----> 2\u001b[0m verifica_numero(numero)\n",
      "Cell \u001b[0;32mIn[47], line 8\u001b[0m, in \u001b[0;36mverifica_numero\u001b[0;34m(x1)\u001b[0m\n\u001b[1;32m      6\u001b[0m         \u001b[39mraise\u001b[39;00m \u001b[39mException\u001b[39;00m(\u001b[39m\"\u001b[39m\u001b[39mNúmero deverá ser maior que zero.\u001b[39m\u001b[39m\"\u001b[39m)\n\u001b[1;32m      7\u001b[0m \u001b[39mexcept\u001b[39;00m \u001b[39mException\u001b[39;00m:\n\u001b[0;32m----> 8\u001b[0m     \u001b[39mraise\u001b[39;00m \u001b[39mException\u001b[39;00m(\u001b[39m\"\u001b[39m\u001b[39mNúmero deverá ser maior que zero.\u001b[39m\u001b[39m\"\u001b[39m)\n",
      "\u001b[0;31mException\u001b[0m: Número deverá ser maior que zero."
     ]
    }
   ],
   "source": [
    "numero = -5\n",
    "verifica_numero(numero)"
   ]
  },
  {
   "attachments": {},
   "cell_type": "markdown",
   "metadata": {},
   "source": [
    "## 07 Validação por blocos try except - parte 2"
   ]
  },
  {
   "attachments": {},
   "cell_type": "markdown",
   "metadata": {},
   "source": [
    "Quando implementamos um software, precisamos pensar nas diferentes situações que podem ocorrer nele, inclusive possíveis falhas. Uma falha que não seja detectada previamente pode resultar em uma interrupção abrupta do programa e esta pode ocorrer de diferentes formas.\n",
    "\n",
    "Por exemplo, suponhamos que um programa necessite de arquitos externos para ser executado e um desses arquivos tenha sido movido para outro diretório, porém, o programa esteja fazendo a leitura do arquivo no diretório antigo. Quando o programa for executado, ele não encontrará o arquivo e sua execução pode ser interrompida. Um outro exemplo são operações matemáticas não permitidas, como uma divisão por zero.\n",
    "\n",
    "Para evitar isso, utilizamos blocos try-except a fim de tratar possíveis erros e evitar a quebra do programa. Sabendo disso, implemente a função divide_dois_numeros(), que recebe dois números x e y e retorna a divisão do número x por y. Para garantir o uso correto, adicione um bloco try-except nesta função de forma que, caso y seja igual a zero, acione uma cláusula except ZeroDivisionError, além de uma segunda cláusula except para caso a função seja chamada sem um dos dois parâmetros obrigatórios (variáveis x e y), subindo um erro do tipo adequado (alguma built-in Exception) caso algum dos argumentos não seja passado.\n",
    "\n",
    "````\n",
    "def divide_dois_numeros(x,y):\n",
    "\ttry:\n",
    "\t\t#executar operação \n",
    "\texcept #nome da exceção\n",
    "\t\traise #nome da exceção\n",
    "\texcept #nome da exceção \n",
    "\t\traise #nome da exceção\n",
    "````"
   ]
  },
  {
   "cell_type": "code",
   "execution_count": 53,
   "metadata": {},
   "outputs": [],
   "source": [
    "def divide_dois_numeros(x, y):\n",
    "    try:\n",
    "        if x is None or y is None:\n",
    "            raise ValueError(\"Ambos os argumentos são obrigatórios.\")\n",
    "        result = x / y\n",
    "        return result\n",
    "    except (ZeroDivisionError, ValueError) as e:\n",
    "        print(e)"
   ]
  },
  {
   "cell_type": "code",
   "execution_count": 66,
   "metadata": {},
   "outputs": [],
   "source": [
    "def divide_dois_numeros(x, y):\n",
    "    try:\n",
    "        if x is None or y is None:\n",
    "            raise ValueError(\"Ambos os argumentos são obrigatórios.\")\n",
    "        result = x / y\n",
    "        return result\n",
    "    except ZeroDivisionError:\n",
    "        raise ZeroDivisionError(\"Zero nao pode ser divisor\")\n",
    "    except ValueError:\n",
    "        raise ValueError(\"Ambos os argumentos são obrigatórios.\")"
   ]
  },
  {
   "cell_type": "code",
   "execution_count": 65,
   "metadata": {},
   "outputs": [
    {
     "name": "stdout",
     "output_type": "stream",
     "text": [
      "Valor None nao é válido.\n"
     ]
    },
    {
     "ename": "TypeError",
     "evalue": "unsupported operand type(s) for /: 'NoneType' and 'int'",
     "output_type": "error",
     "traceback": [
      "\u001b[0;31m---------------------------------------------------------------------------\u001b[0m",
      "\u001b[0;31mTypeError\u001b[0m                                 Traceback (most recent call last)",
      "Cell \u001b[0;32mIn[65], line 1\u001b[0m\n\u001b[0;32m----> 1\u001b[0m resultado1 \u001b[39m=\u001b[39m divide_dois_numeros(\u001b[39mNone\u001b[39;49;00m,\u001b[39m10\u001b[39;49m)\n\u001b[1;32m      2\u001b[0m \u001b[39mprint\u001b[39m(resultado1)\n",
      "Cell \u001b[0;32mIn[64], line 6\u001b[0m, in \u001b[0;36mdivide_dois_numeros\u001b[0;34m(x, y)\u001b[0m\n\u001b[1;32m      3\u001b[0m     \u001b[39mif\u001b[39;00m x \u001b[39mis\u001b[39;00m \u001b[39mNone\u001b[39;00m \u001b[39mor\u001b[39;00m y \u001b[39mis\u001b[39;00m \u001b[39mNone\u001b[39;00m:\n\u001b[1;32m      4\u001b[0m         \u001b[39m#raise ValueError(\"Ambos os argumentos são obrigatórios.\")\u001b[39;00m\n\u001b[1;32m      5\u001b[0m         \u001b[39mprint\u001b[39m(\u001b[39m\"\u001b[39m\u001b[39mValor None nao é válido.\u001b[39m\u001b[39m\"\u001b[39m)\n\u001b[0;32m----> 6\u001b[0m     result \u001b[39m=\u001b[39m x \u001b[39m/\u001b[39;49m y\n\u001b[1;32m      7\u001b[0m     \u001b[39mreturn\u001b[39;00m result\n\u001b[1;32m      8\u001b[0m \u001b[39mexcept\u001b[39;00m \u001b[39mZeroDivisionError\u001b[39;00m:\n",
      "\u001b[0;31mTypeError\u001b[0m: unsupported operand type(s) for /: 'NoneType' and 'int'"
     ]
    }
   ],
   "source": [
    "resultado1 = divide_dois_numeros(None,10)\n",
    "print(resultado1)"
   ]
  },
  {
   "attachments": {},
   "cell_type": "markdown",
   "metadata": {},
   "source": [
    "## 08 Validação por blocos try except - parte 3\n"
   ]
  },
  {
   "attachments": {},
   "cell_type": "markdown",
   "metadata": {},
   "source": [
    "Quando implementamos um software, precisamos pensar nas diferentes situações que podem ocorrer nele, inclusive possíveis falhas. Uma falha que não seja detectada previamente pode resultar em uma interrupção abrupta do programa e esta pode ocorrer de diferentes formas.\n",
    "\n",
    "Por exemplo, suponhamos que um programa necessite de arquitos externos para ser executado e um desses arquivos tenha sido movido para outro diretório, porém, o programa esteja fazendo a leitura do arquivo no diretório antigo. Quando o programa for executado, ele não encontrará o arquivo e sua execução pode ser interrompida. Um outro exemplo são operações matemáticas não permitidas, como uma divisão por zero.\n",
    "\n",
    "Para evitar isso, utilizamos blocos try-except a fim de tratar possíveis erros e evitar a quebra do programa. Podemos utilizar esses blocos juntamente também de estruturas if-else. Sabendo disso, crie uma função verifica_numero(x1) que recebe um número e, caso este número não seja de tipo int, retorne uma exceção de tipo TypeError(\"Apenas números inteiros permitidos. Digite novamente\").\n",
    "\n",
    "````\n",
    "def verifica_numero(x1):\n",
    "\tpass\n",
    "````"
   ]
  },
  {
   "cell_type": "code",
   "execution_count": 74,
   "metadata": {},
   "outputs": [],
   "source": [
    "def verifica_numero(x1):\n",
    "    try:\n",
    "        if type(x1) is int:\n",
    "            print(x1)\n",
    "        else:\n",
    "            raise TypeError(\"Apenas números inteiros são permitidos.\")\n",
    "    except TypeError as e:\n",
    "        raise TypeError(\"Apenas números inteiros permitidos. Digite novamente.\")"
   ]
  },
  {
   "cell_type": "code",
   "execution_count": 76,
   "metadata": {},
   "outputs": [
    {
     "name": "stdout",
     "output_type": "stream",
     "text": [
      "10\n"
     ]
    }
   ],
   "source": [
    "verifica_numero(10)"
   ]
  },
  {
   "cell_type": "code",
   "execution_count": null,
   "metadata": {},
   "outputs": [],
   "source": []
  }
 ],
 "metadata": {
  "kernelspec": {
   "display_name": ".venv",
   "language": "python",
   "name": "python3"
  },
  "language_info": {
   "codemirror_mode": {
    "name": "ipython",
    "version": 3
   },
   "file_extension": ".py",
   "mimetype": "text/x-python",
   "name": "python",
   "nbconvert_exporter": "python",
   "pygments_lexer": "ipython3",
   "version": "3.9.6"
  },
  "orig_nbformat": 4
 },
 "nbformat": 4,
 "nbformat_minor": 2
}
