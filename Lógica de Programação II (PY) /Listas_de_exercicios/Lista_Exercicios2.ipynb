{
 "cells": [
  {
   "attachments": {},
   "cell_type": "markdown",
   "metadata": {},
   "source": [
    "# LISTA DE EXERCICIOS 2"
   ]
  },
  {
   "attachments": {},
   "cell_type": "markdown",
   "metadata": {},
   "source": [
    "## Retorna consoantes\n",
    "Muitas vezes quando estamos trabalhando com strings, pode ser bem útil usarmos compreensão de listas para processar caractere a caractere. Sabendo disso, crie uma função encontraConsoantes que retorna uma string com todas as consoantes (e apenas as consoantes!) de uma dada frase de input."
   ]
  },
  {
   "cell_type": "code",
   "execution_count": null,
   "metadata": {},
   "outputs": [],
   "source": [
    "def encontraConsoantes(frase):\n",
    "\n",
    "    consoantes = 'bcdfghjklmnpqrstvwxyzBCDFGHJKLMNPQRSTVWXYZ'\n",
    "    consoantes_encontradas = [letra for letra in frase if letra in consoantes]\n",
    "    resultado = ''.join(consoantes_encontradas)\n",
    "    return resultado"
   ]
  },
  {
   "attachments": {},
   "cell_type": "markdown",
   "metadata": {},
   "source": [
    "## Remoção de espaços extras de strings\n",
    "É comum em sistemas de cadastro, os clientes preencherem dados com caracteres ou espaços indesejáveis. Sendo assim, implemente uma função remove_espaco(listaStrings) que recebe uma lista de strings e retire espaços extras que possam haver no início, meio ou no fim de uma string.\n",
    "\n",
    "Por exemplo,\n",
    "\n",
    "entrada: [\"  string\", \"  exemplo  \", \"do   exercício\"] saída: [\"string\", \"exemplo\", \"do exercício\"]"
   ]
  },
  {
   "cell_type": "code",
   "execution_count": 7,
   "metadata": {},
   "outputs": [],
   "source": [
    "def remove_espacos(listaStrings):\n",
    "    resultado = []\n",
    "    for frase in listaStrings:\n",
    "        frase_tratada = frase.strip()\n",
    "        frase_tratada = \" \".join(frase_tratada.split())\n",
    "        resultado.append(frase_tratada)\n",
    "    return resultado"
   ]
  },
  {
   "attachments": {},
   "cell_type": "markdown",
   "metadata": {},
   "source": [
    "## Filtrando elementos por funções lambda\n",
    "Em programação, temos que pensar não apenas na implementação do código propriamente dita para execução correta da tarefa desejada, como também na melhor forma de realizar esta implementação. Com isso, paradigmas de programação foram criados para auxiliar o programador a pensar diferente.\n",
    "\n",
    "Um desses paradigmas é a programação funcional, cujo objetivo é aumentar o determinismo do programa de forma que, caso o programa seja escalável e se torne muito grande, os desenvolvedores não percam o controle do código. Uma forma de fazer programação funcional é por meio de funções lambdas, também conhecidas como \"funções anônimas\", tendo esse nome porque não precisam ser declaradas com um nome.\n",
    "\n",
    "Sabendo disso, crie uma função filtraElementos() que recebe uma lista e utiliza função lambda para filtrar os elementos maiores que 10, ou seja, a função deve retornar uma lista apenas com estes elementos maiores que 10.\n",
    "\n",
    "OBS: em um cenário real, a função filtraElementos() seria utilizada para outras funcionalidades também além da utilização da lambda, de forma a melhorar o determinismo do código.\n",
    "\n",
    "```\n",
    "def filtraElementos(listaA):\n",
    "\tpass\n",
    "```"
   ]
  },
  {
   "cell_type": "code",
   "execution_count": 8,
   "metadata": {},
   "outputs": [],
   "source": [
    "def filtraElementos(listaA):\n",
    "    elementos_maiores_que_10 = list(filter(lambda x: x > 10, listaA))\n",
    "    return elementos_maiores_que_10"
   ]
  },
  {
   "attachments": {},
   "cell_type": "markdown",
   "metadata": {},
   "source": [
    "## Expressões geradoras para tuplas\n",
    "Também é possível utilizar expressão geradoras para construir tuplas. Sendo assim, crie a função getQuadrado() que recebe uma tupla de elementos numéricos, e retorna uma tupla com o quadrado de cada elemento da tupla original."
   ]
  },
  {
   "cell_type": "code",
   "execution_count": 9,
   "metadata": {},
   "outputs": [],
   "source": [
    "def getQuadrado(tuplaA):\n",
    "    quadrados = tuple(x**2 for x in tuplaA)\n",
    "    return quadrados"
   ]
  },
  {
   "attachments": {},
   "cell_type": "markdown",
   "metadata": {},
   "source": [
    "## Encontrando números divisíveis por 7\n",
    "Uma forma \"pythonica\" de iterarmos por listas é por meio de compreensão de listas, que substitui o uso de um laço de repetição for tal como implementamos tradicionalmente para a criação de novas listas.\n",
    "\n",
    "Sabendo disso, digamos que em um sistema desejemos buscar, entre 1000 usuários, apenas aqueles cujo ID é divisível por 7. Faça uma função numerosDiv7() para este sistema que receba uma lista A de 1000 elementos e retorne uma lista apenas com os elementos de A que são divisíveis por 7.\n",
    "\n",
    "OBS: Caso existam elementos repetidos na lista, a saída deverá exibir apenas os elementos únicos divisíveis por 7. E se não houver elementos divisíveis por 7, o programa deve retornar uma lista vazia.\n",
    "```\n",
    "def numerosDiv7(listaA):\n",
    "\tpass\n",
    "```"
   ]
  },
  {
   "cell_type": "code",
   "execution_count": 11,
   "metadata": {},
   "outputs": [
    {
     "name": "stdout",
     "output_type": "stream",
     "text": [
      "[7, 14, 21, 28, 35, 42, 49, 56, 63, 70, 77, 84, 91, 98, 105, 112, 119, 126, 133, 140, 147, 154, 161, 168, 175, 182, 189, 196, 203, 210, 217, 224, 231, 238, 245, 252, 259, 266, 273, 280, 287, 294, 301, 308, 315, 322, 329, 336, 343, 350, 357, 364, 371, 378, 385, 392, 399, 406, 413, 420, 427, 434, 441, 448, 455, 462, 469, 476, 483, 490, 497, 504, 511, 518, 525, 532, 539, 546, 553, 560, 567, 574, 581, 588, 595, 602, 609, 616, 623, 630, 637, 644, 651, 658, 665, 672, 679, 686, 693, 700, 707, 714, 721, 728, 735, 742, 749, 756, 763, 770, 777, 784, 791, 798, 805, 812, 819, 826, 833, 840, 847, 854, 861, 868, 875, 882, 889, 896, 903, 910, 917, 924, 931, 938, 945, 952, 959, 966, 973, 980, 987, 994]\n"
     ]
    }
   ],
   "source": [
    "def numerosDiv7(listaA):\n",
    "    numeros_divisiveis_por_7 = [x for x in listaA if x % 7 == 0]\n",
    "    numeros_divisiveis_por_7 = list(set(numeros_divisiveis_por_7))\n",
    "    numeros_divisiveis_por_7.sort()\n",
    "    return numeros_divisiveis_por_7\n",
    "\n",
    "# Exemplo de uso:\n",
    "lista_input = list(range(1, 1001))  # Lista com números de 1 a 1000\n",
    "resultado_divisiveis_por_7 = numerosDiv7(lista_input)\n",
    "print(resultado_divisiveis_por_7)"
   ]
  },
  {
   "attachments": {},
   "cell_type": "markdown",
   "metadata": {},
   "source": [
    "## Dicionário cujos valores são listas\n",
    "Em determinadas situações, é necessário agrupar informações de acordo com alguma dada característica para facilitar o acesso a essas informações. Uma estrutura em python que armazena informações seguindo essa organização são dicionários.\n",
    "\n",
    "Um exemplo de uso comum de dicionários são cadastros de clientes, em que, por exemplo, um elemento do dicionário pode ser o nome dos clientes, outro elemento o emprego outro o estado de habitação. Quando quisermos utilizar apenas as informações de estado, selecionamos apenas este elemento do dicionário, utilizando a respectiva chave como indexador do dicionário.\n",
    "\n",
    "Sabendo disso, crie uma função mediaPrecoCelular() que receba um dicionário que possui a chave \"valor\", e retorne uma lista com: a média dos valores existentes nesta chave, o celular mais barato, e o mais caro, nesta ordem.\n",
    "\n",
    "```\n",
    "def mediaPrecoCelular(dictCelulares):\n",
    "\tpass\n",
    "```"
   ]
  },
  {
   "cell_type": "code",
   "execution_count": 12,
   "metadata": {},
   "outputs": [
    {
     "name": "stdout",
     "output_type": "stream",
     "text": [
      "[]\n"
     ]
    }
   ],
   "source": [
    "def mediaPrecoCelular(dictCelulares):\n",
    "    # Obtém os valores da chave \"valor\" do dicionário\n",
    "    valores = dictCelulares.get(\"valor\", [])\n",
    "\n",
    "    if not valores:\n",
    "        return []\n",
    "\n",
    "    # Calcula a média dos valores\n",
    "    media = sum(valores) / len(valores)\n",
    "\n",
    "    # Encontra o celular mais barato e o mais caro\n",
    "    celular_mais_barato = min(valores)\n",
    "    celular_mais_caro = max(valores)\n",
    "\n",
    "    return [media, celular_mais_barato, celular_mais_caro]\n",
    "\n",
    "# Exemplo de uso:\n",
    "celulares = {\n",
    "    \"marca1\": {\"valor\": [1000, 1200, 900]},\n",
    "    \"marca2\": {\"valor\": [800, 750, 950]},\n",
    "    \"marca3\": {\"valor\": [1100, 1050, 900]}\n",
    "}\n",
    "\n",
    "resultado = mediaPrecoCelular(celulares)\n",
    "print(resultado)\n"
   ]
  },
  {
   "attachments": {},
   "cell_type": "markdown",
   "metadata": {},
   "source": [
    "## Usando Dicionário para Calcular Quadrado de Números\n",
    "Dicionários são estruturas de dados muito úteis e flexíveis, podendo, inclusive, ser construídos a partir de outras estruturas, como listas.\n",
    "\n",
    "Sabendo disso, crie uma função dicionarioQuadrados() que receba uma lista números e gera um dicionário, de forma que cada chave do dicionário seja um elemento da lista e cada valor seja este elemento ao quadrado.\n",
    "\n",
    "````\n",
    "def dicionarioQuadrados(listaA):\n",
    "\tpass\n",
    "````\n"
   ]
  },
  {
   "cell_type": "code",
   "execution_count": 14,
   "metadata": {},
   "outputs": [
    {
     "name": "stdout",
     "output_type": "stream",
     "text": [
      "{1: 1, 2: 4, 3: 9, 4: 16, 5: 25}\n"
     ]
    }
   ],
   "source": [
    "def dicionarioQuadrados(listaA):\n",
    "    dict_of_squares = {num: num**2 for num in listaA}\n",
    "    return dict_of_squares\n",
    "\n",
    "# Example of use:\n",
    "lista_input = [1, 2, 3, 4, 5]\n",
    "resultado_dicionario = dicionarioQuadrados(lista_input)\n",
    "print(resultado_dicionario)\n"
   ]
  },
  {
   "attachments": {},
   "cell_type": "markdown",
   "metadata": {},
   "source": [
    "## Compreensão de dicionários\n",
    "Da mesma forma que utilizamos a sintaxe \"pythonica\" de compreensão de listas, podemos fazer uma estrutura semelhante para gerar dicionários. Sendo assim, crie uma função mediaAlunosParaDicionario() que receba uma lista de listas, em que o primeiro elemento é uma lista com os nomes dos alunos; e o segundo elemento é uma lista com suas respectivas médias. Utilizando compreensão de dicionários, armazene estes dados no dicionário de forma que cada aluno seja a chave e sua média seja o valor.\n",
    "\n",
    "OBS: caso a nota não esteja numérica, é necessário tratar os valores para tipos numéricos!\n",
    "\n",
    "````\n",
    "def mediaAlunosParaDicionario(listaAlunos):\n",
    "\tpass\n",
    "````\n"
   ]
  },
  {
   "cell_type": "code",
   "execution_count": 16,
   "metadata": {},
   "outputs": [
    {
     "name": "stdout",
     "output_type": "stream",
     "text": [
      "{'Alice': 9.5, 'Bob': 8.7, 'Charlie': 0}\n"
     ]
    }
   ],
   "source": [
    "def mediaAlunosParaDicionario(listaAlunos):\n",
    "    # Separate the student names and grades from the input list\n",
    "    nomes_alunos, notas_alunos = listaAlunos\n",
    "\n",
    "    # Convert non-numeric grades to numeric values\n",
    "    notas_numericas = [float(nota) if nota.replace('.', '', 1).isdigit() else 0 for nota in notas_alunos]\n",
    "\n",
    "    # Create the dictionary using dictionary comprehension\n",
    "    dicionario_alunos = {nome: nota for nome, nota in zip(nomes_alunos, notas_numericas)}\n",
    "\n",
    "    return dicionario_alunos\n",
    "\n",
    "# Example of use:\n",
    "lista_alunos_input = [['Alice', 'Bob', 'Charlie'], ['9.5', '8.7', 'Não Informada']]\n",
    "resultado_dicionario_alunos = mediaAlunosParaDicionario(lista_alunos_input)\n",
    "print(resultado_dicionario_alunos)\n"
   ]
  },
  {
   "cell_type": "code",
   "execution_count": null,
   "metadata": {},
   "outputs": [],
   "source": []
  }
 ],
 "metadata": {
  "kernelspec": {
   "display_name": ".venv",
   "language": "python",
   "name": "python3"
  },
  "language_info": {
   "codemirror_mode": {
    "name": "ipython",
    "version": 3
   },
   "file_extension": ".py",
   "mimetype": "text/x-python",
   "name": "python",
   "nbconvert_exporter": "python",
   "pygments_lexer": "ipython3",
   "version": "3.9.6"
  },
  "orig_nbformat": 4
 },
 "nbformat": 4,
 "nbformat_minor": 2
}
