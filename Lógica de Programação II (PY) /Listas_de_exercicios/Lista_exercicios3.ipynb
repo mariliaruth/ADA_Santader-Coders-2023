{
 "cells": [
  {
   "attachments": {},
   "cell_type": "markdown",
   "metadata": {},
   "source": [
    "# Lista de exercicios 03"
   ]
  },
  {
   "attachments": {},
   "cell_type": "markdown",
   "metadata": {},
   "source": [
    "## 01 Subtraindo elementos usando funções de alta ordem"
   ]
  },
  {
   "attachments": {},
   "cell_type": "markdown",
   "metadata": {},
   "source": [
    "Em programação, temos que pensar não apenas na implementação do código propriamente dita para execução correta da tarefa desejada, como também na melhor forma de realizar esta implementação. Com isso, paradigmas de programação foram criados para auxiliar o programador a pensar diferente.\n",
    "\n",
    "Um desses paradigmas é o uso de funções de alta ordem, o que permite que realizemos diversas operações em coleções (listas, tuplas, arrays, etc) sem o uso de loops explicitamente.\n",
    "\n",
    "Um dos usos mais comuns é o uso de funções reduce, responsáveis por acumular uma operação ao longo de uma coleção. Sabendo disso, implemente uma função reduceSub() que recebe uma lista, e então faz uso do reduce para realizar a subtração dos números da lista com base no valor inicial 3.\n",
    "\n",
    "````\n",
    "def reduceSub(listaA):\n",
    "\tpass\n",
    "````\n"
   ]
  },
  {
   "cell_type": "code",
   "execution_count": 2,
   "metadata": {},
   "outputs": [
    {
     "name": "stdout",
     "output_type": "stream",
     "text": [
      "-22\n"
     ]
    }
   ],
   "source": [
    "from functools import reduce\n",
    "\n",
    "def reduceSub(listaA):\n",
    "    # Define the subtraction function\n",
    "    def subtract(a, b):\n",
    "        return a - b\n",
    "\n",
    "    # Use reduce to perform the subtraction with an initial value of 3\n",
    "    result = reduce(subtract, listaA, 3)\n",
    "\n",
    "    return result\n",
    "\n",
    "# Example of use:\n",
    "#lista_input = [10, 2, 1]\n",
    "lista_input=[\n",
    "  1,\n",
    "  3,\n",
    "  5,\n",
    "  7,\n",
    "  9\n",
    "]\n",
    "resultado_subtracao = reduceSub(lista_input)\n",
    "print(resultado_subtracao)\n"
   ]
  },
  {
   "attachments": {},
   "cell_type": "markdown",
   "metadata": {},
   "source": [
    "##  02 Utilizando função lambda para calcular quadrado de números"
   ]
  },
  {
   "attachments": {},
   "cell_type": "markdown",
   "metadata": {},
   "source": [
    "Em programação, temos que pensar não apenas na implementação do código propriamente dita para execução correta da tarefa desejada, como também na melhor forma de realizar esta implementação. Com isso, paradigmas de programação foram criados para auxiliar o programador a pensar diferente.\n",
    "\n",
    "Um desses paradigmas é a programação funcional, cujo objetivo é aumentar o determinismo do programa de forma que, caso o programa seja escalável e se torne muito grande, os desenvolvedores não percam o controle do código. Uma forma de fazer programação funcional é por meio de funções lambdas, também conhecidas como \"funções anônimas\", tendo esse nome porque não precisam ser declaradas com um nome.\n",
    "\n",
    "Sabendo disso, crie uma função calcula_quadrado() que recebe uma lista e retorna os elementos desta lista ao quadrado, utilizando função lambda.\n",
    "\n",
    "OBS: em um cenário real, a função calcula_quadrado() seria utilizada para outras funcionalidades também além da utilização da lambda, de forma a melhorar o determinismo do código.\n",
    "\n",
    "OBS2: recomendável uso da função map.\n",
    "\n",
    "\n",
    "````\n",
    "def calcula_quadrado(listaA):\n",
    "\tpass\n",
    "````\n"
   ]
  },
  {
   "cell_type": "code",
   "execution_count": 17,
   "metadata": {},
   "outputs": [
    {
     "name": "stdout",
     "output_type": "stream",
     "text": [
      "[1, 4, 9, 16, 25]\n"
     ]
    }
   ],
   "source": [
    "def calcula_quadrado(listaA):\n",
    "    # Use map and lambda to calculate the square of each element in the list\n",
    "    quadrados = list(map(lambda x: x**2, listaA))\n",
    "    return quadrados\n",
    "\n",
    "# Example of use:\n",
    "lista_input = [1, 2, 3, 4, 5]\n",
    "resultado_quadrados = calcula_quadrado(lista_input)\n",
    "print(resultado_quadrados)\n"
   ]
  },
  {
   "cell_type": "code",
   "execution_count": 23,
   "metadata": {},
   "outputs": [
    {
     "name": "stdout",
     "output_type": "stream",
     "text": [
      "[1, 4, 9, 16, 25, 36]\n"
     ]
    }
   ],
   "source": [
    "#teste\n",
    "x=[1,2,3,4,5,6]\n",
    "teste=list(map(lambda x:x**2,x))\n",
    "print(teste)"
   ]
  },
  {
   "cell_type": "code",
   "execution_count": 25,
   "metadata": {},
   "outputs": [
    {
     "data": {
      "text/plain": [
       "[1, 4, 9, 16, 25, 36, 49, 64, 81, 100]"
      ]
     },
     "execution_count": 25,
     "metadata": {},
     "output_type": "execute_result"
    }
   ],
   "source": [
    "quadrados_compreensao = [num**2 for num in range(1, 11)]\n",
    "quadrados_compreensao"
   ]
  },
  {
   "attachments": {},
   "cell_type": "markdown",
   "metadata": {},
   "source": [
    "Quando colocamos uma expressão semelhante a uma compreensão de lista entre parênteses, estamos criando uma expressão geradora.\n",
    "\n",
    "```\n",
    "gerador_quadrados = (x**2 for x in range(10))\n",
    "\n",
    "for quadrado in gerador_quadrados:\n",
    "    print(quadrado)\n",
    "````\n"
   ]
  },
  {
   "cell_type": "code",
   "execution_count": 14,
   "metadata": {},
   "outputs": [
    {
     "name": "stdout",
     "output_type": "stream",
     "text": [
      "<generator object <genexpr> at 0x10c1014a0>\n",
      "0\n",
      "1\n",
      "4\n",
      "9\n",
      "16\n",
      "25\n",
      "36\n",
      "49\n",
      "64\n",
      "81\n"
     ]
    }
   ],
   "source": [
    "gerador_quadrados = (x**2 for x in range(10))\n",
    "print(gerador_quadrados)\n",
    "for quadrado in gerador_quadrados:\n",
    "    print(quadrado)"
   ]
  },
  {
   "attachments": {},
   "cell_type": "markdown",
   "metadata": {},
   "source": [
    "### Aprofundando: iterável *versus* iterador"
   ]
  },
  {
   "attachments": {},
   "cell_type": "markdown",
   "metadata": {},
   "source": [
    "\n",
    "o iterador já possui todos os exemplos salvos em algum lugar.\n",
    "O iterável não. Ele irá gerar/buscar cada elemento no momento que a função *next* é chamada, e ele não irá salvar os elementos anteriores.\n",
    "\n",
    "Uma expressão geradora não é um iterável, ela é um iterador.\n",
    "\n",
    "Uma lista é um iterável.\n",
    "\n",
    "Ou seja, quando nós fazemos uma **compreensão de lista**, a expressão é avaliada na mesma hora e todos os elementos são gerados e salvos na memória.\n",
    "\n",
    "Quando utilizamos uma **expressão geradora**, cada elemento é gerado apenas quando solicitado, e os elementos não ficam salvos.\n",
    "\n",
    "\n",
    "````\n",
    "gerador = (x for x in range(5))\n",
    "\n",
    "print(next(gerador))\n",
    "print(next(gerador))\n",
    "print(next(gerador))\n",
    "print(next(gerador))\n",
    "print(next(gerador))\n",
    "print(next(gerador)) # Erro: StopIteration\n",
    "````\n"
   ]
  },
  {
   "cell_type": "code",
   "execution_count": 16,
   "metadata": {},
   "outputs": [
    {
     "name": "stdout",
     "output_type": "stream",
     "text": [
      "1: 0\n",
      "1\n",
      "2\n",
      "3\n",
      "4\n"
     ]
    },
    {
     "ename": "StopIteration",
     "evalue": "",
     "output_type": "error",
     "traceback": [
      "\u001b[0;31m---------------------------------------------------------------------------\u001b[0m",
      "\u001b[0;31mStopIteration\u001b[0m                             Traceback (most recent call last)",
      "Cell \u001b[0;32mIn[16], line 8\u001b[0m\n\u001b[1;32m      6\u001b[0m \u001b[39mprint\u001b[39m(\u001b[39mnext\u001b[39m(gerador))\n\u001b[1;32m      7\u001b[0m \u001b[39mprint\u001b[39m(\u001b[39mnext\u001b[39m(gerador))\n\u001b[0;32m----> 8\u001b[0m \u001b[39mprint\u001b[39m(\u001b[39mnext\u001b[39;49m(gerador)) \u001b[39m# Erro: StopIteration\u001b[39;00m\n",
      "\u001b[0;31mStopIteration\u001b[0m: "
     ]
    }
   ],
   "source": [
    "gerador = (x for x in range(5))\n",
    "\n",
    "print(f\"1: {next(gerador)}\")\n",
    "print(next(gerador))\n",
    "print(next(gerador))\n",
    "print(next(gerador))\n",
    "print(next(gerador))\n",
    "print(next(gerador)) # Erro: StopIteration"
   ]
  },
  {
   "attachments": {},
   "cell_type": "markdown",
   "metadata": {},
   "source": [
    "## 03 Mudança do delimitador do csv\n"
   ]
  },
  {
   "attachments": {},
   "cell_type": "markdown",
   "metadata": {},
   "source": [
    "Comumente precisamos lidar com informações que já foram armazenadas em outros locais antes da execução do programa, como uma planilha do excel, de forma a fazer algum processamento com estas informações. Digamos, por exemplo, que uma empresa tenha armazenado dados sobre as vendas dos últimos 5 anos e queira saber a média anual dessas vendas, podemos acessar estes dados por meio da leitura de arquivos no python para, posteriormente, realizar o cálculo da média. Similarmente, também podemos salvar informações em arquivos no Python para acesso futuro. Utilizando o mesmo exemplo do histórico de vendas, podemos realizar os cálculos de média anual e salvá-lo em um arquivo para enviar para o gerente de vendas.\n",
    "\n",
    "Sabendo disso, supondo que uma empresa armazenou seu histórico de vendas como um arquivo csv usando \", \" como delimitador, e agora deseje salvar um novo arquivo csv cujos valores sejam separados por \"\\t\". Faça uma funçãoconverte_sep() que receba uma string que contenha o conteúdo original do csv e retorna a string do arquivo csv com o novo separador.\n",
    "\n",
    "````\n",
    "def converte_sep(valores):\n",
    "\tpass\n",
    "````"
   ]
  },
  {
   "cell_type": "code",
   "execution_count": 29,
   "metadata": {},
   "outputs": [
    {
     "name": "stdout",
     "output_type": "stream",
     "text": [
      "Antigo csv:\n",
      "produto, quantidade, preco\n",
      "banana, 10, 1.50\n",
      "maçã, 5, 2.00\n",
      "laranja, 8, 1.00\n",
      "\n",
      "\n",
      "\n",
      "Novo csv:\n",
      "produto\tquantidade\tpreco\n",
      "banana\t10\t1.50\n",
      "maçã\t5\t2.00\n",
      "laranja\t8\t1.00\n",
      "\n"
     ]
    }
   ],
   "source": [
    "def converte_sep(valores):\n",
    "    # Replace the old separator \", \" with the new separator \"\\t\"\n",
    "    novo_csv = valores.replace(\", \", \"\\t\")\n",
    "    return novo_csv\n",
    "\n",
    "# Example of use:\n",
    "csv_content = \"produto, quantidade, preco\\nbanana, 10, 1.50\\nmaçã, 5, 2.00\\nlaranja, 8, 1.00\"\n",
    "novo_csv_content = converte_sep(csv_content)\n",
    "print(f\"Antigo csv:\\n{csv_content}\\n\\n\\n\")\n",
    "print(f\"Novo csv:\\n{novo_csv_content}\\n\")\n"
   ]
  },
  {
   "cell_type": "code",
   "execution_count": null,
   "metadata": {},
   "outputs": [],
   "source": [
    "test_converte_sep():\n",
    "    self.assertEqual(converconverte_septe_csv_txt(\"data, produto, quantidade, valor, valor_unitario\\n10/10/2021, ventilador, 2, 120.00, 60\\n19/10/2021, cadeira, 2, 335.55, 167.77\\n07/07/2022, lampada, 2, 68.90, 34,45\"), \"data\\tproduto\\tquantidade\\tvalor\\tvalor_unitario\\n10/10/2021\\tventilador\\t2\\t120.00\\t60\\n19/10/2021\\tcadeira\\t2\\t335.55\\t167.77\\n07/07/2022\\tlampada\\t268.90\\t34\\t45\")\n"
   ]
  },
  {
   "attachments": {},
   "cell_type": "markdown",
   "metadata": {},
   "source": [
    "## 04 Produto mais vendido no arquivo\n"
   ]
  },
  {
   "attachments": {},
   "cell_type": "markdown",
   "metadata": {},
   "source": [
    "Comumente precisamos lidar com informações que já foram armazenadas em outros locais antes da execução do programa, como uma planilha do excel, de forma a fazer algum processamento com estas informações. Digamos, por exemplo, que uma empresa tenha armazenado dados sobre as vendas dos últimos 5 anos e queira saber a média anual dessas vendas. Podemos acessar estes dados por meio da leitura de arquivos no python para, posteriormente, realizar o cálculo da média. Similarmente, também podemos salvar informações em arquivos no Python para acesso futuro. Utilizando o mesmo exemplo do histórico de vendas, podemos realizar os cálculos de média anual e salvá-lo em um arquivo para enviar para o gerente de vendas.\n",
    "\n",
    "Sabendo disso, crie uma função produto_mais_vendido() para ler um arquivo csv com as vendas de uma loja e retornar o nome do produto mais vendido (em termos de quantidades de vendas) conforme registrado no arquivo. A função receberá diretamente a string lida de um arquivo csv que usa \", \" como separador. No arquivo, temos as seguintes colunas: data, produto, quantidade, valor.\n",
    "\n",
    "````\n",
    "def produto_mais_vendido(vendas):\n",
    "\tpass\n",
    "````"
   ]
  },
  {
   "cell_type": "code",
   "execution_count": 30,
   "metadata": {},
   "outputs": [],
   "source": [
    "# tentando sozinha\n",
    "def produto_mais_vendido(vendas):\n",
    "    import csv\n",
    "    arquivo=open(vendas, r)\n",
    "    planilha = csv.reader(arquivo, delimiter=',')\n",
    "    arquivo.close()\n"
   ]
  },
  {
   "cell_type": "code",
   "execution_count": 31,
   "metadata": {},
   "outputs": [
    {
     "name": "stdout",
     "output_type": "stream",
     "text": [
      "banana\n"
     ]
    }
   ],
   "source": [
    "#chat GPT\n",
    "def produto_mais_vendido(vendas):\n",
    "    # Split the CSV content into lines\n",
    "    linhas = vendas.split('\\n')\n",
    "\n",
    "    # Initialize a dictionary to store the total quantities for each product\n",
    "    total_quantities = {}\n",
    "\n",
    "    # Process each line (excluding the header) to calculate total quantities\n",
    "    for linha in linhas[1:]:\n",
    "        # Split each line into columns using \", \" as the separator\n",
    "        data, produto, quantidade, valor = linha.split(\", \")\n",
    "\n",
    "        # Convert the quantity to an integer\n",
    "        quantidade = int(quantidade)\n",
    "\n",
    "        # Update the total quantity for the product\n",
    "        if produto in total_quantities:\n",
    "            total_quantities[produto] += quantidade\n",
    "        else:\n",
    "            total_quantities[produto] = quantidade\n",
    "\n",
    "    # Find the product with the highest total quantity\n",
    "    produto_mais_vendido = max(total_quantities, key=total_quantities.get)\n",
    "\n",
    "    return produto_mais_vendido\n",
    "\n",
    "# Example of use:\n",
    "csv_content = \"data, produto, quantidade, valor\\n2023-07-01, banana, 10, 1.50\\n2023-07-02, maçã, 5, 2.00\\n2023-07-03, laranja, 8, 1.00\"\n",
    "mais_vendido = produto_mais_vendido(csv_content)\n",
    "print(mais_vendido)\n"
   ]
  },
  {
   "cell_type": "code",
   "execution_count": 33,
   "metadata": {},
   "outputs": [
    {
     "name": "stdout",
     "output_type": "stream",
     "text": [
      "laranja\n"
     ]
    }
   ],
   "source": [
    "#chat GPT\n",
    "def produto_mais_vendido(vendas):\n",
    "    linhas = vendas.split('\\n')\n",
    "    total_quantities = {}\n",
    "\n",
    "    for linha in linhas[1:]:\n",
    "        data, produto, quantidade, valor = linha.split(\", \")\n",
    "        quantidade = int(quantidade)\n",
    "        if produto in total_quantities:\n",
    "            total_quantities[produto] += quantidade\n",
    "        else:\n",
    "            total_quantities[produto] = quantidade\n",
    "\n",
    "    produto_mais_vendido = max(total_quantities, key=total_quantities.get)\n",
    "\n",
    "    return produto_mais_vendido\n",
    "\n",
    "# Example of use:\n",
    "csv_content = \"data, produto, quantidade, valor\\n2023-07-01, banana, 1, 1.50\\n2023-07-02, maçã, 5, 2.00\\n2023-07-03, laranja, 8, 1.00\"\n",
    "mais_vendido = produto_mais_vendido(csv_content)\n",
    "print(mais_vendido)\n"
   ]
  },
  {
   "attachments": {},
   "cell_type": "markdown",
   "metadata": {},
   "source": [
    "### Aprofundando: Arquivos CSV - modulo CSV PYTHON\n",
    "\n",
    "\n",
    "\n"
   ]
  },
  {
   "attachments": {},
   "cell_type": "markdown",
   "metadata": {},
   "source": [
    "\n",
    "**Escrevendo um CSV**\n",
    "Para escrever um CSV utilizando o módulo, precisamos ter nossos dados representados como uma lista de listas. Criaremos (ou abriremos) um arquivo usando o open, como já fizemos antes, e utilizaremos um CSV writer - uma estrutura que guardará as regrinhas para escrever nosso CSV.\n",
    "\n",
    "**Lendo um CSV**\n",
    "O processo para ler o CSV é semelhante: utilizamos um CSV reader, com os mesmos parâmetros utilizados no CSV writer. A função csv.reader retorna uma estrutura iterável (ou seja, que pode ser percorrida com for) contendo cada linha já organizada como lista.\n",
    "````\n",
    "import csv\n",
    "\n",
    "arquivo = open('alunos.csv', 'r')\n",
    "\n",
    "planilha = csv.reader(arquivo, delimiter=';', lineterminator='\\n')\n",
    "\n",
    "for linha in planilha:\n",
    "    print(linha)\n",
    "\n",
    "arquivo.close()\n",
    "````\n",
    "Note que a estrutura não é uma lista, mas um objeto iterável. Caso você precise de mais flexibilidade para trabalhar com a sua planilha - por exemplo, caso deseje editá-la, criar novas colunas etc, convém converter a estrutura para uma lista de verdade. É possível usar a função list no objeto para fazer a conversão:\n",
    "````\n",
    "import csv\n",
    "\n",
    "arquivo = open('alunos.csv', 'r')\n",
    "\n",
    "planilha = list(csv.reader(arquivo, delimiter=';', lineterminator='\\n'))\n",
    "\n",
    "arquivo.close()\n",
    "\n",
    "print(planilha)\n",
    "````"
   ]
  },
  {
   "attachments": {},
   "cell_type": "markdown",
   "metadata": {},
   "source": [
    "## 05 MapReduce para cálculo de soma dos quadrados\n"
   ]
  },
  {
   "attachments": {},
   "cell_type": "markdown",
   "metadata": {},
   "source": [
    "Em programação, temos que pensar não apenas na implementação do código propriamente dita para execução correta da tarefa desejada, como também na melhor forma de realizar esta implementação. Com isso, paradigmas de programação foram criados para auxiliar o programador a pensar diferente.\n",
    "\n",
    "Um desses paradigmas é o uso de funções de alta ordem, o que permite que realizemos diversas operações em coleções (listas, tuplas, arrays, etc) sem o uso de loops explicitamente.\n",
    "\n",
    "Um dos usos mais comuns é o uso de funções reduce, responsáveis por acumular uma operação ao longo de uma coleção. Essa função é muito utilizada principalmente em ambientes big data juntamente com a função map.\n",
    "\n",
    "Sabendo disso, crie uma função ger_reduce() que recebe uma lista numérica, e retorna a soma dos quadrados destes números.\n",
    "\n",
    "Obs.: lembre-se que, em Python, devemos importar a função reduce do módulo functools!\n",
    "\n",
    "````\n",
    "def ger_reduce(dictA):\n",
    "\tpass\n",
    "````"
   ]
  },
  {
   "cell_type": "code",
   "execution_count": 35,
   "metadata": {},
   "outputs": [
    {
     "name": "stdout",
     "output_type": "stream",
     "text": [
      "Case Test:\n",
      "268\n",
      "\n",
      "Case private:\n",
      "30\n",
      "\n"
     ]
    }
   ],
   "source": [
    "from functools import reduce\n",
    "\n",
    "def ger_reduce(dictA):\n",
    "\t# usando o reduce e o map diretamente no return\n",
    "\treturn reduce(lambda x, y: x + y, map(lambda x: x**2, dictA))\n",
    "\n",
    "\n",
    "\n",
    "caso_test = [-4, -9, 3, 3, 7, -10, 2]\n",
    "case_private = [1, 2, 3, 4]\n",
    "print(f\"Case Test:\\n{ger_reduce(caso_test)}\\n\")\n",
    "print(f\"Case private:\\n{ger_reduce(case_private)}\\n\")"
   ]
  },
  {
   "attachments": {},
   "cell_type": "markdown",
   "metadata": {},
   "source": [
    "## 06 Dados tabulares como lista de listas"
   ]
  },
  {
   "attachments": {},
   "cell_type": "markdown",
   "metadata": {},
   "source": [
    "Em python, podemos trabalhar com dados tabulares em uma estrutura organizada na forma de lista de listas.\n",
    "\n",
    "Sabendo disso, crie uma função min_max_temperatura() que receba uma lista listas, cada uma com dois elementos: uma data, e uma temperatura. A função deve retornar uma lista com dois elementos: a data de temperatura máxima, e a data de temperatura mínima, nesta ordem.\n",
    "\n",
    "````\n",
    "def min_max_temperatura(temperaturas):\n",
    "\tpass\n",
    "```"
   ]
  },
  {
   "cell_type": "code",
   "execution_count": 36,
   "metadata": {},
   "outputs": [
    {
     "name": "stdout",
     "output_type": "stream",
     "text": [
      "['2023-07-03', '2023-07-04']\n"
     ]
    }
   ],
   "source": [
    "def min_max_temperatura(temperaturas):\n",
    "    # Find the date with maximum temperature using max()\n",
    "    max_temp_date = max(temperaturas, key=lambda x: x[1])[0]\n",
    "\n",
    "    # Find the date with minimum temperature using min()\n",
    "    min_temp_date = min(temperaturas, key=lambda x: x[1])[0]\n",
    "\n",
    "    return [max_temp_date, min_temp_date]\n",
    "\n",
    "# Example of use:\n",
    "temperaturas_input = [[\"2023-07-01\", 30], [\"2023-07-02\", 28], [\"2023-07-03\", 32], [\"2023-07-04\", 25]]\n",
    "resultado_min_max = min_max_temperatura(temperaturas_input)\n",
    "print(resultado_min_max)\n"
   ]
  },
  {
   "cell_type": "code",
   "execution_count": 37,
   "metadata": {},
   "outputs": [
    {
     "name": "stdout",
     "output_type": "stream",
     "text": [
      "['2023-07-03', '2023-07-04']\n"
     ]
    }
   ],
   "source": [
    "def min_max_temperatura(temperaturas):\n",
    "    # Sort the list of lists based on temperature\n",
    "    sorted_temperaturas = sorted(temperaturas, key=lambda x: x[1])\n",
    "\n",
    "    # Get the date with minimum temperature (first element of the sorted list)\n",
    "    min_temp_date = sorted_temperaturas[0][0]\n",
    "\n",
    "    # Get the date with maximum temperature (last element of the sorted list)\n",
    "    max_temp_date = sorted_temperaturas[-1][0]\n",
    "\n",
    "    return [max_temp_date, min_temp_date]\n",
    "\n",
    "# Example of use:\n",
    "temperaturas_input = [[\"2023-07-01\", 30], [\"2023-07-02\", 28], [\"2023-07-03\", 32], [\"2023-07-04\", 25]]\n",
    "resultado_min_max = min_max_temperatura(temperaturas_input)\n",
    "print(resultado_min_max)\n"
   ]
  },
  {
   "cell_type": "code",
   "execution_count": null,
   "metadata": {},
   "outputs": [],
   "source": [
    "def min_max_temperatura(temperaturas):\n",
    "    # Initialize variables to store the date with maximum and minimum temperature\n",
    "    max_temp_date = None\n",
    "    min_temp_date = None\n",
    "    max_temp = float('-inf')  # Initialize max_temp with negative infinity\n",
    "    min_temp = float('inf')   # Initialize min_temp with positive infinity\n",
    "\n",
    "    # Loop through the list of lists to find the maximum and minimum temperatures\n",
    "    for data, temperatura in temperaturas:\n",
    "        if temperatura > max_temp:\n",
    "            max_temp = temperatura\n",
    "            max_temp_date = data\n",
    "        if temperatura < min_temp:\n",
    "            min_temp = temperatura\n",
    "            min_temp_date = data\n",
    "\n",
    "    return [max_temp_date, min_temp_date]\n",
    "\n",
    "# Example of use:\n",
    "temperaturas_input = [[\"2023-07-01\", 30], [\"2023-07-02\", 28], [\"2023-07-03\", 32], [\"2023-07-04\", 25]]\n",
    "resultado_min_max = min_max_temperatura(temperaturas_input)\n",
    "print(resultado_min_max)\n"
   ]
  },
  {
   "attachments": {},
   "cell_type": "markdown",
   "metadata": {},
   "source": [
    "## 07 Paridade de números por funções lambda"
   ]
  },
  {
   "attachments": {},
   "cell_type": "markdown",
   "metadata": {},
   "source": [
    "Em programação, temos que pensar não apenas na implementação do código propriamente dita para execução correta da tarefa desejada, como também na melhor forma de realizar esta implementação. Com isso, paradigmas de programação foram criados para auxiliar o programador a pensar diferente.\n",
    "\n",
    "Um desses paradigmas é a programação funcional, cujo objetivo é aumentar o determinismo do programa de forma que, caso o programa seja escalável e se torne muito grande, os desenvolvedores não percam o controle do código. Uma forma de fazer programação funcional é por meio de funções lambdas, também conhecidas como \"funções anônimas\", tendo esse nome porque não precisam ser declaradas com um nome.\n",
    "\n",
    "Sabendo disso, crie uma função div2() que recebe uma lista numérica e utiliza uma função lambda para retornar uma lista apenas com elementos da lista original que sejam divisíveis por 2.\n",
    "\n",
    "OBS: em um cenário real, a funçãodiv2() seria utilizada para outras funcionalidades também além da utilização da lambda, de forma a melhorar o determinismo do código.\n",
    "\n",
    "```\n",
    "def div2(listaA):\n",
    "\tpass\n",
    "```"
   ]
  },
  {
   "cell_type": "code",
   "execution_count": 44,
   "metadata": {},
   "outputs": [
    {
     "name": "stdout",
     "output_type": "stream",
     "text": [
      "[2, 4, 6, 8, 10]\n"
     ]
    }
   ],
   "source": [
    "#tentando\n",
    "def div2(listaA):\n",
    "    return list(filter(lambda x: x if x % 2 == 0 or x==0 else None, listaA))\n",
    "\n",
    "lista_input = [0,1, 2, 3, 4, 5, 6, 7, 8, 9, 10]\n",
    "resultado_divisiveis_por_2 = div2(lista_input)\n",
    "print(resultado_divisiveis_por_2)"
   ]
  },
  {
   "cell_type": "code",
   "execution_count": 45,
   "metadata": {},
   "outputs": [
    {
     "name": "stdout",
     "output_type": "stream",
     "text": [
      "[0, 2, 4, 6, 8, 10]\n"
     ]
    }
   ],
   "source": [
    "def div2(listaA):\n",
    "    elementos_pares = lambda x: x%2 == 0\n",
    "    filtro_lista = filter(elementos_pares, listaA)\n",
    "    return list(filtro_lista)\n",
    "\n",
    "lista_input = [0,1, 2, 3, 4, 5, 6, 7, 8, 9, 10]\n",
    "resultado_divisiveis_por_2 = div2(lista_input)\n",
    "print(resultado_divisiveis_por_2)"
   ]
  },
  {
   "attachments": {},
   "cell_type": "markdown",
   "metadata": {},
   "source": [
    "## 08 Total de vendas a partir de dados em arquivo\n"
   ]
  },
  {
   "attachments": {},
   "cell_type": "markdown",
   "metadata": {},
   "source": [
    "Comumente precisamos lidar com informações que já foram armazenadas em outros locais antes da execução do programa, como uma planilha do excel, de forma a fazer algum processamento com estas informações. Digamos, por exemplo, que uma empresa tenha armazenado dados sobre as vendas dos últimos 5 anos e queira saber a média anual dessas vendas. Podemos acessar estes dados por meio da leitura de arquivos no python para, posteriormente, realizar o cálculo da média. Similarmente, também podemos salvar informações em arquivos no Python para acesso futuro. Utilizando o mesmo exemplo do histórico de vendas, podemos realizar os cálculos de média anual e salvá-lo em um arquivo para enviar para o gerente de vendas.\n",
    "\n",
    "Sabendo disso, crie uma função media_vendas() para ler um arquivo csv e retornar o total de vendas no período. A função receberá diretamente a string lida de um arquivo csv que usa \", \" como separador. No arquivo, temos as seguintes colunas: data, produto, quantidade, valor. Note que a coluna \"valor\" corresponde ao preço unitário de cada produto, não o valor total da compra. Nosso objetivo é calcular o total de vendas, considerando todos os produtos registrados no arquivo.\n",
    "\n",
    "Obs.: arredonde a resposta final para duas casas decimais.\n",
    "\n",
    "\n",
    "````\n",
    "def media_vendas(vendas):\n",
    "\tpass\n",
    "````"
   ]
  },
  {
   "cell_type": "code",
   "execution_count": null,
   "metadata": {},
   "outputs": [],
   "source": [
    "# fazer um dict com cada produto como key e salvar seus valores somados nas values\n",
    "\n",
    "def media_vendas(vendas):\n",
    "    pass"
   ]
  },
  {
   "cell_type": "code",
   "execution_count": 46,
   "metadata": {},
   "outputs": [
    {
     "name": "stdout",
     "output_type": "stream",
     "text": [
      "33.0\n"
     ]
    }
   ],
   "source": [
    "def media_vendas(vendas):\n",
    "    linhas = vendas.split('\\n')\n",
    "    total_vendas = 0\n",
    "    for linha in linhas[1:]:\n",
    "        # Split each line into columns using \", \" as the separator\n",
    "        data, produto, quantidade, valor = linha.split(\", \")\n",
    "        quantidade = int(quantidade)\n",
    "        valor = float(valor)\n",
    "\n",
    "        total_vendas += quantidade * valor\n",
    "\n",
    "\n",
    "    total_vendas = round(total_vendas, 2)\n",
    "\n",
    "    return total_vendas\n",
    "\n",
    "\n",
    "csv_content = \"data, produto, quantidade, valor\\n2023-07-01, banana, 10, 1.50\\n2023-07-02, maçã, 5, 2.00\\n2023-07-03, laranja, 8, 1.00\"\n",
    "total_vendas = media_vendas(csv_content)\n",
    "print(total_vendas)\n"
   ]
  },
  {
   "cell_type": "code",
   "execution_count": 49,
   "metadata": {},
   "outputs": [
    {
     "name": "stdout",
     "output_type": "stream",
     "text": [
      "33.0\n"
     ]
    }
   ],
   "source": [
    "from functools import reduce\n",
    "\n",
    "def media_vendas(vendas):\n",
    "    linhas = vendas.split('\\n')\n",
    "    vendas_list = [linha.split(\", \") for linha in linhas[1:]]\n",
    "    vendas_list = [(data, produto, int(quantidade), float(valor)) for data, produto, quantidade, valor in vendas_list]\n",
    "    total_sales_list = map(lambda x: x[2] * x[3], vendas_list)\n",
    "\n",
    "    # Filter out any invalid total sales (in case of missing or incorrect data)\n",
    "    #total_sales_list = filter(lambda x: isinstance(x, (int, float)), total_sales_list)\n",
    "\n",
    "    # Calculate the overall total sales using reduce\n",
    "    total_sales = reduce(lambda x, y: x + y, total_sales_list, 0)\n",
    "\n",
    "    # Round the total sales to two decimal places\n",
    "    total_sales = round(total_sales, 2)\n",
    "\n",
    "    return total_sales\n",
    "\n",
    "# Example of use:\n",
    "csv_content = \"data, produto, quantidade, valor\\n2023-07-01, banana, 10, 1.50\\n2023-07-02, maçã, 5, 2.00\\n2023-07-03, laranja, 8, 1.00\"\n",
    "total_vendas = media_vendas(csv_content)\n",
    "print(total_vendas)\n"
   ]
  },
  {
   "cell_type": "code",
   "execution_count": 51,
   "metadata": {},
   "outputs": [
    {
     "data": {
      "text/plain": [
       "float"
      ]
     },
     "execution_count": 51,
     "metadata": {},
     "output_type": "execute_result"
    }
   ],
   "source": [
    "type(total_vendas)"
   ]
  },
  {
   "cell_type": "code",
   "execution_count": null,
   "metadata": {},
   "outputs": [],
   "source": []
  }
 ],
 "metadata": {
  "kernelspec": {
   "display_name": ".venv",
   "language": "python",
   "name": "python3"
  },
  "language_info": {
   "codemirror_mode": {
    "name": "ipython",
    "version": 3
   },
   "file_extension": ".py",
   "mimetype": "text/x-python",
   "name": "python",
   "nbconvert_exporter": "python",
   "pygments_lexer": "ipython3",
   "version": "3.9.6"
  },
  "orig_nbformat": 4
 },
 "nbformat": 4,
 "nbformat_minor": 2
}
