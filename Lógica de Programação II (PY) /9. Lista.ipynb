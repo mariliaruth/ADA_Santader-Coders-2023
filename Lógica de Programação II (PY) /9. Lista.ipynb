{
 "cells": [
  {
   "cell_type": "markdown",
   "metadata": {},
   "source": [
    "# Lógica de Programação II - Listas"
   ]
  },
  {
   "cell_type": "markdown",
   "metadata": {},
   "source": [
    "## Lista 3"
   ]
  },
  {
   "cell_type": "markdown",
   "metadata": {},
   "source": [
    "Exercício 4\n",
    "\n",
    "\n",
    "**Produto mais vendido no arquivo**\n",
    "\n",
    "Comumente precisamos lidar com informações que já foram armazenadas em outros locais antes da execução do programa, como uma planilha do excel, de forma a fazer algum processamento com estas informações. Digamos, por exemplo, que uma empresa tenha armazenado dados sobre as vendas dos últimos 5 anos e queira saber a média anual dessas vendas. Podemos acessar estes dados por meio da leitura de arquivos no python para, posteriormente, realizar o cálculo da média. Similarmente, também podemos salvar informações em arquivos no Python para acesso futuro. Utilizando o mesmo exemplo do histórico de vendas, podemos realizar os cálculos de média anual e salvá-lo em um arquivo para enviar para o gerente de vendas.\n",
    "\n",
    "Sabendo disso, crie uma função produto_mais_vendido() para ler um arquivo csv com as vendas de uma loja e retornar o nome do produto mais vendido (em termos de quantidades de vendas) conforme registrado no arquivo. A função receberá diretamente a string lida de um arquivo csv que usa \", \" como separador. No arquivo, temos as seguintes colunas: data, produto, quantidade, valor."
   ]
  },
  {
   "cell_type": "code",
   "execution_count": 1,
   "metadata": {},
   "outputs": [],
   "source": [
    "string_exemplo = \"data, produto, quantidade, valor\\n20/10/2022, prato, 5, 20.00\\n19/20/2022, copo, 15, 5\\n07/07/2022, lampada, 3, 68.90\"\n",
    "\n",
    "def produto_mais_vendido(vendas):\n",
    "\tdicionario = {produto: int(quantidade) for data, produto, quantidade, valor in vendas}\n",
    "\tlista_produtos = []\n",
    "\tvalor_max = max(dicionario.values())\n",
    "\tfor chave, valor in dicionario.items():\n",
    "\t\tif valor == valor_max:\n",
    "\t\t\tlista_produtos.append(chave.strip())\n",
    "\treturn lista_produtos[0]"
   ]
  },
  {
   "cell_type": "code",
   "execution_count": 39,
   "metadata": {},
   "outputs": [
    {
     "data": {
      "text/plain": [
       "' 15'"
      ]
     },
     "execution_count": 39,
     "metadata": {},
     "output_type": "execute_result"
    }
   ],
   "source": [
    "tabela = string_exemplo.split('\\n')\n",
    "\n",
    "colunas = tabela[0].split(', ')\n",
    "\n",
    "maior_venda = 0\n",
    "nome_maior_venda = ''\n",
    "for produto_string in tabela[1:]:\n",
    "    produto = produto_string.split(', ')\n",
    "    produto_dict = {\n",
    "        colunas[0]: produto[0],\n",
    "        colunas[1]: produto[1],\n",
    "        colunas[2]: produto[2],\n",
    "        colunas[3]: produto[3]\n",
    "    }\n",
    "\n",
    "    if maior_venda < int(produto_dict['quantidade']):\n",
    "        maior_venda = int(produto_dict['quantidade'])\n",
    "        nome_maior_venda = produto_dict['produto']\n",
    "\n",
    "nome_maior_venda\n",
    "tabela_produto = [produto.split(',') for produto in tabela[1:]]\n",
    "max(list(zip(colunas, *tabela_produto))[2][1:], key=int)"
   ]
  },
  {
   "cell_type": "code",
   "execution_count": 41,
   "metadata": {},
   "outputs": [
    {
     "data": {
      "text/plain": [
       "'copo'"
      ]
     },
     "execution_count": 41,
     "metadata": {},
     "output_type": "execute_result"
    }
   ],
   "source": [
    "def produto_mais_vendido(vendas):\n",
    "\tlista = vendas.split(\"\\n\")\n",
    "\tmaior_produto = {\"produto\":\"\", \"qtde\": 0}\n",
    "\tfor l in lista[1:]:\n",
    "\t\tlinha = l.split(\", \")\n",
    "\t\tif not maior_produto['produto']:\n",
    "\t\t\tmaior_produto[\"produto\"] = linha[1]\n",
    "\t\t\tmaior_produto[\"qtde\"]=float(linha[2])\n",
    "\t\telse:\n",
    "\t\t\tif float(linha[2]) > maior_produto[\"qtde\"]:\n",
    "\t\t\t\tmaior_produto[\"produto\"] = linha[1]\n",
    "\t\t\t\tmaior_produto[\"qtde\"]=float(linha[2])\n",
    "\treturn maior_produto[\"produto\"]\n",
    "\n",
    "produto_mais_vendido(string_exemplo)"
   ]
  },
  {
   "cell_type": "markdown",
   "metadata": {},
   "source": [
    "Exercício 5"
   ]
  },
  {
   "cell_type": "markdown",
   "metadata": {},
   "source": [
    "**MapReduce para cálculo de soma dos quadrados**\n",
    "\n",
    "Em programação, temos que pensar não apenas na implementação do código propriamente dita para execução correta da tarefa desejada, como também na melhor forma de realizar esta implementação. Com isso, paradigmas de programação foram criados para auxiliar o programador a pensar diferente.\n",
    "\n",
    "Um desses paradigmas é o uso de funções de alta ordem, o que permite que realizemos diversas operações em coleções (listas, tuplas, arrays, etc) sem o uso de loops explicitamente.\n",
    "\n",
    "Um dos usos mais comuns é o uso de funções reduce, responsáveis por acumular uma operação ao longo de uma coleção. Essa função é muito utilizada principalmente em ambientes big data juntamente com a função map.\n",
    "\n",
    "Sabendo disso, crie uma função ger_reduce() que recebe uma lista numérica, e retorna a soma dos quadrados destes números.\n",
    "\n",
    "Obs.: lembre-se que, em Python, devemos importar a função reduce do módulo functools!"
   ]
  },
  {
   "cell_type": "code",
   "execution_count": 4,
   "metadata": {},
   "outputs": [],
   "source": [
    "caso_test = [-4, -9, 3, 3, 7, -10, 2]\n",
    "case_private = [1, 2, 3, 4]"
   ]
  },
  {
   "cell_type": "code",
   "execution_count": 6,
   "metadata": {},
   "outputs": [],
   "source": [
    "from functools import reduce\n",
    "\n",
    "def ger_reduce(dictA):\n",
    "\t# usando o reduce e o map diretamente no return\n",
    "\treturn reduce(lambda x, y: x + y, map(lambda x: x**2, dictA))"
   ]
  },
  {
   "cell_type": "code",
   "execution_count": 7,
   "metadata": {},
   "outputs": [
    {
     "data": {
      "text/plain": [
       "30"
      ]
     },
     "execution_count": 7,
     "metadata": {},
     "output_type": "execute_result"
    }
   ],
   "source": [
    "caso_test = [-4, -9, 3, 3, 7, -10, 2]\n",
    "case_private = [1, 2, 3, 4]\n",
    "print(f\"Case Test:\\n{ger_reduce(caso_test)}\\n\")\n",
    "print(f\"Case private:\\n{ger_reduce(case_private)}\\n\")"
   ]
  },
  {
   "cell_type": "code",
   "execution_count": null,
   "metadata": {},
   "outputs": [],
   "source": []
  },
  {
   "cell_type": "markdown",
   "metadata": {},
   "source": [
    "Exerício 7\n",
    "\n",
    "Paridade de números por funções lambda\n",
    "\n",
    "Em programação, temos que pensar não apenas na implementação do código propriamente dita para execução correta da tarefa desejada, como também na melhor forma de realizar esta implementação. Com isso, paradigmas de programação foram criados para auxiliar o programador a pensar diferente.\n",
    "\n",
    "Um desses paradigmas é a programação funcional, cujo objetivo é aumentar o determinismo do programa de forma que, caso o programa seja escalável e se torne muito grande, os desenvolvedores não percam o controle do código. Uma forma de fazer programação funcional é por meio de funções lambdas, também conhecidas como \"funções anônimas\", tendo esse nome porque não precisam ser declaradas com um nome.\n",
    "\n",
    "Sabendo disso, crie uma função div2() que recebe uma lista numérica e utiliza uma função lambda para retornar uma lista apenas com elementos da lista original que sejam divisíveis por 2.\n",
    "\n",
    "OBS: em um cenário real, a funçãodiv2() seria utilizada para outras funcionalidades também além da utilização da lambda, de forma a melhorar o determinismo do código."
   ]
  },
  {
   "cell_type": "code",
   "execution_count": 56,
   "metadata": {},
   "outputs": [],
   "source": [
    "def div2(listaA):\n",
    "    elementos_pares = lambda x: x%2 == 0\n",
    "    filtro_lista = filter(elementos_pares, listaA)\n",
    "    return list(filtro_lista)"
   ]
  },
  {
   "cell_type": "code",
   "execution_count": null,
   "metadata": {},
   "outputs": [],
   "source": [
    "def div2(listaA):\n",
    "\treturn list(filter(lambda x: x%2 == 0, listaA))\n"
   ]
  },
  {
   "cell_type": "code",
   "execution_count": null,
   "metadata": {},
   "outputs": [],
   "source": [
    "def div2(listaA):\n",
    "    return list(filter(lambda x: x if x % 2 == 0 else None, listaA))"
   ]
  },
  {
   "cell_type": "markdown",
   "metadata": {},
   "source": [
    "Exercício 8\n",
    "\n",
    "**Total de vendas a partir de dados em arquivo**\n",
    "\n",
    "Comumente precisamos lidar com informações que já foram armazenadas em outros locais antes da execução do programa, como uma planilha do excel, de forma a fazer algum processamento com estas informações. Digamos, por exemplo, que uma empresa tenha armazenado dados sobre as vendas dos últimos 5 anos e queira saber a média anual dessas vendas. Podemos acessar estes dados por meio da leitura de arquivos no python para, posteriormente, realizar o cálculo da média. Similarmente, também podemos salvar informações em arquivos no Python para acesso futuro. Utilizando o mesmo exemplo do histórico de vendas, podemos realizar os cálculos de média anual e salvá-lo em um arquivo para enviar para o gerente de vendas.\n",
    "\n",
    "Sabendo disso, crie uma função media_vendas() para ler um arquivo csv e retornar o total de vendas no período. A função receberá diretamente a string lida de um arquivo csv que usa \", \" como separador. No arquivo, temos as seguintes colunas: data, produto, quantidade, valor. Note que a coluna \"valor\" corresponde ao preço unitário de cada produto, não o valor total da compra. Nosso objetivo é calcular o total de vendas, considerando todos os produtos registrados no arquivo.\n",
    "\n",
    "Obs.: arredonde a resposta final para duas casas decimais."
   ]
  },
  {
   "cell_type": "code",
   "execution_count": 53,
   "metadata": {},
   "outputs": [],
   "source": [
    "def media_vendas(vendas):\n",
    "\tlinhas = vendas.split(\"\\n\")\n",
    "\tlista = [float(linha.split(\", \")[2]) * float(linha.split(\", \")[3]) for linha in linhas[1:]]\n",
    "\treturn sum(lista)"
   ]
  },
  {
   "cell_type": "code",
   "execution_count": 55,
   "metadata": {},
   "outputs": [
    {
     "data": {
      "text/plain": [
       "662.25"
      ]
     },
     "execution_count": 55,
     "metadata": {},
     "output_type": "execute_result"
    }
   ],
   "source": [
    "vendas = \"data, produto, quantidade, valor\\n20/10/2022, ventilador, 1, 120.00\\n19/20/2022, cadeira, 1, 335.55\\n07/07/2022, lampada, 3, 68.90\"\n",
    "media_vendas(vendas)"
   ]
  },
  {
   "cell_type": "markdown",
   "metadata": {},
   "source": [
    "## Lista 2"
   ]
  },
  {
   "cell_type": "markdown",
   "metadata": {},
   "source": [
    "Exercício 5\n",
    "\n",
    "**Encontrando números divisíveis por 7**\n",
    "\n",
    "Uma forma \"pythonica\" de iterarmos por listas é por meio de compreensão de listas, que substitui o uso de um laço de repetição for tal como implementamos tradicionalmente para a criação de novas listas.\n",
    "\n",
    "Sabendo disso, digamos que em um sistema desejemos buscar, entre 1000 usuários, apenas aqueles cujo ID é divisível por 7. Faça uma função numerosDiv7() para este sistema que receba uma lista A de 1000 elementos e retorne uma lista apenas com os elementos de A que são divisíveis por 7.\n",
    "\n",
    "OBS: Caso existam elementos repetidos na lista, a saída deverá exibir apenas os elementos únicos divisíveis por 7. E se não houver elementos divisíveis por 7, o programa deve retornar uma lista vazia.\n"
   ]
  },
  {
   "cell_type": "code",
   "execution_count": null,
   "metadata": {},
   "outputs": [],
   "source": [
    "def numerosDiv7(listaA):\n",
    "\tlista_tratada = sorted(set(listaA))\n",
    "\tlista_with_div_7 = [item for item in lista_tratada if item % 7 == 0]\n",
    "\n",
    "\treturn lista_with_div_7"
   ]
  },
  {
   "cell_type": "code",
   "execution_count": null,
   "metadata": {},
   "outputs": [],
   "source": [
    "def numerosDiv7(listaA):\n",
    "\tlista = [x for x in listaA if x % 7 == 0]\n",
    "\tlistaFinal =list(set(lista))\n",
    "\tlistaFinal.sort() \n",
    "\t\n",
    "\treturn listaFinal"
   ]
  },
  {
   "cell_type": "code",
   "execution_count": null,
   "metadata": {},
   "outputs": [],
   "source": [
    "def numerosDiv7(listaA):\n",
    "\tlista = list(set(listaA))\n",
    "\tresult = [n for n in lista if n%7==0]\n",
    "\tresult.sort()\n",
    "\treturn result"
   ]
  },
  {
   "cell_type": "code",
   "execution_count": 62,
   "metadata": {},
   "outputs": [
    {
     "name": "stdout",
     "output_type": "stream",
     "text": [
      "[6, 53, 2, 3, 4, 1]\n",
      "None\n",
      "Segundo print\n",
      "[1, 2, 3, 4, 6, 53]\n"
     ]
    }
   ],
   "source": [
    "listaA = [6, 53, 2, 3, 4, 1]\n",
    "print(listaA)\n",
    "print(listaA.sort())\n",
    "print('Segundo print')\n",
    "print(listaA)"
   ]
  },
  {
   "cell_type": "code",
   "execution_count": null,
   "metadata": {},
   "outputs": [],
   "source": [
    "def numerosDiv7(listaA):\n",
    "\tdivisiveis = []\n",
    "\tnao_divisiveis = []\n",
    "\tx = [divisiveis.append(numero) if numero % 7 == 0 else nao_divisiveis for numero in listaA]\n",
    "\treturn sorted(set(x))"
   ]
  },
  {
   "cell_type": "code",
   "execution_count": null,
   "metadata": {},
   "outputs": [],
   "source": [
    "def numerosDiv7(listaA):\n",
    "\tset_ids = set(listaA)\n",
    "\tlista_ids = [id for id in set_ids if id % 7 == 0]\n",
    "\treturn sorted(lista_ids)"
   ]
  },
  {
   "cell_type": "code",
   "execution_count": null,
   "metadata": {},
   "outputs": [],
   "source": [
    "def numerosDiv7(listaA):\n",
    "\tnum_list = [\n",
    "\t\tnum for num in listaA if (num % 7 == 0)\n",
    "\t]\n",
    "\n",
    "\tfinal_list = []\n",
    "\tfor num in num_list:\n",
    "\t\tif num not in final_list:\n",
    "\t\t\tfinal_list.append(num)\n",
    "\t\t\n",
    "\tfinal_list.sort()\n",
    "\treturn final_list"
   ]
  },
  {
   "cell_type": "code",
   "execution_count": null,
   "metadata": {},
   "outputs": [],
   "source": [
    "def numerosDiv7(listaA):\n",
    "\taux = set(item for item in listaA if item%7 == 0)\n",
    "\treturn sorted(list(aux))"
   ]
  },
  {
   "cell_type": "markdown",
   "metadata": {},
   "source": [
    "## Lista 4"
   ]
  },
  {
   "cell_type": "markdown",
   "metadata": {},
   "source": [
    "Exercício 4\n",
    "\n",
    "Uso de Arquivos JSON - parte 2\n",
    "\n",
    "No python, principalmente em aplicações web, é muito comum utilizarmos o formato JSON. Essa linguagem possui sintaxe semelhante a um dicionário e torna o entendimento do arquivo legível para humanos.\n",
    "\n",
    "Em um arquivo JSON, podemos ter estruturas que variam desde estruturas semelhantes a dicionários simples como dicionários compostos e diferentes estruturas agregadas (listas e tuplas, por exemplo).\n",
    "\n",
    "Sabendo disso, crie uma função que recebe uma lista de chaves, uma lista de valores (respectivamente) e cria um json a partir dessas listas. A função deverá retornar uma string que representa o json criado."
   ]
  },
  {
   "cell_type": "code",
   "execution_count": 64,
   "metadata": {},
   "outputs": [],
   "source": [
    "import json\n",
    "\n",
    "def cria_arquivo_json(chaves, valores):\n",
    "    dicionario = {chave: valor for chave, valor in zip(chaves, valores)}\n",
    "    dicionario = dict(zip(chaves, valores))\n",
    "\n",
    "    return json.dumps(dicionario)"
   ]
  },
  {
   "cell_type": "code",
   "execution_count": 65,
   "metadata": {},
   "outputs": [
    {
     "data": {
      "text/plain": [
       "'{\"chave\": \"valor\", \"chave_2\": \"valor_2\"}'"
      ]
     },
     "execution_count": 65,
     "metadata": {},
     "output_type": "execute_result"
    }
   ],
   "source": [
    "dicionario = {'chave': 'valor', 'chave_2': 'valor_2'}\n",
    "json.dumps(dicionario)"
   ]
  },
  {
   "cell_type": "code",
   "execution_count": 66,
   "metadata": {},
   "outputs": [],
   "source": [
    "import json\n",
    "def cria_arquivo_json(chaves, valores):\n",
    "\tdicionario = dict(zip(chaves, valores))\n",
    "\treturn json.dumps(dicionario)"
   ]
  },
  {
   "cell_type": "code",
   "execution_count": 67,
   "metadata": {},
   "outputs": [],
   "source": [
    "def cria_arquivo_json(chaves, valores):\n",
    "\ttry:\n",
    "\t\tdicionario = {chaves[i]: valores[i] for i in range(len(chaves))}\n",
    "\t\treturn json.dumps(dicionario)\n",
    "\texcept Exception as error:\n",
    "\t\tprint(error)\n",
    "\t\traise"
   ]
  },
  {
   "cell_type": "code",
   "execution_count": 68,
   "metadata": {},
   "outputs": [],
   "source": [
    "def cria_arquivo_json(chaves, valores):\n",
    "\tif len(chaves) != len(valores):\n",
    "\t\traise ValueError(\"A quantidade de chaves e de valores devem ser iguais.\")\n",
    "\t\t\n",
    "\tdict_dados = dict(zip(chaves, valores))\n",
    "\tjson_dados = json.dumps(dict_dados)\n",
    "\treturn json_dados"
   ]
  },
  {
   "cell_type": "markdown",
   "metadata": {},
   "source": [
    "Exercício 6\n",
    "\n",
    "Validação por blocos try except - parte 4\n",
    "\n",
    "Quando implementamos um software, precisamos pensar nas diferentes situações que podem ocorrer nele, inclusive possíveis falhas. Uma falha que não seja detectada previamente pode resultar em uma interrupção abrupta do programa e esta pode ocorrer de diferentes formas.\n",
    "\n",
    "Por exemplo, suponhamos que um programa necessite de arquitos externos para ser executado e um desses arquivos tenha sido movido para outro diretório, porém, o programa esteja fazendo a leitura do arquivo no diretório antigo. Quando o programa for executado, ele não encontrará o arquivo e sua execução pode ser interrompida. Um outro exemplo são operações matemáticas não permitidas, como uma divisão por zero.\n",
    "\n",
    "Para evitar isso, utilizamos blocos try-except a fim de tratar possíveis erros e evitar a quebra do programa. Podemos utilizar esses blocos juntamente também de estruturas if-else. Sabendo disso, crie uma função verifica_numero(x1) que recebe um número e, caso este número não seja positivo, retorne uma exceção de tipo Exception(\"Número deverá ser maior que zero\")."
   ]
  },
  {
   "cell_type": "code",
   "execution_count": null,
   "metadata": {},
   "outputs": [],
   "source": [
    "def verifica_numero(x1):\n",
    "\tif x1 < 0:\n",
    "\t\traise Exception(\"Número deverá ser maior que zero\")\n",
    "\t\t\n",
    "\tprint(f\"Número {x1} válido\")"
   ]
  },
  {
   "cell_type": "code",
   "execution_count": 69,
   "metadata": {},
   "outputs": [],
   "source": [
    "def verifica_numero(x1):\n",
    "\tif x1 < 0:\n",
    "\t\traise Exception('Número deverá ser maior que zero')"
   ]
  },
  {
   "cell_type": "code",
   "execution_count": null,
   "metadata": {},
   "outputs": [],
   "source": [
    "class NumeroPositivo(Exception):\n",
    "\tpass\n",
    "\n",
    "\n",
    "def verifica_numero(x1):\n",
    "\ttry:\n",
    "\t\tif x1 < 0:\n",
    "\t\t\traise NumeroPositivo(f'Numero {x1} deve ser positivo')\n",
    "\texcept Exception as error:\n",
    "\t\tprint(error)\n",
    "\t\traise"
   ]
  },
  {
   "cell_type": "markdown",
   "metadata": {},
   "source": [
    "Exercício 7\n",
    "\n",
    "**Validação por blocos try except - parte 2**\n",
    "\n",
    "Quando implementamos um software, precisamos pensar nas diferentes situações que podem ocorrer nele, inclusive possíveis falhas. Uma falha que não seja detectada previamente pode resultar em uma interrupção abrupta do programa e esta pode ocorrer de diferentes formas.\n",
    "\n",
    "Por exemplo, suponhamos que um programa necessite de arquitos externos para ser executado e um desses arquivos tenha sido movido para outro diretório, porém, o programa esteja fazendo a leitura do arquivo no diretório antigo. Quando o programa for executado, ele não encontrará o arquivo e sua execução pode ser interrompida. Um outro exemplo são operações matemáticas não permitidas, como uma divisão por zero.\n",
    "\n",
    "Para evitar isso, utilizamos blocos try-except a fim de tratar possíveis erros e evitar a quebra do programa. Sabendo disso, implemente a função divide_dois_numeros(), que recebe dois números x e y e retorna a divisão do número x por y. Para garantir o uso correto, adicione um bloco try-except nesta função de forma que, caso y seja igual a zero, acione uma cláusula except ZeroDivisionError, além de uma segunda cláusula except para caso a função seja chamada sem um dos dois parâmetros obrigatórios (variáveis x e y), subindo um erro do tipo adequado (alguma built-in Exception) caso algum dos argumentos não seja passado."
   ]
  },
  {
   "cell_type": "code",
   "execution_count": 8,
   "metadata": {},
   "outputs": [],
   "source": [
    "x=5\n",
    "y=0"
   ]
  },
  {
   "cell_type": "code",
   "execution_count": 9,
   "metadata": {},
   "outputs": [
    {
     "name": "stdout",
     "output_type": "stream",
     "text": [
      "division by zero\n"
     ]
    }
   ],
   "source": [
    "def divide_dois_numeros(x=None,y=None):\n",
    "\ttry:\n",
    "\t\tif x == None or y == None:\n",
    "\t\t\traise TypeError(\"Argumentos x e y devem ser passados.\")\n",
    "\t\t\n",
    "\t\treturn x / y\n",
    "\texcept ZeroDivisionError as e:\n",
    "\t\tprint(str(e))\n",
    "\texcept TypeError as e:\n",
    "\t\tprint(str(e))\n",
    "\n",
    "\n",
    "divide_dois_numeros(5,0)"
   ]
  },
  {
   "cell_type": "code",
   "execution_count": 10,
   "metadata": {},
   "outputs": [
    {
     "ename": "ZeroDivisionError",
     "evalue": "Não é possível dividir por zero",
     "output_type": "error",
     "traceback": [
      "\u001b[0;31m---------------------------------------------------------------------------\u001b[0m",
      "\u001b[0;31mZeroDivisionError\u001b[0m                         Traceback (most recent call last)",
      "Cell \u001b[0;32mIn[10], line 3\u001b[0m, in \u001b[0;36mdivide_dois_numeros\u001b[0;34m(x, y)\u001b[0m\n\u001b[1;32m      2\u001b[0m \u001b[39mtry\u001b[39;00m:\n\u001b[0;32m----> 3\u001b[0m \t\u001b[39mreturn\u001b[39;00m x\u001b[39m/\u001b[39;49my\n\u001b[1;32m      4\u001b[0m \u001b[39mexcept\u001b[39;00m \u001b[39mZeroDivisionError\u001b[39;00m:\n",
      "\u001b[0;31mZeroDivisionError\u001b[0m: division by zero",
      "\nDuring handling of the above exception, another exception occurred:\n",
      "\u001b[0;31mZeroDivisionError\u001b[0m                         Traceback (most recent call last)",
      "Cell \u001b[0;32mIn[10], line 9\u001b[0m\n\u001b[1;32m      6\u001b[0m \t\u001b[39mexcept\u001b[39;00m \u001b[39mTypeError\u001b[39;00m:\n\u001b[1;32m      7\u001b[0m \t\t\u001b[39mraise\u001b[39;00m \u001b[39mTypeError\u001b[39;00m(\u001b[39m\"\u001b[39m\u001b[39mnúmero de argumentos inadequado\u001b[39m\u001b[39m\"\u001b[39m)\n\u001b[0;32m----> 9\u001b[0m divide_dois_numeros(\u001b[39m5\u001b[39;49m,\u001b[39m0\u001b[39;49m)\n",
      "Cell \u001b[0;32mIn[10], line 5\u001b[0m, in \u001b[0;36mdivide_dois_numeros\u001b[0;34m(x, y)\u001b[0m\n\u001b[1;32m      3\u001b[0m \t\u001b[39mreturn\u001b[39;00m x\u001b[39m/\u001b[39my\n\u001b[1;32m      4\u001b[0m \u001b[39mexcept\u001b[39;00m \u001b[39mZeroDivisionError\u001b[39;00m:\n\u001b[0;32m----> 5\u001b[0m \t\u001b[39mraise\u001b[39;00m \u001b[39mZeroDivisionError\u001b[39;00m(\u001b[39m'\u001b[39m\u001b[39mNão é possível dividir por zero\u001b[39m\u001b[39m'\u001b[39m)\n\u001b[1;32m      6\u001b[0m \u001b[39mexcept\u001b[39;00m \u001b[39mTypeError\u001b[39;00m:\n\u001b[1;32m      7\u001b[0m \t\u001b[39mraise\u001b[39;00m \u001b[39mTypeError\u001b[39;00m(\u001b[39m\"\u001b[39m\u001b[39mnúmero de argumentos inadequado\u001b[39m\u001b[39m\"\u001b[39m)\n",
      "\u001b[0;31mZeroDivisionError\u001b[0m: Não é possível dividir por zero"
     ]
    }
   ],
   "source": [
    "def divide_dois_numeros(x,y):\n",
    "\ttry:\n",
    "\t\treturn x/y\n",
    "\texcept ZeroDivisionError:\n",
    "\t\traise ZeroDivisionError('Não é possível dividir por zero')\n",
    "\texcept TypeError:\n",
    "\t\traise TypeError(\"número de argumentos inadequado\")\n",
    "\n",
    "divide_dois_numeros(5,0)"
   ]
  },
  {
   "cell_type": "code",
   "execution_count": 11,
   "metadata": {},
   "outputs": [
    {
     "name": "stdout",
     "output_type": "stream",
     "text": [
      "Divisor não pode ser zero\n"
     ]
    },
    {
     "ename": "ZeroDivisionError",
     "evalue": "division by zero",
     "output_type": "error",
     "traceback": [
      "\u001b[0;31m---------------------------------------------------------------------------\u001b[0m",
      "\u001b[0;31mZeroDivisionError\u001b[0m                         Traceback (most recent call last)",
      "Cell \u001b[0;32mIn[11], line 11\u001b[0m\n\u001b[1;32m      8\u001b[0m \t\t\u001b[39mprint\u001b[39m(error)\n\u001b[1;32m      9\u001b[0m \t\t\u001b[39mraise\u001b[39;00m\n\u001b[0;32m---> 11\u001b[0m divide_dois_numeros(\u001b[39m5\u001b[39;49m,\u001b[39m0\u001b[39;49m)\n",
      "Cell \u001b[0;32mIn[11], line 3\u001b[0m, in \u001b[0;36mdivide_dois_numeros\u001b[0;34m(x, y)\u001b[0m\n\u001b[1;32m      1\u001b[0m \u001b[39mdef\u001b[39;00m \u001b[39mdivide_dois_numeros\u001b[39m(x,y):\n\u001b[1;32m      2\u001b[0m \t\u001b[39mtry\u001b[39;00m:\n\u001b[0;32m----> 3\u001b[0m \t\t\u001b[39mreturn\u001b[39;00m x \u001b[39m/\u001b[39;49m y \n\u001b[1;32m      4\u001b[0m \t\u001b[39mexcept\u001b[39;00m \u001b[39mZeroDivisionError\u001b[39;00m:\n\u001b[1;32m      5\u001b[0m \t\t\u001b[39mprint\u001b[39m(\u001b[39m\"\u001b[39m\u001b[39mDivisor não pode ser zero\u001b[39m\u001b[39m\"\u001b[39m)\n",
      "\u001b[0;31mZeroDivisionError\u001b[0m: division by zero"
     ]
    }
   ],
   "source": [
    "def divide_dois_numeros(x,y):\n",
    "\ttry:\n",
    "\t\treturn x / y \n",
    "\texcept ZeroDivisionError:\n",
    "\t\tprint(\"Divisor não pode ser zero\")\n",
    "\t\traise \n",
    "\texcept Exception as error:\n",
    "\t\tprint(error)\n",
    "\t\traise\n",
    "\n",
    "divide_dois_numeros(5,0)"
   ]
  },
  {
   "cell_type": "code",
   "execution_count": null,
   "metadata": {},
   "outputs": [],
   "source": []
  }
 ],
 "metadata": {
  "kernelspec": {
   "display_name": "Python 3",
   "language": "python",
   "name": "python3"
  },
  "language_info": {
   "codemirror_mode": {
    "name": "ipython",
    "version": 3
   },
   "file_extension": ".py",
   "mimetype": "text/x-python",
   "name": "python",
   "nbconvert_exporter": "python",
   "pygments_lexer": "ipython3",
   "version": "3.9.6"
  },
  "orig_nbformat": 4
 },
 "nbformat": 4,
 "nbformat_minor": 2
}
