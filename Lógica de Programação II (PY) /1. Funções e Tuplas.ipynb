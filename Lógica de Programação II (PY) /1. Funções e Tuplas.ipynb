{
 "cells": [
  {
   "cell_type": "markdown",
   "metadata": {},
   "source": [
    "# Lógica de Programação II"
   ]
  },
  {
   "attachments": {},
   "cell_type": "markdown",
   "metadata": {},
   "source": [
    "## Funções"
   ]
  },
  {
   "cell_type": "markdown",
   "metadata": {},
   "source": [
    "### Tópicos da aula\n",
    "- Intuição das funções\n",
    "- Parâmetros\n",
    "- Retorno\n",
    "- Bônus: Recursão"
   ]
  },
  {
   "attachments": {},
   "cell_type": "markdown",
   "metadata": {},
   "source": [
    "Criar um programa que calcule o volume de um cilindro dado o raio r e a altura h."
   ]
  },
  {
   "attachments": {},
   "cell_type": "markdown",
   "metadata": {},
   "source": [
    "Volume de um cilindro\n",
    "\n",
    "<img src= 'https://br.neurochispas.com/wp-content/uploads/2022/08/Formulas-para-a-area-e-volume-de-um-cilindro.webp' width=\"200\">"
   ]
  },
  {
   "cell_type": "code",
   "execution_count": null,
   "metadata": {},
   "outputs": [],
   "source": []
  },
  {
   "attachments": {},
   "cell_type": "markdown",
   "metadata": {},
   "source": [
    "Calcular a área do trapézio dado os valores necessários.\n",
    "\n",
    "<img src='https://www.matematica.pt/images/faq/calcular-area-trapezio.png' width='300'>"
   ]
  },
  {
   "cell_type": "code",
   "execution_count": null,
   "metadata": {},
   "outputs": [],
   "source": []
  },
  {
   "cell_type": "markdown",
   "metadata": {},
   "source": [
    "Modifique os dados da lista a seguir utilizando a fórmula abaixo:\n",
    "\n",
    "$\\frac{X-\\overline{X}}{S}$, onde $\\overline{X}$ é a média dos valores e $S$ o total de items na lista\n",
    "\n",
    "\n",
    "[1, 2, 5, 6, 7, 10, 11, 15, 28, 19, 24, 55, 100, 101]"
   ]
  },
  {
   "cell_type": "code",
   "execution_count": null,
   "metadata": {},
   "outputs": [],
   "source": []
  },
  {
   "attachments": {},
   "cell_type": "markdown",
   "metadata": {},
   "source": [
    "E se quisermos utilizar diversas vezes o mesmo programa?\n",
    "\n",
    "Para isso podemos usar as **funções**\n",
    "\n",
    "Para definir uma função utilizamos a palavra `def`"
   ]
  },
  {
   "cell_type": "code",
   "execution_count": null,
   "metadata": {},
   "outputs": [],
   "source": []
  },
  {
   "attachments": {},
   "cell_type": "markdown",
   "metadata": {},
   "source": [
    "### Parâmetros da função"
   ]
  },
  {
   "cell_type": "code",
   "execution_count": null,
   "metadata": {},
   "outputs": [],
   "source": []
  },
  {
   "attachments": {},
   "cell_type": "markdown",
   "metadata": {},
   "source": [
    "### Return"
   ]
  },
  {
   "cell_type": "code",
   "execution_count": null,
   "metadata": {},
   "outputs": [],
   "source": []
  },
  {
   "cell_type": "markdown",
   "metadata": {},
   "source": [
    "## Tuplas"
   ]
  },
  {
   "cell_type": "markdown",
   "metadata": {},
   "source": [
    "Até o momento, temos utilizado **listas** pra armazenar uma coleção de dados.\n",
    "\n",
    "Aprenderemos agora sobre uma nova **estrutura de dados**: tuplas!\n",
    "\n",
    "Tuplas são estruturas bastante parecidas com listas:\n",
    "\n",
    "- Podem guardar **tipos diferentes de dados**.\n",
    "- São indexadas (podemos **acessar elementos por índices**).\n",
    "- São iteráveis (**podemos percorrer com o `for`**)."
   ]
  },
  {
   "cell_type": "code",
   "execution_count": null,
   "metadata": {},
   "outputs": [],
   "source": []
  },
  {
   "cell_type": "markdown",
   "metadata": {},
   "source": [
    "**Loop do tipo `for`**"
   ]
  },
  {
   "cell_type": "code",
   "execution_count": null,
   "metadata": {},
   "outputs": [],
   "source": []
  },
  {
   "cell_type": "markdown",
   "metadata": {},
   "source": [
    "**Fatiando (slicing) dos dados**"
   ]
  },
  {
   "cell_type": "code",
   "execution_count": null,
   "metadata": {},
   "outputs": [],
   "source": []
  },
  {
   "cell_type": "markdown",
   "metadata": {},
   "source": [
    "Tuplas podem virar listas, e listas podem virar tuplas!"
   ]
  },
  {
   "cell_type": "code",
   "execution_count": null,
   "metadata": {},
   "outputs": [],
   "source": []
  },
  {
   "cell_type": "markdown",
   "metadata": {},
   "source": [
    "A principal diferença é: tuplas são **imutáveis**!\n",
    "\n",
    "Para tuplas **não é possível**: alterar elementos individuais, adicionar elementos, remover elementos ou alterar a ordem dos elementos. Uma vez criada, não é possível alterar nada de uma tupla!"
   ]
  },
  {
   "cell_type": "code",
   "execution_count": null,
   "metadata": {},
   "outputs": [],
   "source": []
  },
  {
   "cell_type": "markdown",
   "metadata": {},
   "source": [
    "Qual a vantagem das tuplas?\n",
    "\n",
    "As tuplas e listas possuem operações úteis parecidas, `slicing`, `index`, `ordenação`. Sendo a principal diferença é que as listas conseguimos modificar o seu conteúdo enquanto as tuplas não conseguimos.\n",
    "\n",
    "Há duas diferenças que sugerem o uso de tuplas no lugar de listas:\n",
    "- Performance:\n",
    "  - Tuplas apresentam uma leve vantagem de acesso (\"pegar\" um elemento)\n",
    "  - Tuplas ocupam menos espaço na memória\n",
    "- Indicar de uma estrutura rígida:\n",
    "  - É um jeito de **sinalizar que esses dados não deveriam ser alterados**. \n",
    "  - É um meio de garantir que os elementos estarão **em uma ordem específica**.\n",
    "\n",
    "\n",
    "  - Quando utilizamos tuplas, queremos indicar que novos elementos não deveriam ser inseridos, assim como o seu conteúdo não deveria ser modificado"
   ]
  },
  {
   "cell_type": "markdown",
   "metadata": {},
   "source": [
    "# Exercícios"
   ]
  },
  {
   "cell_type": "markdown",
   "metadata": {},
   "source": [
    "## Funções"
   ]
  },
  {
   "attachments": {},
   "cell_type": "markdown",
   "metadata": {},
   "source": [
    "1. Escreva uma função que calcule e retorne o dobro de um número inserido. Teste este caso solicitando ao usuário que insira um número e após isso, retorne a resposta."
   ]
  },
  {
   "cell_type": "code",
   "execution_count": null,
   "metadata": {},
   "outputs": [],
   "source": []
  },
  {
   "attachments": {},
   "cell_type": "markdown",
   "metadata": {},
   "source": [
    "2. Crie uma função para cálculo do comprimento da circunferência (C = 2 * 3.14 * R), sendo C o comprimento e R o raio da circunferência "
   ]
  },
  {
   "cell_type": "code",
   "execution_count": null,
   "metadata": {},
   "outputs": [],
   "source": []
  },
  {
   "attachments": {},
   "cell_type": "markdown",
   "metadata": {},
   "source": [
    "3. Faça uma função que emita uma saudação baseada no horário. A função deve receber o nome e o horário (apenas número inteiro) e emita a mensagem com as seguintes condições:\n",
    "- até meio dia (não incluso): \"Bom dia, (VARIAVEL_NOME)\"\n",
    "- entre meio dia (incluso) e 18h (não incluso): \"Boa tarde, (VARIAVEL_NOME)\"\n",
    "- após as 18h (incluso): \"Boa noite, (VARIAVEL_NOME)\""
   ]
  },
  {
   "cell_type": "code",
   "execution_count": null,
   "metadata": {},
   "outputs": [],
   "source": []
  },
  {
   "attachments": {},
   "cell_type": "markdown",
   "metadata": {},
   "source": [
    "4. Faça uma função que verifique se um número é par. Teste esta função solicitando ao usuário que digite um número e emitindo a mensagem adequada caso o número seja par ou não."
   ]
  },
  {
   "cell_type": "code",
   "execution_count": null,
   "metadata": {},
   "outputs": [],
   "source": []
  },
  {
   "attachments": {},
   "cell_type": "markdown",
   "metadata": {},
   "source": [
    "5. Crie uma função que recebe duas listas. Caso estas duas listas sejam do mesmo tamanho some os elementos de cada lista com mesmo índica, caso contrário retorne uma lista vazia.\n",
    "Se as duas listas de entrada forem do mesmo tamanho o programa deve se comportar como no exemplo:\n",
    "```python\n",
    "lista_01 = [1, 2, 3, 4, 5]\n",
    "lista_02 = [6, 7, 8, 9, 10]\n",
    "\n",
    "soma_listas(lista_01, lista_02)\n",
    "```\n",
    "saída:\n",
    "\n",
    "```\n",
    "[7, 9, 11, 13, 15]\n",
    "```"
   ]
  },
  {
   "cell_type": "code",
   "execution_count": null,
   "metadata": {},
   "outputs": [],
   "source": []
  },
  {
   "attachments": {},
   "cell_type": "markdown",
   "metadata": {},
   "source": [
    "6. Utilize a mesma lógica do exercício anterior, porém agora você deve multiplicar os elementos ao invés de somá-los."
   ]
  },
  {
   "cell_type": "code",
   "execution_count": null,
   "metadata": {},
   "outputs": [],
   "source": []
  },
  {
   "attachments": {},
   "cell_type": "markdown",
   "metadata": {},
   "source": [
    "7. Faça uma função que recebe uma lista de números e calcula a média destes números."
   ]
  },
  {
   "cell_type": "code",
   "execution_count": null,
   "metadata": {},
   "outputs": [],
   "source": []
  },
  {
   "attachments": {},
   "cell_type": "markdown",
   "metadata": {},
   "source": [
    "8. Faça uma função que calcula o fatorial de um número."
   ]
  },
  {
   "cell_type": "code",
   "execution_count": null,
   "metadata": {},
   "outputs": [],
   "source": []
  },
  {
   "cell_type": "markdown",
   "metadata": {},
   "source": [
    "## Tuplas"
   ]
  },
  {
   "cell_type": "markdown",
   "metadata": {},
   "source": [
    "Um exemplo de estrutura rígida, é no cadastro de pessoas.  \n",
    "Em que coletamos, o nome, idade e estado por exemplo. Neste o sistema não espera que hajam menos ou mais informações sendo rígida essa estrutura.  \n",
    "\n",
    "1. Crie um código utilizando tupla e funções para coletar e armazenar os nomes, idades e estados dos usuários"
   ]
  },
  {
   "cell_type": "code",
   "execution_count": null,
   "metadata": {},
   "outputs": [],
   "source": []
  },
  {
   "cell_type": "markdown",
   "metadata": {},
   "source": [
    "2. Utilizando a lista gerada anteriormente, crie três funções:\n",
    "- Pegue a idade minima das pessoas cadastradas\n",
    "- Pegue a idade máxima das pessoas cadastradas\n",
    "- Calcule a idade média das pessoas cadastradas"
   ]
  },
  {
   "cell_type": "code",
   "execution_count": null,
   "metadata": {},
   "outputs": [],
   "source": []
  },
  {
   "cell_type": "markdown",
   "metadata": {},
   "source": [
    "**Desafio**\n",
    "\n",
    "3. Modifique a função de cadastro de usuário para pegar as seguintes informações:\n",
    "- Nome\n",
    "- Idade\n",
    "- Estado\n",
    "- Sexo\n",
    "\n",
    "Agora crie uma função que permita descobrir a idade média de pessoas cadastradas pelo sexo (para manter simples, masculino e feminino, representado por `m` e `f`, respectivamente)."
   ]
  },
  {
   "cell_type": "code",
   "execution_count": null,
   "metadata": {},
   "outputs": [],
   "source": []
  }
 ],
 "metadata": {
  "kernelspec": {
   "display_name": "Python 3.9.7 ('base')",
   "language": "python",
   "name": "python3"
  },
  "language_info": {
   "codemirror_mode": {
    "name": "ipython",
    "version": 3
   },
   "file_extension": ".py",
   "mimetype": "text/x-python",
   "name": "python",
   "nbconvert_exporter": "python",
   "pygments_lexer": "ipython3",
   "version": "3.10.9"
  },
  "orig_nbformat": 4,
  "vscode": {
   "interpreter": {
    "hash": "5c66de18c091297d67c9a295278ca9503b5163a383fa85591c3cdb6daec33020"
   }
  }
 },
 "nbformat": 4,
 "nbformat_minor": 2
}
