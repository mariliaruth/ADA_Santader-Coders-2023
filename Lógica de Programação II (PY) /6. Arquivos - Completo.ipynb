{
 "cells": [
  {
   "cell_type": "markdown",
   "metadata": {
    "id": "fmxPXEnS3yyC"
   },
   "source": [
    "# Lógica de programação II - Arquivos\n",
    "\n",
    "Na aula de hoje iremos explorar os seguintes tópicos em Python:\n",
    "\n",
    "- Arquivos de texto\n",
    "- CSV\n",
    "- Json\n",
    "- parquet"
   ]
  },
  {
   "cell_type": "markdown",
   "metadata": {
    "id": "Z0HroQXG6laz"
   },
   "source": [
    "## Arquivos\n",
    "\n",
    "Até o momento, todas as informações eram armazenadas na memória RAM, ou seja, uma vez que o programa/notebook fosse finalizado, seja por desligarmos o computador ou por reiniciar o kernel, as informações de cada linha de código eram perdidas. Sendo necessário a execução completa do programa/células, para termos acessos aos dados novamente.\n",
    "\n",
    "Em outras palavras não tinhamos a **persistência** dos dados. No programa de cadastros, por exemplo, era necessário a reinserção de todos os dados dos usuários para que pudesse ser reaproveitado. Um processo pouco prático e eficiente. Para contornar e permitir que esses dados sejam reaproveitados no mesmo programa ou em diferentes aplicações, podemos **persistir essas informações** no formato de **arquivos**. Esses arquivos são armazenados em unidades de armazenamento, como SSD ou HDD, sendo ele local (seu computador, por exemplo) ou num servidor da nuvem.\n",
    "\n",
    "### Arquivos em Python\n",
    "\n",
    "Há dois tipos de arquivos: binários e texto\n",
    "\n",
    "**Texto:**\n",
    "\n",
    "Arquivos de texto são representados sequências de caracteres (ASCII, por exemplo) separado por linhas. Tipicamente arquivos de texto são fácilmente entendidos por humanos.\n",
    "\n",
    "**Binários:**\n",
    "\n",
    "Arquivos binários são todo o resto. São arquivos que incluem dados que não foram escritos utilizando um padrão de codificação de caracteres, esses arquivos são armazenados da mesma forma que foram armazenados na memória durante o processamento. \n",
    "\n",
    "|modo|simbolo|descrição|\n",
    "|--|--|--|\n",
    "|read|`r`|lê um arquivo existente|\n",
    "|write|`w`|cria um novo arquivo|\n",
    "|append|`a`|abre um arquivo existente para adicionar informações ao seu final|\n",
    "|update|`+`|ao combinar com outros modos, permite a alteração do arquivo existente (ex: `r+` abre um arquivo existente permitindo a sua modificação (read and write)|\n",
    "|text|`t`|Abre um arquivo no modo texto (default)|\n",
    "|binary|`b`|abre um arquivo no modo binário|\n",
    "\n",
    "Um passo importante ao manipular arquivos é **fechar** o mesmo, utilizando a método `close`. \n",
    "\n",
    "- Se o arquivo for alterado porém não finalizado, suas modificações não serão salvas\n",
    "- Se o arquivo não for finalizado, outros programas podem ter problemas de acesso a este arquivo.\n",
    "\n"
   ]
  },
  {
   "cell_type": "markdown",
   "metadata": {
    "id": "j5zdZMMqBAWY"
   },
   "source": [
    "### Escrevendo arquivos\n",
    "\n",
    "Há três passos para a escrita de arquivos de texto\n",
    "\n",
    "- 1. Abertura do arquivo no modo correto\n",
    "- 2. Escrita do conteúdo\n",
    "- 3. Fechar o arquivo\n",
    "\n",
    "**Note que apenas *strings* podem ser escrito em arquivo de texto**"
   ]
  },
  {
   "cell_type": "code",
   "execution_count": 8,
   "metadata": {},
   "outputs": [
    {
     "name": "stdout",
     "output_type": "stream",
     "text": [
      "asd\n"
     ]
    }
   ],
   "source": [
    "arquivo = open('ola_mundo.txt', mode='r')\n",
    "print(arquivo.readline())\n",
    "arquivo.close()"
   ]
  },
  {
   "cell_type": "code",
   "execution_count": 13,
   "metadata": {},
   "outputs": [],
   "source": [
    "arquivo = open('ola.txt', 'w')\n",
    "arquivo.write('Olá mundo')\n",
    "arquivo.close()"
   ]
  },
  {
   "cell_type": "code",
   "execution_count": 15,
   "metadata": {},
   "outputs": [],
   "source": [
    "arquivo = open('escrevendo_numeros.txt', 'w')\n",
    "arquivo.write(str(1))\n",
    "arquivo.close()"
   ]
  },
  {
   "cell_type": "code",
   "execution_count": 16,
   "metadata": {},
   "outputs": [],
   "source": [
    "arquivo = open('./ola.txt', 'w')\n",
    "arquivo.write('Olá mundo')\n",
    "arquivo.write(str(1))\n",
    "arquivo.close()"
   ]
  },
  {
   "cell_type": "code",
   "execution_count": 17,
   "metadata": {},
   "outputs": [],
   "source": [
    "arquivo = open('./ola.txt', 'w')\n",
    "arquivo.write('Olá mundo')\n",
    "arquivo.write('\\n')\n",
    "arquivo.write(str(1))\n",
    "arquivo.close()"
   ]
  },
  {
   "cell_type": "markdown",
   "metadata": {
    "id": "ICvuYYcICsT_"
   },
   "source": [
    "**Adicionando novo conteúdo**"
   ]
  },
  {
   "cell_type": "code",
   "execution_count": 19,
   "metadata": {
    "id": "aHmQcOBTCh_I"
   },
   "outputs": [],
   "source": [
    "arquivo = open('./ola.txt', 'a')\n",
    "arquivo.write('\\nNova informacao ao arquivo')\n",
    "arquivo.close()"
   ]
  },
  {
   "cell_type": "code",
   "execution_count": 25,
   "metadata": {},
   "outputs": [],
   "source": [
    "arquivo = open('./ola.txt', 'a')\n",
    "frases = ['Amanhã será um novo dia', 'Precisamos de muita coisa']\n",
    "arquivo.write('\\n'.join(frases))\n",
    "arquivo.close()"
   ]
  },
  {
   "cell_type": "code",
   "execution_count": 30,
   "metadata": {},
   "outputs": [],
   "source": [
    "del arquivo"
   ]
  },
  {
   "cell_type": "code",
   "execution_count": 31,
   "metadata": {},
   "outputs": [],
   "source": [
    "with open('ola_mundo.txt', 'a') as arquivo:\n",
    "    frases = ['Amanhã será um novo dia', 'Precisamos de muita coisa']\n",
    "    arquivo.write('\\n'.join(frases))\n"
   ]
  },
  {
   "cell_type": "code",
   "execution_count": 32,
   "metadata": {},
   "outputs": [
    {
     "data": {
      "text/plain": [
       "<_io.TextIOWrapper name='ola_mundo.txt' mode='a' encoding='UTF-8'>"
      ]
     },
     "execution_count": 32,
     "metadata": {},
     "output_type": "execute_result"
    }
   ],
   "source": [
    "arquivo"
   ]
  },
  {
   "cell_type": "markdown",
   "metadata": {
    "id": "tQEhUWyXaS3E"
   },
   "source": [
    "### Lendo arquivos\n",
    "\n",
    "Para ler o conteúdo de arquivos podemos utilizar o método `read`, note que o arquivo precisa estar no modo de leitura (`r`)"
   ]
  },
  {
   "cell_type": "code",
   "execution_count": 6,
   "metadata": {},
   "outputs": [
    {
     "name": "stdout",
     "output_type": "stream",
     "text": [
      "Olá mundo\n",
      "\n",
      "1Nova informacao ao arquivo\n",
      "\n",
      "Nova informacao ao arquivoAmanhã será um novo dia\n",
      "\n",
      "Precisamos de muita coisa\n",
      "\n",
      "\n"
     ]
    }
   ],
   "source": [
    "arquivo = open('./ola.txt', mode='r')\n",
    "\n",
    "print(arquivo.readline())\n",
    "print(arquivo.readline())\n",
    "print(arquivo.readline())\n",
    "print(arquivo.readline())\n",
    "print(arquivo.readline())\n",
    "print(arquivo.readline())\n",
    "\n",
    "arquivo.close()"
   ]
  },
  {
   "cell_type": "code",
   "execution_count": 7,
   "metadata": {},
   "outputs": [
    {
     "name": "stdout",
     "output_type": "stream",
     "text": [
      "Olá mundo\n",
      "1Nova informacao ao arquivo\n",
      "Nova informacao ao arquivoAmanhã será um novo dia\n",
      "Precisamos de muita coisa\n"
     ]
    }
   ],
   "source": [
    "arquivo = open('./ola.txt', 'r')\n",
    "texto = arquivo.read()\n",
    "print(texto)\n",
    "arquivo.close()"
   ]
  },
  {
   "cell_type": "code",
   "execution_count": 11,
   "metadata": {},
   "outputs": [
    {
     "data": {
      "text/plain": [
       "['Olá mundo',\n",
       " '1Nova informacao ao arquivo',\n",
       " 'Nova informacao ao arquivoAmanhã será um novo dia',\n",
       " 'Precisamos de muita coisa']"
      ]
     },
     "execution_count": 11,
     "metadata": {},
     "output_type": "execute_result"
    }
   ],
   "source": [
    "frases = texto.split('\\n')\n",
    "frases"
   ]
  },
  {
   "cell_type": "markdown",
   "metadata": {
    "id": "jrQdVqMNbsY8"
   },
   "source": [
    "### Escrevendo tabelas\n",
    "\n",
    "O formato mais comum para trabalhar com tabelas, é o uso de um formato especifico chamado de `csv` (Commam-separated values, valores separados por virgula)."
   ]
  },
  {
   "cell_type": "code",
   "execution_count": 12,
   "metadata": {
    "colab": {
     "base_uri": "https://localhost:8080/"
    },
    "executionInfo": {
     "elapsed": 709,
     "status": "ok",
     "timestamp": 1666035240239,
     "user": {
      "displayName": "Gilberto Kaihami",
      "userId": "07651446941847976228"
     },
     "user_tz": 180
    },
    "id": "1Wr2ev8obpYO",
    "outputId": "a065b7ec-256c-472f-b5db-026737e0aa45"
   },
   "outputs": [
    {
     "data": {
      "text/plain": [
       "[['Aluno', 'Nota 1', 'Nota 2', 'Presenças'],\n",
       " ['Lucas', 1, 5, 100],\n",
       " ['Bruno', 10, 9, 100]]"
      ]
     },
     "execution_count": 12,
     "metadata": {},
     "output_type": "execute_result"
    }
   ],
   "source": [
    "tabela = [\n",
    "    ['Aluno', 'Nota 1', 'Nota 2', 'Presenças'],\n",
    "    ['Lucas', 1, 5, 100],\n",
    "    ['Bruno', 10, 9, 100]]\n",
    "tabela"
   ]
  },
  {
   "cell_type": "code",
   "execution_count": 22,
   "metadata": {},
   "outputs": [
    {
     "name": "stdout",
     "output_type": "stream",
     "text": [
      "Aluno,Nota 1,Nota 2,Presenças\n",
      "Lucas,1,5,100\n",
      "Bruno,10,9,100\n"
     ]
    }
   ],
   "source": [
    "with open() as arquivo:\n",
    "    for linha in tabela:\n",
    "        elemento_string = [str(elemento) for elemento in linha]\n",
    "        linha_string = ','.join(elemento_string)\n",
    "        print(linha_string)\n",
    "        arquivo.write(linha_string)"
   ]
  },
  {
   "cell_type": "code",
   "execution_count": 23,
   "metadata": {},
   "outputs": [],
   "source": [
    "import csv"
   ]
  },
  {
   "cell_type": "code",
   "execution_count": 24,
   "metadata": {},
   "outputs": [],
   "source": [
    "with open('./notas.csv', 'w') as arquivo:\n",
    "    escritor = csv.writer(arquivo, delimiter=',', lineterminator='\\n')\n",
    "    escritor.writerows(tabela)"
   ]
  },
  {
   "cell_type": "code",
   "execution_count": 25,
   "metadata": {},
   "outputs": [
    {
     "data": {
      "text/plain": [
       "[['Aluno', 'Nota 1', 'Nota 2', 'Presenças'],\n",
       " ['Lucas', 1, 5, 100],\n",
       " ['Bruno', 10, 9, 100]]"
      ]
     },
     "execution_count": 25,
     "metadata": {},
     "output_type": "execute_result"
    }
   ],
   "source": [
    "tabela"
   ]
  },
  {
   "cell_type": "code",
   "execution_count": 26,
   "metadata": {},
   "outputs": [
    {
     "data": {
      "text/plain": [
       "[{'Aluno': 'Lucas', 'Nota 1': 1, 'Nota 2': 5, 'Presenças': 100},\n",
       " {'Aluno': 'Bruno', 'Nota 1': 10, 'Nota 2': 9, 'Presenças': 100}]"
      ]
     },
     "execution_count": 26,
     "metadata": {},
     "output_type": "execute_result"
    }
   ],
   "source": [
    "colunas = tabela[0]\n",
    "tabela_dicionario = []\n",
    "for aluno in tabela[1:]:\n",
    "    aluno_dicionario = {}\n",
    "    for coluna, informacao in zip(colunas, aluno):\n",
    "        aluno_dicionario[coluna] = informacao\n",
    "    \n",
    "    tabela_dicionario.append(aluno_dicionario)\n",
    "\n",
    "tabela_dicionario"
   ]
  },
  {
   "cell_type": "code",
   "execution_count": 29,
   "metadata": {},
   "outputs": [],
   "source": [
    "with open('notas_dict.csv', 'w') as arquivo:\n",
    "    escritor = csv.DictWriter(arquivo, fieldnames=colunas)\n",
    "    escritor.writeheader() # Nome das colunas\n",
    "    escritor.writerows(tabela_dicionario)"
   ]
  },
  {
   "cell_type": "markdown",
   "metadata": {},
   "source": [
    "**Lendo o csv**"
   ]
  },
  {
   "cell_type": "code",
   "execution_count": 40,
   "metadata": {},
   "outputs": [
    {
     "name": "stdout",
     "output_type": "stream",
     "text": [
      "['Aluno', 'Nota 1', 'Nota 2', 'Presenças']\n",
      "['Lucas', '1', '100']\n",
      "['Bruno', '10', '9', '100']\n",
      "[]\n"
     ]
    }
   ],
   "source": [
    "with open('notas_dict.csv', 'r') as arquivo:\n",
    "    # print(arquivo.read())\n",
    "    leitor = csv.reader(arquivo, delimiter=',', lineterminator='\\n')\n",
    "    \n",
    "    # Leitura estilo generator\n",
    "    for linha in leitor:\n",
    "        print(linha)\n",
    "\n",
    "    tabela = list(leitor) # Elemento já foi lido, lista vazia\n",
    "\n",
    "print(tabela)"
   ]
  },
  {
   "cell_type": "code",
   "execution_count": 37,
   "metadata": {},
   "outputs": [
    {
     "name": "stdout",
     "output_type": "stream",
     "text": [
      "[['Aluno', 'Nota 1', 'Nota 2', 'Presenças'], ['Lucas', '1', '5', '100'], ['Bruno', '10', '9', '100']]\n"
     ]
    }
   ],
   "source": [
    "with open('notas_dict.csv', 'r') as arquivo:\n",
    "    # print(arquivo.read())\n",
    "    leitor = csv.reader(arquivo, delimiter=',', lineterminator='\\n')\n",
    "    tabela = list(leitor) # Elemento lido primeira vez\n",
    "\n",
    "print(tabela)"
   ]
  },
  {
   "cell_type": "code",
   "execution_count": 41,
   "metadata": {},
   "outputs": [],
   "source": [
    "import pandas as pd"
   ]
  },
  {
   "cell_type": "code",
   "execution_count": 57,
   "metadata": {},
   "outputs": [],
   "source": [
    "df = pd.read_csv('notas.csv')"
   ]
  },
  {
   "cell_type": "code",
   "execution_count": 60,
   "metadata": {},
   "outputs": [
    {
     "data": {
      "text/plain": [
       "[0, 1]"
      ]
     },
     "execution_count": 60,
     "metadata": {},
     "output_type": "execute_result"
    }
   ],
   "source": [
    "list(df.index)"
   ]
  },
  {
   "cell_type": "code",
   "execution_count": 62,
   "metadata": {},
   "outputs": [],
   "source": [
    "df.to_csv('notas.csv', index=False)\n",
    "        #   , sep=';', lineterminator='-')"
   ]
  },
  {
   "cell_type": "markdown",
   "metadata": {
    "id": "eN9RJzddiEBS"
   },
   "source": [
    "### Json\n",
    "\n",
    "JSON é uma sigla para `JavaScript Object Notation`. Apesar dessa estrutura de arquivo ser primeiro utilizada em linguagens web, esse formato de arquivo é amplamente utilizada por diversas aplicações.\n",
    "\n",
    "Um dos motivos é que a representação de objetos nesse formato é legível e de fácil entendimento para humanos.\n",
    "\n",
    "Em JavaScript temos:\n",
    "```javascript\n",
    "{\n",
    "  nome: 'Mario',\n",
    "  modulo: 3,\n",
    "  media: 9.5\n",
    "}\n",
    "```\n",
    "\n",
    "No exemplo acima, ele é parecido com os dicionários em Python.\n",
    "\n",
    "```Python\n",
    "{\n",
    "  \"nome\": \"Mario\",\n",
    "  \"modulo\": 3,\n",
    "  \"media\": 9.5\n",
    "}\n",
    "```\n",
    "\n",
    "Os valores de um json podem assumir diferentes tipos, como inteiros, reais, strings, booleanos, nulos...\n",
    "\n",
    "|Python|Json|\n",
    "|--|--|\n",
    "|dict|\tObject|\n",
    "|list|\tArray|\n",
    "|tuple|\tArray|\n",
    "|str|\tString|\n",
    "|int|\tNumber|\n",
    "|float|\tNumber|\n",
    "|True|\ttrue|\n",
    "|False|\tfalse|\n",
    "|None|\tnull|\n",
    "\n"
   ]
  },
  {
   "cell_type": "markdown",
   "metadata": {
    "id": "6M7RSZvpjMj7"
   },
   "source": [
    "**Json para dicionário**"
   ]
  },
  {
   "cell_type": "code",
   "execution_count": 63,
   "metadata": {
    "colab": {
     "base_uri": "https://localhost:8080/"
    },
    "executionInfo": {
     "elapsed": 5,
     "status": "ok",
     "timestamp": 1666204976782,
     "user": {
      "displayName": "Gilberto Kaihami",
      "userId": "07651446941847976228"
     },
     "user_tz": 180
    },
    "id": "V4GfRK6xhzpp",
    "outputId": "752a52da-99c4-48be-acba-2598c6b4f0ed"
   },
   "outputs": [],
   "source": [
    "import json"
   ]
  },
  {
   "cell_type": "code",
   "execution_count": 1,
   "metadata": {},
   "outputs": [
    {
     "data": {
      "text/plain": [
       "\"{'Aluno': 'Bruno', 'Nota 1': '10', 'Nota 2': '9', 'Presenças': '100'}\""
      ]
     },
     "execution_count": 1,
     "metadata": {},
     "output_type": "execute_result"
    }
   ],
   "source": [
    "\"{'Aluno': 'Bruno', 'Nota 1': '10', 'Nota 2': '9', 'Presenças': '100'}\""
   ]
  },
  {
   "cell_type": "code",
   "execution_count": 2,
   "metadata": {},
   "outputs": [
    {
     "name": "stdout",
     "output_type": "stream",
     "text": [
      "{'Aluno': 'Bruno', 'Nota 1': '10', 'Nota 2': '9', 'Presenças': '100'}\n",
      "Bruno\n"
     ]
    }
   ],
   "source": [
    "aluno_json = '{\"Aluno\": \"Bruno\", \"Nota 1\": \"10\", \"Nota 2\": \"9\", \"Presenças\": \"100\"}'\n",
    "dicionario = json.loads(aluno_json)\n",
    "\n",
    "print(dicionario)\n",
    "print(dicionario.get('Aluno'))"
   ]
  },
  {
   "cell_type": "markdown",
   "metadata": {
    "id": "WHooI1hSkIHh"
   },
   "source": [
    "**Convertendo para Json**\n",
    "\n",
    "Uma forma de persistir os dados, sem ser tabulares (estruturados) é no formato Json!\n",
    "\n",
    "Para converter uma estrutura Python em Json utilizamos o `json.dumps` que retorna uma string no formato Json."
   ]
  },
  {
   "cell_type": "code",
   "execution_count": 78,
   "metadata": {
    "colab": {
     "base_uri": "https://localhost:8080/"
    },
    "executionInfo": {
     "elapsed": 5,
     "status": "ok",
     "timestamp": 1666205641208,
     "user": {
      "displayName": "Gilberto Kaihami",
      "userId": "07651446941847976228"
     },
     "user_tz": 180
    },
    "id": "7EvanEJ6jz8l",
    "outputId": "dc1fefda-47b1-408e-e0f3-e5f4369f5f0d"
   },
   "outputs": [
    {
     "name": "stdout",
     "output_type": "stream",
     "text": [
      "{\"Aluno\": \"Bruno\", \"Nota 1\": 10, \"Nota 2\": 9, \"Presen\\u00e7as\": 100}\n",
      "{\"Aluno\": \"Bruno\", \"Nota 1\": 10, \"Nota 2\": 9, \"Presenças\": 100}\n"
     ]
    }
   ],
   "source": [
    "print(json.dumps(aluno_dicionario))\n",
    "print(json.dumps(aluno_dicionario, ensure_ascii=False))"
   ]
  },
  {
   "cell_type": "code",
   "execution_count": 82,
   "metadata": {},
   "outputs": [
    {
     "name": "stdout",
     "output_type": "stream",
     "text": [
      "<class 'str'>\n",
      "{\"Aluno\": \"Bruno\", \"Nota 1\": 10, \"Nota 2\": 9, \"Presen\\u00e7as\": 100}\n"
     ]
    }
   ],
   "source": [
    "dado = json.dumps(aluno_dicionario)\n",
    "print(type(dado))\n",
    "print(dado)"
   ]
  },
  {
   "cell_type": "code",
   "execution_count": 86,
   "metadata": {},
   "outputs": [
    {
     "name": "stdout",
     "output_type": "stream",
     "text": [
      "{\n",
      "    \"chave_1\": {\n",
      "        \"nome\": \"lucas\",\n",
      "        \"idade\": 20\n",
      "    },\n",
      "    \"chave_2\": {\n",
      "        \"nome\": \"bruno\"\n",
      "    }\n",
      "}\n"
     ]
    }
   ],
   "source": [
    "dados = {\n",
    "    'chave_1': {\n",
    "        'nome': 'lucas',\n",
    "        'idade': 20\n",
    "    },\n",
    "    'chave_2': {\n",
    "        'nome': 'bruno'\n",
    "    },\n",
    "    'chave_acesso': 'key',\n",
    "    'token': ''\n",
    "}\n",
    "\n",
    "print(json.dumps(dados, indent=4))"
   ]
  },
  {
   "cell_type": "markdown",
   "metadata": {
    "id": "QLXsAXfOlGP8"
   },
   "source": [
    "**Salvando um arquivo json**"
   ]
  },
  {
   "cell_type": "code",
   "execution_count": 90,
   "metadata": {
    "id": "t1FDL5gDk-aJ"
   },
   "outputs": [],
   "source": [
    "json.dump(dados, open('dados.json', 'w'), indent=2)"
   ]
  },
  {
   "cell_type": "code",
   "execution_count": 92,
   "metadata": {},
   "outputs": [],
   "source": [
    "with open('dados.json', 'w') as arquivo:\n",
    "    json.dump(dados, arquivo)"
   ]
  },
  {
   "cell_type": "markdown",
   "metadata": {
    "id": "QtHN462CllLQ"
   },
   "source": [
    "**Carregando um arquivo json**"
   ]
  },
  {
   "cell_type": "code",
   "execution_count": 94,
   "metadata": {
    "id": "TvPg7J28lgM3"
   },
   "outputs": [],
   "source": [
    "dados_novos = json.load(open('dados.json', 'r'))"
   ]
  },
  {
   "cell_type": "code",
   "execution_count": 97,
   "metadata": {},
   "outputs": [
    {
     "name": "stdout",
     "output_type": "stream",
     "text": [
      "{'chave_1': {'nome': 'lucas', 'idade': 20}, 'chave_2': {'nome': 'bruno'}}\n",
      "{'nome': 'lucas', 'idade': 20}\n"
     ]
    }
   ],
   "source": [
    "print(dados_novos)\n",
    "print(dados_novos['chave_1'])"
   ]
  },
  {
   "cell_type": "markdown",
   "metadata": {
    "id": "Vk2F5XD4lxQh"
   },
   "source": [
    "Logo temos que:\n",
    "\n",
    "Arquivos no formato json são ótimos para armazenar dados que não tem uma estrutura tabular (como no exemplo acima).\n",
    "\n",
    "São um formato que permitem que seja obtido estruturas de objeto de forma simples e rápida (dicionários, listas).\n",
    "\n",
    "São amplamente utilizados como armazenamento de informações, como no exemplo acima, e para configurações de sistema!\n",
    "\n",
    "Utilizamos:\n",
    "Os comandos com **`s`** para realizar operações locais e sem **`s`** para operações de arquivo\n",
    "\n",
    "`loads`: transforma uma **string json** em um objeto\n",
    "\n",
    "`dumps`: transforma um objeto em uma **string json**\n",
    "\n",
    "`load`: carrega um **arquivo json** em um objeto\n",
    "\n",
    "`dump`: salva um objeto em um **arquivo json**\n",
    "\n"
   ]
  },
  {
   "cell_type": "markdown",
   "metadata": {},
   "source": [
    "### Parquet\n",
    "\n",
    "O [Apache Parquet](https://arrow.apache.org/docs/python/parquet.html) é um formato de arquivo de código aberto, disponível para qualquer projeto no ecossistema Hadoop.\n",
    "\n",
    "O Apache Parquet é um arquivo de formato binário que permite o armazenamento dos dados utilizando alguns tipos específicos, como: o ``BOOLEAN``, ``INT32``, ``INT64``, ``INT96``, ``FLOAT``, ``DOUBLE`` e ``BYTE_ARRAY``. Os metadados no Parquet, incluindo esquema e estrutura, são integrados individualmente em cada arquivo tornando o Apache Parquet um formato de arquivo autodescritivo.\n",
    "\n",
    "Os metadados são segmentados em três partes: metadados de arquivo (FileMetaData), metadados de coluna (ColumnMetaData) e metadados de cabeçalho de página (PageHeader). No caso dos metadados de arquivos, eles são armazenados no rodapé de cada arquivo e contém as seguintes informações:\n",
    "\n",
    "- Versão do formato Parquet.\n",
    "- Esquema de dados.\n",
    "- Metadados da coluna (tipo, número de valores, localização, codificação).\n",
    "- Número de grupos de linhas.\n",
    "- Pares de valor-chave adicionais.\n",
    "\n",
    "#### Parquet vs CSV\n",
    "O Databricks, realizou um comparativo de performance e economia de espaço com um mesmo conjunto de dados utilizando os formatos Parquet e CSV.\n",
    "\n",
    "|Arquivo|Espaço utilizado|Tempo de execução|\n",
    "|-|-|-|\n",
    "|CSV    |\t1 TB|\t236 segundos|\n",
    "|Apache Parquet|\t130 GB|\t6,78 segundos|\n",
    "\n",
    "\n",
    "A partir dessa comparação, foi possível verificar uma economia com recursos de armazenamento de 87% e uma redução significativa no tempo de execução de consultas quando utilizamos o formato Parquet.\n",
    "\n",
    "#### Vantagens\n",
    "- As consultas podem ser realizadas diretamente em colunas específicas, em vez de realizar uma busca em todos os dados dos arquivos. Isso ocorre pelo fato de os arquivos Parquet serem autodescritivos. Através do arquivo de metadados é possível identificar apenas as colunas que têm relevância para a consulta.\n",
    "\n",
    "- A compactação é feita coluna por coluna e pode ser realizada utilizando um dos vários codecs disponíveis. Foi idealizada para oferecer suporte a opções flexíveis de compactação e esquemas de codificação extensíveis por tipo de dado, ou seja, uma codificação diferente pode ser aplicada para compactar colunas como dados de tipos distintos.\n",
    "\n",
    "- Ao utilizar o formato colunar como o Parquet, é possível evoluir o schema. Inicialmente pode-se criar um arquivo com poucas colunas e gradualmente ir adicionando mais colunas ao schema, podendo ter vários arquivos com schemas diferentes e compatíveis entre si.\n",
    "\n",
    "- Com os tipos de dados mapeados, é possível identificar facilmente com quais dados estamos trabalhando, se texto, números ou outro. Porém, por ser de formato binário, não é possível ler os dados de um arquivo Parquet sem utilizar uma ferramenta externa, como no caso do CSV."
   ]
  },
  {
   "cell_type": "code",
   "execution_count": 98,
   "metadata": {},
   "outputs": [
    {
     "name": "stdout",
     "output_type": "stream",
     "text": [
      "Requirement already satisfied: pyarrow in /Users/lucashermeto/.pyenv/versions/3.10.12/lib/python3.10/site-packages (12.0.1)\n",
      "Requirement already satisfied: numpy>=1.16.6 in /Users/lucashermeto/.pyenv/versions/3.10.12/lib/python3.10/site-packages (from pyarrow) (1.25.1)\n",
      "\n",
      "\u001b[1m[\u001b[0m\u001b[34;49mnotice\u001b[0m\u001b[1;39;49m]\u001b[0m\u001b[39;49m A new release of pip is available: \u001b[0m\u001b[31;49m23.0.1\u001b[0m\u001b[39;49m -> \u001b[0m\u001b[32;49m23.2.1\u001b[0m\n",
      "\u001b[1m[\u001b[0m\u001b[34;49mnotice\u001b[0m\u001b[1;39;49m]\u001b[0m\u001b[39;49m To update, run: \u001b[0m\u001b[32;49mpip install --upgrade pip\u001b[0m\n",
      "Note: you may need to restart the kernel to use updated packages.\n"
     ]
    }
   ],
   "source": [
    "pip install pyarrow"
   ]
  },
  {
   "cell_type": "code",
   "execution_count": 100,
   "metadata": {},
   "outputs": [],
   "source": [
    "import pandas as pd\n",
    "import pyarrow as pa"
   ]
  },
  {
   "cell_type": "code",
   "execution_count": 104,
   "metadata": {},
   "outputs": [
    {
     "data": {
      "text/html": [
       "<div>\n",
       "<style scoped>\n",
       "    .dataframe tbody tr th:only-of-type {\n",
       "        vertical-align: middle;\n",
       "    }\n",
       "\n",
       "    .dataframe tbody tr th {\n",
       "        vertical-align: top;\n",
       "    }\n",
       "\n",
       "    .dataframe thead th {\n",
       "        text-align: right;\n",
       "    }\n",
       "</style>\n",
       "<table border=\"1\" class=\"dataframe\">\n",
       "  <thead>\n",
       "    <tr style=\"text-align: right;\">\n",
       "      <th></th>\n",
       "      <th>coluna_1</th>\n",
       "      <th>coluna_2</th>\n",
       "      <th>coluna_3</th>\n",
       "    </tr>\n",
       "  </thead>\n",
       "  <tbody>\n",
       "    <tr>\n",
       "      <th>0</th>\n",
       "      <td>-1</td>\n",
       "      <td>foo</td>\n",
       "      <td>True</td>\n",
       "    </tr>\n",
       "    <tr>\n",
       "      <th>1</th>\n",
       "      <td>&lt;NA&gt;</td>\n",
       "      <td>bar</td>\n",
       "      <td>False</td>\n",
       "    </tr>\n",
       "    <tr>\n",
       "      <th>2</th>\n",
       "      <td>2.6</td>\n",
       "      <td>baz</td>\n",
       "      <td>True</td>\n",
       "    </tr>\n",
       "  </tbody>\n",
       "</table>\n",
       "</div>"
      ],
      "text/plain": [
       "  coluna_1 coluna_2  coluna_3\n",
       "0       -1      foo      True\n",
       "1     <NA>      bar     False\n",
       "2      2.6      baz      True"
      ]
     },
     "metadata": {},
     "output_type": "display_data"
    },
    {
     "data": {
      "text/plain": [
       "pyarrow.Table\n",
       "coluna_1: double\n",
       "coluna_2: string\n",
       "coluna_3: bool\n",
       "----\n",
       "coluna_1: [[-1,null,2.6]]\n",
       "coluna_2: [[\"foo\",\"bar\",\"baz\"]]\n",
       "coluna_3: [[true,false,true]]"
      ]
     },
     "metadata": {},
     "output_type": "display_data"
    }
   ],
   "source": [
    "df = pd.DataFrame({\n",
    "    'coluna_1': [-1, pd.NA, 2.6],\n",
    "    'coluna_2': ['foo', 'bar', 'baz'],\n",
    "    'coluna_3': [True, False, True]})\n",
    "\n",
    "display(df)\n",
    "tabela_parquet = pa.Table.from_pandas(df)\n",
    "\n",
    "display(tabela_parquet)"
   ]
  },
  {
   "cell_type": "code",
   "execution_count": 106,
   "metadata": {},
   "outputs": [],
   "source": [
    "import pyarrow.parquet as pq\n",
    "\n",
    "pq.write_table(tabela_parquet, 'exemplo.parquet')"
   ]
  },
  {
   "cell_type": "code",
   "execution_count": 108,
   "metadata": {},
   "outputs": [
    {
     "data": {
      "text/html": [
       "<div>\n",
       "<style scoped>\n",
       "    .dataframe tbody tr th:only-of-type {\n",
       "        vertical-align: middle;\n",
       "    }\n",
       "\n",
       "    .dataframe tbody tr th {\n",
       "        vertical-align: top;\n",
       "    }\n",
       "\n",
       "    .dataframe thead th {\n",
       "        text-align: right;\n",
       "    }\n",
       "</style>\n",
       "<table border=\"1\" class=\"dataframe\">\n",
       "  <thead>\n",
       "    <tr style=\"text-align: right;\">\n",
       "      <th></th>\n",
       "      <th>coluna_1</th>\n",
       "      <th>coluna_2</th>\n",
       "      <th>coluna_3</th>\n",
       "    </tr>\n",
       "  </thead>\n",
       "  <tbody>\n",
       "    <tr>\n",
       "      <th>0</th>\n",
       "      <td>-1.0</td>\n",
       "      <td>foo</td>\n",
       "      <td>True</td>\n",
       "    </tr>\n",
       "    <tr>\n",
       "      <th>1</th>\n",
       "      <td>NaN</td>\n",
       "      <td>bar</td>\n",
       "      <td>False</td>\n",
       "    </tr>\n",
       "    <tr>\n",
       "      <th>2</th>\n",
       "      <td>2.6</td>\n",
       "      <td>baz</td>\n",
       "      <td>True</td>\n",
       "    </tr>\n",
       "  </tbody>\n",
       "</table>\n",
       "</div>"
      ],
      "text/plain": [
       "   coluna_1 coluna_2  coluna_3\n",
       "0      -1.0      foo      True\n",
       "1       NaN      bar     False\n",
       "2       2.6      baz      True"
      ]
     },
     "execution_count": 108,
     "metadata": {},
     "output_type": "execute_result"
    }
   ],
   "source": [
    "tabela = pq.read_table('exemplo.parquet')\n",
    "tabela.to_pandas()"
   ]
  },
  {
   "cell_type": "code",
   "execution_count": 112,
   "metadata": {},
   "outputs": [],
   "source": [
    "df_parquet = pd.read_parquet('exemplo.parquet')\n",
    "df_parquet['coluna_4'] = 'único'\n",
    "df_parquet.to_parquet('exemplo_unico.parquet')"
   ]
  },
  {
   "cell_type": "markdown",
   "metadata": {},
   "source": [
    "# Exercícios"
   ]
  },
  {
   "cell_type": "markdown",
   "metadata": {
    "id": "UtFVPJzclws_"
   },
   "source": [
    "**1.** Crie um arquivo chamado `frutas.txt`.\n",
    "\n",
    "Nesse arquivo adicione em cada linha o nome de uma fruta contida na lista frutas.\n",
    "\n",
    "\n",
    "```python\n",
    "frutas = ['maça', 'acerola', 'uva']\n",
    "\n",
    "with ... as ...:\n",
    "  ...\n",
    "``````"
   ]
  },
  {
   "cell_type": "code",
   "execution_count": null,
   "metadata": {},
   "outputs": [],
   "source": []
  },
  {
   "cell_type": "markdown",
   "metadata": {},
   "source": [
    "**2.** Leia o arquivo `frutas.txt` criado acima atribua o seu conteúdo em uma lista, em que cada elemento represente uma fruta.\n",
    "\n",
    "O nome da nova lista deve ser `frutas`\n",
    "\n",
    "```python\n",
    "with ... as ...:\n",
    "  ...\n",
    "\n",
    "print(frutas)\n",
    "```\n"
   ]
  },
  {
   "cell_type": "markdown",
   "metadata": {},
   "source": []
  },
  {
   "cell_type": "markdown",
   "metadata": {},
   "source": [
    "**3.** Escreva um arquivo no formato `tsv` (Tab-separated values), cujo simbolo é `\\t`.\n",
    "\n",
    "Para tal utilize os dados abaixo da variável `tabela`.\n",
    "\n",
    "Após a sua escrita, leia o mesmo arquivo utilizando o módulo `csv` e de forma clássica utilizando o `read`.\n",
    "\n",
    "```python\n",
    "tabela = [['Aluno', 'Nota 1', 'Nota 2', 'Presenças'],\n",
    " ['Luke', '7', '9', '15'],\n",
    " ['Han', '4', '7', '10'],\n",
    " ['Leia', '9', '9', '16']]\n",
    "\n",
    "with open('notas.tsv', 'w') as arquivo:\n",
    "  escritor = csv.writer(arquivo, delimiter=..., lineterminator='\\n')  # Preencha aqui\n",
    "  escritor.... # Preencha aqui\n",
    "\n",
    "```"
   ]
  },
  {
   "cell_type": "markdown",
   "metadata": {},
   "source": []
  }
 ],
 "metadata": {
  "colab": {
   "authorship_tag": "ABX9TyNL5uIDGImWhFCSdkUMMfps",
   "collapsed_sections": [],
   "provenance": []
  },
  "kernelspec": {
   "display_name": "Python 3 (ipykernel)",
   "language": "python",
   "name": "python3"
  },
  "language_info": {
   "codemirror_mode": {
    "name": "ipython",
    "version": 3
   },
   "file_extension": ".py",
   "mimetype": "text/x-python",
   "name": "python",
   "nbconvert_exporter": "python",
   "pygments_lexer": "ipython3",
   "version": "3.9.12"
  },
  "varInspector": {
   "cols": {
    "lenName": 16,
    "lenType": 16,
    "lenVar": 40
   },
   "kernels_config": {
    "python": {
     "delete_cmd_postfix": "",
     "delete_cmd_prefix": "del ",
     "library": "var_list.py",
     "varRefreshCmd": "print(var_dic_list())"
    },
    "r": {
     "delete_cmd_postfix": ") ",
     "delete_cmd_prefix": "rm(",
     "library": "var_list.r",
     "varRefreshCmd": "cat(var_dic_list()) "
    }
   },
   "types_to_exclude": [
    "module",
    "function",
    "builtin_function_or_method",
    "instance",
    "_Feature"
   ],
   "window_display": false
  }
 },
 "nbformat": 4,
 "nbformat_minor": 1
}
