{
 "cells": [
  {
   "cell_type": "markdown",
   "metadata": {},
   "source": [
    "# Lógica de programação II - Introdução ao Git\n",
    "\n",
    "Na aula de hoje, iremos explorar os seguintes tópicos:\n",
    "- Git\n",
    "    - Introdução\n",
    "    - Conceitos Básicos\n",
    "    - Instalação\n",
    "    - Configurações\n",
    "    - Primeiro repositório\n",
    "    - Primeiro Commit\n",
    "    - Branches\n",
    "    - Cloud\n",
    "\n",
    "OBS: Git será revisado no módulo III sobre Técnicas de Programação"
   ]
  },
  {
   "cell_type": "markdown",
   "metadata": {},
   "source": [
    "## Introdução"
   ]
  },
  {
   "cell_type": "markdown",
   "metadata": {},
   "source": [
    "- É um sistema de controle de versões, que tem como objetivo gerenciar diversas versões dos códigos desenvolvidos e assim criar uma documentação e histórico de desenvolvimento\n",
    "- O Git foi inicialmente projetado e desenvolvido por [Linus Torvalds](https://pt.wikipedia.org/wiki/Linus_Torvalds) para o desenvolvimento do kernel [Linux](https://pt.wikipedia.org/wiki/Linux), mas foi adotado por muitos outros projetos.\n",
    "- Antigamente para fazer gestão de códigos era necessário criar vários arquivos duplicados e com a introdução dos sistemas de controle de versão diminuiu a perda de código por falta de criação de duplicados"
   ]
  },
  {
   "cell_type": "markdown",
   "metadata": {},
   "source": [
    "## Conceitos Básicos"
   ]
  },
  {
   "cell_type": "markdown",
   "metadata": {},
   "source": [
    "- Operação é feita por meio de ``commits`` e ``branches``\n",
    "- Para conseguir realizar as operações de commits, o git cria o que chamamos de ``stages``"
   ]
  },
  {
   "cell_type": "markdown",
   "metadata": {},
   "source": [
    "![image-2.png](https://digitalvarys.com/wp-content/uploads/2019/06/GIT-Branchand-its-Operations.png)"
   ]
  },
  {
   "cell_type": "markdown",
   "metadata": {},
   "source": [
    "### Commits\n",
    "\n",
    "- São alterações salvas do código com um comentário do que foi realizado naquelas modifições"
   ]
  },
  {
   "cell_type": "markdown",
   "metadata": {},
   "source": [
    "### Branches\n",
    "- São ramos de desenvolvimentos, utilizados para não modificar o código oficial (main) e fazer adição/manutenção de features"
   ]
  },
  {
   "cell_type": "markdown",
   "metadata": {},
   "source": [
    "### Stages"
   ]
  },
  {
   "cell_type": "markdown",
   "metadata": {},
   "source": [
    "![image-2.png](https://git-scm.com/book/en/v2/images/lifecycle.png)"
   ]
  },
  {
   "cell_type": "markdown",
   "metadata": {},
   "source": [
    "## Instalação"
   ]
  },
  {
   "cell_type": "markdown",
   "metadata": {},
   "source": [
    "Link Oficial: [git-scm.com](https://git-scm.com/)"
   ]
  },
  {
   "cell_type": "markdown",
   "metadata": {},
   "source": [
    "## Configurações"
   ]
  },
  {
   "cell_type": "markdown",
   "metadata": {},
   "source": [
    "```sh\n",
    "git config --global user.name \"Fulano de Tal\"\n",
    "git config --global user.email fulanodetal@exemplo.br\n",
    "```"
   ]
  },
  {
   "cell_type": "markdown",
   "metadata": {},
   "source": [
    "```sh\n",
    "git config --global core.editor vi\n",
    "```"
   ]
  },
  {
   "cell_type": "markdown",
   "metadata": {},
   "source": [
    "```sh\n",
    "git config --list\n",
    "```"
   ]
  },
  {
   "cell_type": "markdown",
   "metadata": {},
   "source": [
    "## Primeiro repositório"
   ]
  },
  {
   "cell_type": "markdown",
   "metadata": {},
   "source": [
    "```sh\n",
    "git init \n",
    "```"
   ]
  },
  {
   "cell_type": "markdown",
   "metadata": {},
   "source": [
    "## Primeiro Commit"
   ]
  },
  {
   "cell_type": "markdown",
   "metadata": {},
   "source": [
    "- Antes de realizar qualquer commit, precisamos adicionar os arquivos dentro da ``stage area``\n",
    "\n",
    "```sh\n",
    "git add file_name_1 file_name_2\n",
    "```\n",
    "\n",
    "- Verificando em qual stage os arquivos estão\n",
    "```sh\n",
    "git status\n",
    "```\n"
   ]
  },
  {
   "cell_type": "markdown",
   "metadata": {},
   "source": [
    "```sh\n",
    "git commit -m 'Mensagem do commit'\n",
    "```"
   ]
  },
  {
   "cell_type": "markdown",
   "metadata": {},
   "source": [
    "## Branches"
   ]
  },
  {
   "cell_type": "markdown",
   "metadata": {},
   "source": [
    "- Verificando quais branches existem\n",
    "```sh\n",
    "git branch\n",
    "```\n",
    "\n",
    "- Criando branch\n",
    "```sh\n",
    "git branch branch_name\n",
    "git checkout branch_name \n",
    "```\n",
    "- Ou\n",
    "```sh\n",
    "git checkout -b branch_name\n",
    "```"
   ]
  },
  {
   "cell_type": "markdown",
   "metadata": {},
   "source": [
    "- Juntando modificações feita em uma branch com outra\n",
    "```sh\n",
    "git branch branch_name\n",
    "git merge branch_join\n",
    "```"
   ]
  },
  {
   "cell_type": "markdown",
   "metadata": {},
   "source": [
    "## Cloud"
   ]
  },
  {
   "cell_type": "markdown",
   "metadata": {},
   "source": [
    "Para conseguir compartilhar as modificações do Git entre os desenvolvedores, utilizados uma cloud para fazer a gestão do repositório oficial do git"
   ]
  },
  {
   "cell_type": "markdown",
   "metadata": {},
   "source": [
    "![online_repository.jpg](https://s3-sa-east-1.amazonaws.com/lcpi/fe3d91b3-137f-4a6d-a270-3b18cc896947.jpg)"
   ]
  },
  {
   "cell_type": "markdown",
   "metadata": {},
   "source": [
    "- [Github](https://github.com/)\n",
    "- [Gitlab](https://gitlab.com/)"
   ]
  },
  {
   "cell_type": "markdown",
   "metadata": {},
   "source": [
    "- Verificando repositório remoto\n",
    "```sh\n",
    "git remote\n",
    "```\n",
    "\n",
    "- Adicionando repositório remoto\n",
    "```sh\n",
    "git remote add nome_repositorio url_repositorio\n",
    "```\n",
    "\n",
    "- Removendo repositório remoto\n",
    "```sh\n",
    "git remote remove nome_repositorio\n",
    "```"
   ]
  }
 ],
 "metadata": {
  "kernelspec": {
   "display_name": "Python 3",
   "language": "python",
   "name": "python3"
  },
  "language_info": {
   "codemirror_mode": {
    "name": "ipython",
    "version": 3
   },
   "file_extension": ".py",
   "mimetype": "text/x-python",
   "name": "python",
   "nbconvert_exporter": "python",
   "pygments_lexer": "ipython3",
   "version": "3.10.12"
  },
  "orig_nbformat": 4
 },
 "nbformat": 4,
 "nbformat_minor": 2
}
