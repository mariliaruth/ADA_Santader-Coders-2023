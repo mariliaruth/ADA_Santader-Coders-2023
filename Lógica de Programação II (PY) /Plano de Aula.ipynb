{
 "cells": [
  {
   "attachments": {},
   "cell_type": "markdown",
   "metadata": {},
   "source": [
    "# Lógica de Programação II "
   ]
  },
  {
   "attachments": {},
   "cell_type": "markdown",
   "metadata": {},
   "source": [
    "## Apresentação"
   ]
  },
  {
   "cell_type": "markdown",
   "metadata": {},
   "source": [
    "## Alinhamentos\n",
    "### Horários\n",
    "- 19:10 início das aulas\n",
    "- 20:30 pausa 15 minutos\n",
    "- 22:00 encerramento das aulas\n",
    "\n",
    "### Comportamento\n",
    "- Presença: 1h online durante a aula\n",
    "- Aulas gravadas\n",
    "- Material disponibilizado LMS (dia da aula)\n",
    "- Lista de exercício\n",
    "- Camera aberta recomendado\n",
    "\n",
    "### Ferramentas\n",
    "- Conseguir utilizar python no computador (Colab, VS Code, IDE...)\n",
    "- VS Code: Básico, Foco no python (>= 3.7)\n",
    "- Git\n",
    "- Programação em Português"
   ]
  },
  {
   "attachments": {},
   "cell_type": "markdown",
   "metadata": {},
   "source": [
    "## Conteúdo do Code Tank\n",
    "- Variáveis, tipos de variáveis, entradas/saídas, operadores algébricos e de comparação\n",
    "- Estrutura condicional\n",
    "- Estrutura de repetição\n",
    "- Listas, Índices, Iterações de listas, Métodos de listas"
   ]
  },
  {
   "attachments": {},
   "cell_type": "markdown",
   "metadata": {},
   "source": [
    "## Conteúdo do Módulo I"
   ]
  },
  {
   "attachments": {},
   "cell_type": "markdown",
   "metadata": {},
   "source": [
    "## Conteúdo didático\n",
    "- VSCode/IDE + GIT\n",
    "- Dicionários e Tuplas (Extra: Set)\n",
    "- Funções (parâmetros default, args e kwargs)\n",
    "- Funções lambda/map/reduce/filter\n",
    "- List e dict e comprehension\n",
    "- Manipulação de arquivos\n",
    "- Tratamento de exceções\n",
    "\n",
    "## Contéudo Extra\n",
    "- Boas práticas do Python (PEP8)\n",
    "- Clean Code"
   ]
  },
  {
   "cell_type": "code",
   "execution_count": 1,
   "metadata": {},
   "outputs": [],
   "source": [
    "# todos_os_nomes = []\n",
    "\n",
    "# for nome in todos_os_nomes:"
   ]
  },
  {
   "cell_type": "code",
   "execution_count": 8,
   "metadata": {},
   "outputs": [
    {
     "name": "stdout",
     "output_type": "stream",
     "text": [
      "Hello World\n",
      "Olá Mundo!"
     ]
    }
   ],
   "source": [
    "print('Hello World')\n",
    "print('Olá Mundo', end='!')"
   ]
  },
  {
   "cell_type": "code",
   "execution_count": 9,
   "metadata": {},
   "outputs": [
    {
     "data": {
      "text/plain": [
       "'Lucas'"
      ]
     },
     "execution_count": 9,
     "metadata": {},
     "output_type": "execute_result"
    }
   ],
   "source": [
    "input('Digite o seu nome: ')"
   ]
  },
  {
   "cell_type": "code",
   "execution_count": 10,
   "metadata": {},
   "outputs": [],
   "source": [
    "nome = input('Digite o seu nome: ')"
   ]
  },
  {
   "cell_type": "code",
   "execution_count": 42,
   "metadata": {},
   "outputs": [
    {
     "data": {
      "text/plain": [
       "'Bruno'"
      ]
     },
     "execution_count": 42,
     "metadata": {},
     "output_type": "execute_result"
    }
   ],
   "source": [
    "idade = 27\n",
    "sobrenome = 'Hermeto'\n",
    "formado = True\n",
    "horas_dormidas = 0.7\n",
    "\n",
    "nome"
   ]
  },
  {
   "cell_type": "code",
   "execution_count": 17,
   "metadata": {},
   "outputs": [
    {
     "name": "stdout",
     "output_type": "stream",
     "text": [
      "<class 'int'>\n",
      "<class 'str'>\n",
      "<class 'bool'>\n",
      "<class 'float'>\n"
     ]
    }
   ],
   "source": [
    "print(type(idade))\n",
    "print(type(sobrenome))\n",
    "print(type(formado))\n",
    "print(type(horas_dormidas))\n",
    "\n",
    "# Bool\n",
    "# 0 = False\n",
    "# +-1 = True"
   ]
  },
  {
   "cell_type": "code",
   "execution_count": 19,
   "metadata": {},
   "outputs": [],
   "source": [
    "coluna_de_resultado_financeiro = 'resultados_financeiros'\n",
    "COLUNA_DE_RESULTADO_FINANCEIRO = 'resultados_financeiros'\n",
    "conversao_monetaria = True\n",
    "# Coluna_De_Resultado_Financeiro = Não fazer"
   ]
  },
  {
   "cell_type": "code",
   "execution_count": 21,
   "metadata": {},
   "outputs": [
    {
     "name": "stdout",
     "output_type": "stream",
     "text": [
      "Lucas Faria Hermeto\n"
     ]
    }
   ],
   "source": [
    "# Operadores Algébricos\n",
    "# + soma\n",
    "# - subtração\n",
    "# / divisão\n",
    "# // resto\n",
    "# * multiplicação\n",
    "\n",
    "print('Lucas Faria ' + 'Hermeto') # Objeto fazendo append de lista"
   ]
  },
  {
   "cell_type": "code",
   "execution_count": 32,
   "metadata": {},
   "outputs": [
    {
     "name": "stdout",
     "output_type": "stream",
     "text": [
      "True\n",
      "False\n",
      "<class 'str'>\n"
     ]
    }
   ],
   "source": [
    "print('12/07/2023' > '01/08/2023')\n",
    "# 'DD/MM/ANO' -> Padrão brasileiro\n",
    "# 'MM/DD/ANO' -> Padrão Americano\n",
    "\n",
    "print('2023-07-12' > '2023-08-01')\n",
    "# 'ANO-MM-DD' -> Padrão 'Internacional'\n",
    "\n",
    "print(type('12/07/2023'))"
   ]
  },
  {
   "cell_type": "markdown",
   "metadata": {},
   "source": [
    "### Estrutura condicional"
   ]
  },
  {
   "cell_type": "code",
   "execution_count": 37,
   "metadata": {},
   "outputs": [
    {
     "name": "stdout",
     "output_type": "stream",
     "text": [
      "Não faz tratamento\n"
     ]
    }
   ],
   "source": [
    "if conversao_monetaria:\n",
    "    pass # alguma_coisa\n",
    "else:\n",
    "    pass # outra_coisa\n",
    "\n",
    "if '2023-07-12' > '2023-08-01':\n",
    "    print('Faz tratamento')\n",
    "else:\n",
    "    print('Não faz tratamento')"
   ]
  },
  {
   "cell_type": "code",
   "execution_count": 38,
   "metadata": {},
   "outputs": [],
   "source": [
    "# if condicao:\n",
    "#     faz_algo\n",
    "# else:\n",
    "#-------------\n",
    "#     if condicao_2:\n",
    "#         faz_outra_coisa\n",
    "\n",
    "# if condicao:\n",
    "#     faz_algo\n",
    "# elif condicao_2:\n",
    "#     faz_outra_coisa\n",
    "\n",
    "if conversao_monetaria and '2023-07-12' > '2023-08-01':\n",
    "    pass\n",
    "elif conversao_monetaria:\n",
    "    pass\n",
    "else:\n",
    "    pass"
   ]
  },
  {
   "cell_type": "markdown",
   "metadata": {},
   "source": [
    "### Estrutura de Repetição"
   ]
  },
  {
   "cell_type": "code",
   "execution_count": 39,
   "metadata": {},
   "outputs": [
    {
     "data": {
      "text/plain": [
       "'resultados_financeiros'"
      ]
     },
     "execution_count": 39,
     "metadata": {},
     "output_type": "execute_result"
    }
   ],
   "source": [
    "COLUNA_DE_RESULTADO_FINANCEIRO"
   ]
  },
  {
   "cell_type": "code",
   "execution_count": 51,
   "metadata": {},
   "outputs": [
    {
     "name": "stdout",
     "output_type": "stream",
     "text": [
      "Modificando condicao\n"
     ]
    }
   ],
   "source": [
    "# while até condicao ser verdadeira \n",
    "# for até as repetições necessárias acabarem\n",
    "\n",
    "condicao = True\n",
    "\n",
    "while condicao:\n",
    "    print('Modificando condicao')\n",
    "\n",
    "    if 1 == 1:\n",
    "        # continue\n",
    "        pass\n",
    "        break\n",
    "\n",
    "\n",
    "    print('Continuacao do codigo')\n",
    "    condicao = False\n"
   ]
  },
  {
   "cell_type": "code",
   "execution_count": 55,
   "metadata": {},
   "outputs": [
    {
     "data": {
      "text/plain": [
       "[0, 1, 2, 3, 4, 5, 6, 7, 8, 9]"
      ]
     },
     "execution_count": 55,
     "metadata": {},
     "output_type": "execute_result"
    }
   ],
   "source": [
    "list(range(10))"
   ]
  },
  {
   "cell_type": "code",
   "execution_count": 53,
   "metadata": {},
   "outputs": [
    {
     "name": "stdout",
     "output_type": "stream",
     "text": [
      "1\n",
      "3\n",
      "5\n",
      "7\n",
      "9\n"
     ]
    }
   ],
   "source": [
    "for i in range(10):\n",
    "    if i%2 == 0:\n",
    "        continue\n",
    "    print(i)"
   ]
  },
  {
   "cell_type": "code",
   "execution_count": 60,
   "metadata": {},
   "outputs": [
    {
     "name": "stdout",
     "output_type": "stream",
     "text": [
      "Bem vindo São Paulo\n",
      "Bem vindo Minas Gerais\n",
      "Bem vindo Ceara\n",
      "Bem vindo Acre\n"
     ]
    }
   ],
   "source": [
    "todos_estados = ['São Paulo', 'Minas Gerais', 'Ceara', 'Acre']\n",
    "\n",
    "for estado in todos_estados:\n",
    "    if 'São Paulo' == estado:\n",
    "        pass\n",
    "    \n",
    "    print('Bem vindo', estado)"
   ]
  },
  {
   "cell_type": "markdown",
   "metadata": {},
   "source": [
    "### Listas"
   ]
  },
  {
   "cell_type": "code",
   "execution_count": 61,
   "metadata": {},
   "outputs": [
    {
     "data": {
      "text/plain": [
       "list"
      ]
     },
     "execution_count": 61,
     "metadata": {},
     "output_type": "execute_result"
    }
   ],
   "source": [
    "type(todos_estados)"
   ]
  },
  {
   "cell_type": "code",
   "execution_count": 69,
   "metadata": {},
   "outputs": [],
   "source": [
    "todos_estados = ['São Paulo', 1, 'Minas Gerais', 'Ceara', 20.0, 'Acre']\n",
    "todos_numeros = [1, 2, 3, 4, 5, 6]\n",
    "pessoas_idade = [['Lucas', 27], ['Bruno', 0]]"
   ]
  },
  {
   "cell_type": "code",
   "execution_count": 65,
   "metadata": {},
   "outputs": [
    {
     "data": {
      "text/plain": [
       "'São Paulo'"
      ]
     },
     "execution_count": 65,
     "metadata": {},
     "output_type": "execute_result"
    }
   ],
   "source": [
    "todos_estados[0]"
   ]
  },
  {
   "cell_type": "code",
   "execution_count": 68,
   "metadata": {},
   "outputs": [
    {
     "data": {
      "text/plain": [
       "27"
      ]
     },
     "execution_count": 68,
     "metadata": {},
     "output_type": "execute_result"
    }
   ],
   "source": [
    "pessoas_idade[0][1]"
   ]
  },
  {
   "cell_type": "code",
   "execution_count": 77,
   "metadata": {},
   "outputs": [
    {
     "name": "stdout",
     "output_type": "stream",
     "text": [
      "[1, 2, 3, 4, 5, 6]\n",
      "[1, 2]\n",
      "[3, 4, 5, 6]\n",
      "[3, 4]\n"
     ]
    }
   ],
   "source": [
    "print(todos_numeros[:])\n",
    "print(todos_numeros[:2])\n",
    "print(todos_numeros[2:])\n",
    "print(todos_numeros[2:4])"
   ]
  },
  {
   "cell_type": "code",
   "execution_count": 79,
   "metadata": {},
   "outputs": [],
   "source": [
    "todos_numeros.insert(7, 0)"
   ]
  },
  {
   "cell_type": "code",
   "execution_count": 81,
   "metadata": {},
   "outputs": [],
   "source": [
    "todos_numeros.append(7)"
   ]
  },
  {
   "cell_type": "code",
   "execution_count": 83,
   "metadata": {},
   "outputs": [],
   "source": [
    "# insert\n",
    "# append\n",
    "# pop\n",
    "# sorted\n",
    "# count\n",
    "# reverse\n",
    "# index\n",
    "# max, min, len"
   ]
  },
  {
   "cell_type": "code",
   "execution_count": 86,
   "metadata": {},
   "outputs": [
    {
     "data": {
      "text/plain": [
       "1"
      ]
     },
     "execution_count": 86,
     "metadata": {},
     "output_type": "execute_result"
    }
   ],
   "source": [
    "todos_numeros.count(1)"
   ]
  },
  {
   "cell_type": "code",
   "execution_count": 89,
   "metadata": {},
   "outputs": [
    {
     "data": {
      "text/plain": [
       "[1, 2, 3, 4, 5, 6, 0, 7, 7]"
      ]
     },
     "execution_count": 89,
     "metadata": {},
     "output_type": "execute_result"
    }
   ],
   "source": [
    "todos_numeros"
   ]
  },
  {
   "cell_type": "code",
   "execution_count": 90,
   "metadata": {},
   "outputs": [
    {
     "data": {
      "text/plain": [
       "1"
      ]
     },
     "execution_count": 90,
     "metadata": {},
     "output_type": "execute_result"
    }
   ],
   "source": [
    "todos_numeros.count(1)"
   ]
  },
  {
   "cell_type": "code",
   "execution_count": 91,
   "metadata": {},
   "outputs": [
    {
     "data": {
      "text/plain": [
       "2"
      ]
     },
     "execution_count": 91,
     "metadata": {},
     "output_type": "execute_result"
    }
   ],
   "source": [
    "todos_numeros.count(7)"
   ]
  },
  {
   "cell_type": "code",
   "execution_count": 92,
   "metadata": {},
   "outputs": [
    {
     "data": {
      "text/plain": [
       "0"
      ]
     },
     "execution_count": 92,
     "metadata": {},
     "output_type": "execute_result"
    }
   ],
   "source": [
    "todos_numeros.count(-1)"
   ]
  },
  {
   "cell_type": "code",
   "execution_count": 93,
   "metadata": {},
   "outputs": [
    {
     "data": {
      "text/plain": [
       "9"
      ]
     },
     "execution_count": 93,
     "metadata": {},
     "output_type": "execute_result"
    }
   ],
   "source": [
    "len(todos_numeros)"
   ]
  },
  {
   "cell_type": "code",
   "execution_count": null,
   "metadata": {},
   "outputs": [],
   "source": []
  }
 ],
 "metadata": {
  "kernelspec": {
   "display_name": "base",
   "language": "python",
   "name": "python3"
  },
  "language_info": {
   "codemirror_mode": {
    "name": "ipython",
    "version": 3
   },
   "file_extension": ".py",
   "mimetype": "text/x-python",
   "name": "python",
   "nbconvert_exporter": "python",
   "pygments_lexer": "ipython3",
   "version": "3.9.6"
  },
  "orig_nbformat": 4
 },
 "nbformat": 4,
 "nbformat_minor": 2
}
