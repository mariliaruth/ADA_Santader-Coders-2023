{
 "cells": [
  {
   "cell_type": "markdown",
   "metadata": {},
   "source": [
    "# Lógica de Programação II"
   ]
  },
  {
   "attachments": {},
   "cell_type": "markdown",
   "metadata": {},
   "source": [
    "## Funções"
   ]
  },
  {
   "cell_type": "markdown",
   "metadata": {},
   "source": [
    "### Tópicos da aula\n",
    "- Intuição das funções\n",
    "- Parâmetros\n",
    "- Retorno\n",
    "- Bônus: Recursão"
   ]
  },
  {
   "attachments": {},
   "cell_type": "markdown",
   "metadata": {},
   "source": [
    "Criar um programa que calcule o volume de um cilindro dado o raio r e a altura h."
   ]
  },
  {
   "attachments": {},
   "cell_type": "markdown",
   "metadata": {},
   "source": [
    "Volume de um cilindro\n",
    "\n",
    "<img src= 'https://br.neurochispas.com/wp-content/uploads/2022/08/Formulas-para-a-area-e-volume-de-um-cilindro.webp' width=\"200\">"
   ]
  },
  {
   "cell_type": "code",
   "execution_count": 1,
   "metadata": {},
   "outputs": [],
   "source": [
    "altura = float(input('Digite a altura:'))\n",
    "raio = float(input('Digite o raio:'))\n",
    "\n",
    "# x ** y -> potencia\n",
    "\n",
    "volume = 3.14 * (raio ** 2) * altura\n",
    "print('O volume do cilindro é: ', volume)\n",
    "\n",
    "# Lista de altura e raio\n",
    "# todas_alturas e todos_raios\n",
    "# for sobre todas_alturas"
   ]
  },
  {
   "attachments": {},
   "cell_type": "markdown",
   "metadata": {},
   "source": [
    "Calcular a área do trapézio dado os valores necessários.\n",
    "\n",
    "<img src='https://www.matematica.pt/images/faq/calcular-area-trapezio.png' width='300'>"
   ]
  },
  {
   "cell_type": "code",
   "execution_count": 2,
   "metadata": {},
   "outputs": [
    {
     "name": "stdout",
     "output_type": "stream",
     "text": [
      "Área do trapézio é: 32.5\n"
     ]
    }
   ],
   "source": [
    "altura = float(input('Digite a altura do trapézio:'))\n",
    "\n",
    "base_superior = float(input('Digite a base superior'))\n",
    "base_inferior = float(input('Digite a base inferior'))\n",
    "\n",
    "area = ((base_inferior + base_superior)*altura)/2\n",
    "\n",
    "print('Área do trapézio é:', area)"
   ]
  },
  {
   "cell_type": "markdown",
   "metadata": {},
   "source": [
    "Modifique os dados da lista a seguir utilizando a fórmula abaixo:\n",
    "\n",
    "$\\frac{X-\\overline{X}}{S}$, onde $\\overline{X}$ é a média dos valores e $S$ o total de items na lista\n",
    "\n",
    "\n",
    "[1, 2, 5, 6, 7, 10, 11, 15, 28, 19, 24, 55, 100, 101]"
   ]
  },
  {
   "cell_type": "code",
   "execution_count": 3,
   "metadata": {},
   "outputs": [
    {
     "name": "stdout",
     "output_type": "stream",
     "text": [
      "[-1.8877551020408163, -1.8163265306122447, -1.6020408163265305, -1.530612244897959, -1.4591836734693877, -1.2448979591836733, -1.173469387755102, -0.8877551020408162, 0.04081632653061235, -0.6020408163265305, -0.24489795918367335, 1.969387755102041, 5.183673469387755, 5.255102040816326]\n"
     ]
    }
   ],
   "source": [
    "todos_numeros = [1, 2, 5, 6, 7, 10, 11, 15, 28, 19, 24, 55, 100, 101]\n",
    "\n",
    "nova_lista_numeros = []\n",
    "total_numeros = len(todos_numeros)\n",
    "media = sum(todos_numeros)/total_numeros\n",
    "for numero in todos_numeros:\n",
    "    novo_valor = (numero - media)/total_numeros\n",
    "    nova_lista_numeros.append(novo_valor)\n",
    "\n",
    "print(nova_lista_numeros)"
   ]
  },
  {
   "attachments": {},
   "cell_type": "markdown",
   "metadata": {},
   "source": [
    "E se quisermos utilizar diversas vezes o mesmo programa?\n",
    "\n",
    "Para isso podemos usar as **funções**\n",
    "\n",
    "Para definir uma função utilizamos a palavra `def`"
   ]
  },
  {
   "cell_type": "code",
   "execution_count": 6,
   "metadata": {},
   "outputs": [],
   "source": [
    "def nome_da_funcao():\n",
    "    # to do\n",
    "    pass"
   ]
  },
  {
   "cell_type": "code",
   "execution_count": 7,
   "metadata": {},
   "outputs": [],
   "source": [
    "def imprime_linhas():\n",
    "    print('linha1')\n",
    "    print('linha2')"
   ]
  },
  {
   "cell_type": "code",
   "execution_count": 10,
   "metadata": {},
   "outputs": [
    {
     "name": "stdout",
     "output_type": "stream",
     "text": [
      "Tipo: <class 'function'>\n",
      "linha1\n",
      "linha2\n"
     ]
    }
   ],
   "source": [
    "print('Tipo:', type(imprime_linhas))\n",
    "imprime_linhas()"
   ]
  },
  {
   "attachments": {},
   "cell_type": "markdown",
   "metadata": {},
   "source": [
    "### Parâmetros da função"
   ]
  },
  {
   "cell_type": "code",
   "execution_count": 19,
   "metadata": {},
   "outputs": [],
   "source": [
    "todos_numeros = [1, 2, 5, 6, 7, 10, 11, 15, 28, 19, 24, 55, 100, 101]\n",
    "\n",
    "def padronizacao_t_student(todos_numeros):\n",
    "    nova_lista_numeros = []\n",
    "    total_numeros = len(todos_numeros)\n",
    "    media = sum(todos_numeros)/total_numeros\n",
    "    for numero in todos_numeros:\n",
    "        novo_valor = (numero - media)/total_numeros\n",
    "        nova_lista_numeros.append(novo_valor)\n",
    "\n",
    "    print(nova_lista_numeros)"
   ]
  },
  {
   "cell_type": "code",
   "execution_count": 22,
   "metadata": {},
   "outputs": [
    {
     "name": "stdout",
     "output_type": "stream",
     "text": [
      "[-1.8877551020408163, -1.8163265306122447, -1.6020408163265305, -1.530612244897959, -1.4591836734693877, -1.2448979591836733, -1.173469387755102, -0.8877551020408162, 0.04081632653061235, -0.6020408163265305, -0.24489795918367335, 1.969387755102041, 5.183673469387755, 5.255102040816326]\n"
     ]
    }
   ],
   "source": [
    "padronizacao_t_student(todos_numeros)"
   ]
  },
  {
   "cell_type": "code",
   "execution_count": null,
   "metadata": {},
   "outputs": [],
   "source": [
    "VARIAVEL_GLOBAL = ''"
   ]
  },
  {
   "cell_type": "code",
   "execution_count": 23,
   "metadata": {},
   "outputs": [
    {
     "name": "stdout",
     "output_type": "stream",
     "text": [
      "."
     ]
    }
   ],
   "source": [
    "print('', end='.')"
   ]
  },
  {
   "cell_type": "code",
   "execution_count": 2,
   "metadata": {},
   "outputs": [],
   "source": [
    "altura = float(input('Digite a altura:'))\n",
    "raio = float(input('Digite o raio:'))\n",
    "\n",
    "def imprimir_volume_cilindro(altura, raio):\n",
    "    volume = 3.14 * (raio ** 2) * altura\n",
    "    print('O volume do cilindro é: ', volume)"
   ]
  },
  {
   "cell_type": "code",
   "execution_count": 3,
   "metadata": {},
   "outputs": [
    {
     "name": "stdout",
     "output_type": "stream",
     "text": [
      "O volume do cilindro é:  678.24\n"
     ]
    }
   ],
   "source": [
    "imprimir_volume_cilindro(altura, raio)"
   ]
  },
  {
   "cell_type": "code",
   "execution_count": 26,
   "metadata": {},
   "outputs": [
    {
     "name": "stdout",
     "output_type": "stream",
     "text": [
      "O volume do cilindro é:  125.60000000000001\n"
     ]
    }
   ],
   "source": [
    "imprimir_volume_cilindro(raio=2, altura=10)"
   ]
  },
  {
   "cell_type": "code",
   "execution_count": 39,
   "metadata": {},
   "outputs": [],
   "source": [
    "def padronizacao_t_student(todos_numeros, amostra=False):\n",
    "    nova_lista_numeros = []\n",
    "    total_numeros = len(todos_numeros)\n",
    "    media = sum(todos_numeros)/total_numeros\n",
    "    for numero in todos_numeros:\n",
    "        numerador = (numero - media)\n",
    "\n",
    "        # divisor = total_numeros\n",
    "        # if amostra:\n",
    "        #     divisor = divisor - 1\n",
    "\n",
    "        # divisor = valor_caso_verdadeiro 'if' condicao 'else' valor_caso_falso\n",
    "        divisor = total_numeros - 1 if amostra else total_numeros \n",
    "\n",
    "        novo_valor = numerador/divisor\n",
    "        nova_lista_numeros.append(novo_valor)\n",
    "\n",
    "    print(nova_lista_numeros)"
   ]
  },
  {
   "cell_type": "code",
   "execution_count": 40,
   "metadata": {},
   "outputs": [
    {
     "name": "stdout",
     "output_type": "stream",
     "text": [
      "[-2.032967032967033, -1.956043956043956, -1.7252747252747251, -1.6483516483516483, -1.5714285714285714, -1.3406593406593406, -1.2637362637362637, -0.956043956043956, 0.04395604395604407, -0.6483516483516483, -0.26373626373626363, 2.120879120879121, 5.582417582417582, 5.659340659340659]\n"
     ]
    }
   ],
   "source": [
    "padronizacao_t_student(todos_numeros, True)"
   ]
  },
  {
   "cell_type": "code",
   "execution_count": 42,
   "metadata": {},
   "outputs": [
    {
     "name": "stdout",
     "output_type": "stream",
     "text": [
      "[-2.032967032967033, -1.956043956043956, -1.7252747252747251, -1.6483516483516483, -1.5714285714285714, -1.3406593406593406, -1.2637362637362637, -0.956043956043956, 0.04395604395604407, -0.6483516483516483, -0.26373626373626363, 2.120879120879121, 5.582417582417582, 5.659340659340659]\n"
     ]
    }
   ],
   "source": [
    "padronizacao_t_student(todos_numeros, amostra=True)"
   ]
  },
  {
   "cell_type": "code",
   "execution_count": 41,
   "metadata": {},
   "outputs": [
    {
     "name": "stdout",
     "output_type": "stream",
     "text": [
      "[-1.8877551020408163, -1.8163265306122447, -1.6020408163265305, -1.530612244897959, -1.4591836734693877, -1.2448979591836733, -1.173469387755102, -0.8877551020408162, 0.04081632653061235, -0.6020408163265305, -0.24489795918367335, 1.969387755102041, 5.183673469387755, 5.255102040816326]\n"
     ]
    }
   ],
   "source": [
    "padronizacao_t_student(todos_numeros)"
   ]
  },
  {
   "cell_type": "code",
   "execution_count": 57,
   "metadata": {},
   "outputs": [],
   "source": [
    "def cadastro(nome, idade, cidade, pessoa=True, estado='SP'):\n",
    "    \"\"\" Função do tipo cadastro que irá imprimir as informações adicionadas\n",
    "    Atributos: nome do tipo str, idade do tipo ....\n",
    "    \"\"\"\n",
    "    print(nome, idade, cidade)\n",
    "    print(pessoa)\n",
    "    print(estado)"
   ]
  },
  {
   "cell_type": "code",
   "execution_count": 49,
   "metadata": {},
   "outputs": [
    {
     "name": "stdout",
     "output_type": "stream",
     "text": [
      "Lucas 27 Santana de Parnaíba\n",
      "True\n",
      "SP\n"
     ]
    }
   ],
   "source": [
    "cadastro('Lucas', '27', 'Santana de Parnaíba')"
   ]
  },
  {
   "cell_type": "code",
   "execution_count": 53,
   "metadata": {},
   "outputs": [
    {
     "name": "stdout",
     "output_type": "stream",
     "text": [
      "Lucas 27 Uberaba\n",
      "False\n",
      "MG\n"
     ]
    }
   ],
   "source": [
    "cadastro('Lucas', '27', 'Uberaba', estado='MG', pessoa=False)"
   ]
  },
  {
   "attachments": {},
   "cell_type": "markdown",
   "metadata": {},
   "source": [
    "### Return"
   ]
  },
  {
   "cell_type": "code",
   "execution_count": 58,
   "metadata": {},
   "outputs": [],
   "source": [
    "def nome_da_funcao():\n",
    "    # to do\n",
    "    return # variável"
   ]
  },
  {
   "cell_type": "code",
   "execution_count": 66,
   "metadata": {},
   "outputs": [],
   "source": [
    "def padronizacao_t_student(todos_numeros, amostra=False):\n",
    "    nova_lista_numeros = []\n",
    "    total_numeros = len(todos_numeros)\n",
    "    media = sum(todos_numeros)/total_numeros\n",
    "    for numero in todos_numeros:\n",
    "        numerador = (numero - media)\n",
    "\n",
    "        # divisor = total_numeros\n",
    "        # if amostra:\n",
    "        #     divisor = divisor - 1\n",
    "\n",
    "        # divisor = valor_caso_verdadeiro 'if' condicao 'else' valor_caso_falso\n",
    "        divisor = total_numeros - 1 if amostra else total_numeros \n",
    "\n",
    "        novo_valor = numerador/divisor\n",
    "        nova_lista_numeros.append(novo_valor)\n",
    "\n",
    "    print(nova_lista_numeros)\n",
    "    return nova_lista_numeros"
   ]
  },
  {
   "cell_type": "code",
   "execution_count": 67,
   "metadata": {},
   "outputs": [
    {
     "name": "stdout",
     "output_type": "stream",
     "text": [
      "[-1.8877551020408163, -1.8163265306122447, -1.6020408163265305, -1.530612244897959, -1.4591836734693877, -1.2448979591836733, -1.173469387755102, -0.8877551020408162, 0.04081632653061235, -0.6020408163265305, -0.24489795918367335, 1.969387755102041, 5.183673469387755, 5.255102040816326]\n"
     ]
    }
   ],
   "source": [
    "novos_numeros = padronizacao_t_student(todos_numeros)"
   ]
  },
  {
   "cell_type": "code",
   "execution_count": 68,
   "metadata": {},
   "outputs": [
    {
     "name": "stdout",
     "output_type": "stream",
     "text": [
      "[-1.8877551020408163, -1.8163265306122447, -1.6020408163265305, -1.530612244897959, -1.4591836734693877, -1.2448979591836733, -1.173469387755102, -0.8877551020408162, 0.04081632653061235, -0.6020408163265305, -0.24489795918367335, 1.969387755102041, 5.183673469387755, 5.255102040816326]\n"
     ]
    }
   ],
   "source": [
    "print(novos_numeros)"
   ]
  },
  {
   "cell_type": "markdown",
   "metadata": {},
   "source": [
    "### Recursão\n"
   ]
  },
  {
   "cell_type": "code",
   "execution_count": 72,
   "metadata": {},
   "outputs": [
    {
     "data": {
      "text/plain": [
       "[1, 2, 5, 6, 7, 10, 11, 15, 28, 19, 24, 55, 100, 101]"
      ]
     },
     "execution_count": 72,
     "metadata": {},
     "output_type": "execute_result"
    }
   ],
   "source": [
    "todos_numeros"
   ]
  },
  {
   "cell_type": "code",
   "execution_count": 76,
   "metadata": {},
   "outputs": [],
   "source": [
    "def soma_dos_numeros(todos_numeros):\n",
    "    soma = 0\n",
    "\n",
    "    for numero in todos_numeros:\n",
    "        soma = soma + numero\n",
    "    return soma\n",
    "\n",
    "def soma_dos_numeros_recursiva(todos_numeros):\n",
    "    # recursao\n",
    "    # estado de parada\n",
    "    # repeticao\n",
    "\n",
    "    if len(todos_numeros) == 1:\n",
    "        return todos_numeros[0]\n",
    "    else:\n",
    "        return todos_numeros[0] + soma_dos_numeros_recursiva(todos_numeros[1:])\n",
    "\n",
    "# 1:  [1, 2, 5, 6, 7, 10, 11, 15, 28, 19, 24, 55, 100, 101]\n",
    "# 2: [2, 5, 6, 7, 10, 11, 15, 28, 19, 24, 55, 100, 101]\n",
    "# 3: [5, 6, 7, 10, 11, 15, 28, 19, 24, 55, 100, 101]\n",
    "# ...\n",
    "# [101]\n",
    "\n",
    "# Caso de uso para recursão\n",
    "# web scraping: Buscar links na web e entrar em todos os links das próximas páginas\n",
    "# Fila: push e pop\n",
    "\n",
    "# cuidado com: Stack overflow (Erro de Memória)"
   ]
  },
  {
   "cell_type": "code",
   "execution_count": 77,
   "metadata": {},
   "outputs": [],
   "source": [
    "condicao = True\n",
    "while condicao:\n",
    "    break"
   ]
  },
  {
   "cell_type": "code",
   "execution_count": 78,
   "metadata": {},
   "outputs": [
    {
     "name": "stdout",
     "output_type": "stream",
     "text": [
      "384\n",
      "384\n"
     ]
    }
   ],
   "source": [
    "print(soma_dos_numeros(todos_numeros))\n",
    "print(soma_dos_numeros_recursiva(todos_numeros))"
   ]
  },
  {
   "cell_type": "markdown",
   "metadata": {},
   "source": [
    "## Tuplas"
   ]
  },
  {
   "cell_type": "markdown",
   "metadata": {},
   "source": [
    "Até o momento, temos utilizado **listas** pra armazenar uma coleção de dados.\n",
    "\n",
    "Aprenderemos agora sobre uma nova **estrutura de dados**: tuplas!\n",
    "\n",
    "Tuplas são estruturas bastante parecidas com listas:\n",
    "\n",
    "- Podem guardar **tipos diferentes de dados**.\n",
    "- São indexadas (podemos **acessar elementos por índices**).\n",
    "- São iteráveis (**podemos percorrer com o `for`**)."
   ]
  },
  {
   "cell_type": "code",
   "execution_count": 87,
   "metadata": {},
   "outputs": [
    {
     "name": "stdout",
     "output_type": "stream",
     "text": [
      "[1, '', 1.2, True, None, []]\n"
     ]
    }
   ],
   "source": [
    "lista1 = [1, '', 1.2, True, None, []]\n",
    "lista2 = list()\n",
    "\n",
    "print(lista1)"
   ]
  },
  {
   "cell_type": "code",
   "execution_count": 82,
   "metadata": {},
   "outputs": [
    {
     "name": "stdout",
     "output_type": "stream",
     "text": [
      "()\n"
     ]
    }
   ],
   "source": [
    "tupla1 = tuple()\n",
    "tupla2 = ()\n",
    "\n",
    "print(tupla1)"
   ]
  },
  {
   "cell_type": "code",
   "execution_count": 84,
   "metadata": {},
   "outputs": [
    {
     "name": "stdout",
     "output_type": "stream",
     "text": [
      "('Portugues', 'Ingles', 'Espanhol', 'Alemao')\n"
     ]
    }
   ],
   "source": [
    "linguagens_aceitas = ('Portugues', 'Ingles', 'Espanhol', 'Alemao')\n",
    "print(linguagens_aceitas)"
   ]
  },
  {
   "cell_type": "code",
   "execution_count": 86,
   "metadata": {},
   "outputs": [
    {
     "name": "stdout",
     "output_type": "stream",
     "text": [
      "(20, '', 2.1, False, None)\n"
     ]
    }
   ],
   "source": [
    "dados_variados = (20, '', 2.1, False, None)\n",
    "print(dados_variados)"
   ]
  },
  {
   "cell_type": "code",
   "execution_count": 90,
   "metadata": {},
   "outputs": [],
   "source": [
    "cursos_modulos = (\n",
    "    ('Data Science', 'Logica de Programação I',\n",
    "     'Logica de Programação I', 'Estatística Básica I',\n",
    "     'Machine Learning'),\n",
    "    ('Engenharia de Dados', 'Logica de Programação I',\n",
    "     'Logica de Programação I', 'POO', 'Analytical Engineering'))"
   ]
  },
  {
   "cell_type": "code",
   "execution_count": 112,
   "metadata": {},
   "outputs": [
    {
     "name": "stdout",
     "output_type": "stream",
     "text": [
      "('Data Science', 'Logica de Programação I', 'Logica de Programação I', 'Estatística Básica I', 'Machine Learning')\n",
      "Data Science\n"
     ]
    }
   ],
   "source": [
    "print(cursos_modulos[0])\n",
    "print(cursos_modulos[0][0])\n",
    "\n",
    "# cursos_modulos[0].append('Machine Learning II') # ERRO"
   ]
  },
  {
   "cell_type": "code",
   "execution_count": 111,
   "metadata": {},
   "outputs": [
    {
     "name": "stdout",
     "output_type": "stream",
     "text": [
      "[]\n",
      "[1]\n"
     ]
    }
   ],
   "source": [
    "# NUNCA FAZER\n",
    "# tupla = ([], 1)\n",
    "\n",
    "# print(tupla[0])\n",
    "# tupla[0].append(1)\n",
    "# print(tupla[0])\n",
    "\n",
    "cadastro = ((1, 'Lucas'), (2, 'Bruno'))\n",
    "informacoes_mutaveis = [[1, 'Valores mutaveis']]"
   ]
  },
  {
   "cell_type": "code",
   "execution_count": 94,
   "metadata": {},
   "outputs": [
    {
     "name": "stdout",
     "output_type": "stream",
     "text": [
      "('String', [], 1, 1.2, True, None)\n"
     ]
    }
   ],
   "source": [
    "print(('String', [], 1, 1.2, True, None))"
   ]
  },
  {
   "cell_type": "code",
   "execution_count": null,
   "metadata": {},
   "outputs": [],
   "source": [
    "lista_de_chaves_plataformas = (('AWS', 'KEY', 'SECRET'))"
   ]
  },
  {
   "cell_type": "markdown",
   "metadata": {},
   "source": [
    "**Loop do tipo `for`**"
   ]
  },
  {
   "cell_type": "code",
   "execution_count": 113,
   "metadata": {},
   "outputs": [
    {
     "name": "stdout",
     "output_type": "stream",
     "text": [
      "(('Data Science', 'Logica de Programação I', 'Logica de Programação I', 'Estatística Básica I', 'Machine Learning'), ('Engenharia de Dados', 'Logica de Programação I', 'Logica de Programação I', 'POO', 'Analytical Engineering'))\n",
      "('Data Science', 'Logica de Programação I', 'Logica de Programação I', 'Estatística Básica I', 'Machine Learning')\n",
      "('Engenharia de Dados', 'Logica de Programação I', 'Logica de Programação I', 'POO', 'Analytical Engineering')\n"
     ]
    }
   ],
   "source": [
    "print(cursos_modulos)\n",
    "\n",
    "for unico_curso in cursos_modulos:\n",
    "    print(unico_curso)"
   ]
  },
  {
   "cell_type": "markdown",
   "metadata": {},
   "source": [
    "**Fatiando (slicing) dos dados**"
   ]
  },
  {
   "cell_type": "code",
   "execution_count": 116,
   "metadata": {},
   "outputs": [
    {
     "name": "stdout",
     "output_type": "stream",
     "text": [
      "('Data Science', 'Logica de Programação I')\n"
     ]
    }
   ],
   "source": [
    "print(cursos_modulos[0][:2])"
   ]
  },
  {
   "cell_type": "markdown",
   "metadata": {},
   "source": [
    "A principal diferença é: tuplas são **imutáveis**!\n",
    "\n",
    "Para tuplas **não é possível**: alterar elementos individuais, adicionar elementos, remover elementos ou alterar a ordem dos elementos. Uma vez criada, não é possível alterar nada de uma tupla!"
   ]
  },
  {
   "cell_type": "code",
   "execution_count": 124,
   "metadata": {},
   "outputs": [
    {
     "ename": "TypeError",
     "evalue": "'tuple' object does not support item assignment",
     "output_type": "error",
     "traceback": [
      "\u001b[1;31m---------------------------------------------------------------------------\u001b[0m",
      "\u001b[1;31mTypeError\u001b[0m                                 Traceback (most recent call last)",
      "Cell \u001b[1;32mIn[124], line 1\u001b[0m\n\u001b[1;32m----> 1\u001b[0m cursos_modulos[\u001b[39m0\u001b[39m] \u001b[39m=\u001b[39m \u001b[39m0\u001b[39m\n",
      "\u001b[1;31mTypeError\u001b[0m: 'tuple' object does not support item assignment"
     ]
    }
   ],
   "source": [
    "cursos_modulos[0] = 0"
   ]
  },
  {
   "cell_type": "markdown",
   "metadata": {},
   "source": [
    "Tuplas podem virar listas, e listas podem virar tuplas!"
   ]
  },
  {
   "cell_type": "code",
   "execution_count": 121,
   "metadata": {},
   "outputs": [
    {
     "name": "stdout",
     "output_type": "stream",
     "text": [
      "(('Data Science', 'Logica de Programação I', 'Logica de Programação I', 'Estatística Básica I', 'Machine Learning'), ('Engenharia de Dados', 'Logica de Programação I', 'Logica de Programação I', 'POO', 'Analytical Engineering'))\n",
      "[('Data Science', 'Logica de Programação I', 'Logica de Programação I', 'Estatística Básica I', 'Machine Learning'), ('Engenharia de Dados', 'Logica de Programação I', 'Logica de Programação I', 'POO', 'Analytical Engineering')]\n",
      "<class 'tuple'>\n",
      "<class 'list'>\n",
      "[('Data Science', 'Logica de Programação I', 'Logica de Programação I', 'Estatística Básica I', 'Machine Learning'), ('Engenharia de Dados', 'Logica de Programação I', 'Logica de Programação I', 'POO', 'Analytical Engineering')]\n",
      "[('Data Science', 'Logica de Programação I', 'Logica de Programação I', 'Estatística Básica I', 'Machine Learning'), ('Engenharia de Dados', 'Logica de Programação I', 'Logica de Programação I', 'POO', 'Analytical Engineering'), ('Web Full Stack', 'Frond End Estático', 'Frond End Dinâmico', 'Back end')]\n"
     ]
    }
   ],
   "source": [
    "print(cursos_modulos)\n",
    "print(list(cursos_modulos))\n",
    "print(type(cursos_modulos))\n",
    "print(type(list(cursos_modulos)))\n",
    "\n",
    "lista_cursos_modulos = list(cursos_modulos)\n",
    "print(lista_cursos_modulos)\n",
    "lista_cursos_modulos.append((\n",
    "    'Web Full Stack', 'Frond End Estático', \n",
    "    'Frond End Dinâmico', 'Back end'))\n",
    "print(lista_cursos_modulos)"
   ]
  },
  {
   "cell_type": "code",
   "execution_count": 127,
   "metadata": {},
   "outputs": [
    {
     "name": "stdout",
     "output_type": "stream",
     "text": [
      "[1, 2, 5, 6, 7, 10, 11, 15, 28, 19, 24, 55, 100, 101]\n",
      "(1, 2, 5, 6, 7, 10, 11, 15, 28, 19, 24, 55, 100, 101)\n",
      "<class 'list'>\n",
      "<class 'tuple'>\n"
     ]
    }
   ],
   "source": [
    "print(todos_numeros)\n",
    "print(tuple(todos_numeros))\n",
    "print(type(todos_numeros))\n",
    "print(type(tuple(todos_numeros)))"
   ]
  },
  {
   "cell_type": "code",
   "execution_count": 140,
   "metadata": {},
   "outputs": [
    {
     "name": "stdout",
     "output_type": "stream",
     "text": [
      "<class 'tuple'>\n",
      "<class 'str'>\n",
      "<class 'tuple'>\n",
      "<class 'tuple'>\n",
      "<class 'list'>\n",
      "<class 'tuple'>\n",
      "Olá meu nome é \n"
     ]
    }
   ],
   "source": [
    "frutas = ('Amora', 'Caqui', 'Manga')\n",
    "print(type(frutas)) # tupla\n",
    "\n",
    "frutas_com_a = (\"Amora\")\n",
    "print(type(frutas_com_a)) # string\n",
    "\n",
    "frutas_com_b = ()\n",
    "print(type(frutas_com_b)) # tupla\n",
    "\n",
    "frutas_com_c = (\"Caqui\",)\n",
    "print(type(frutas_com_c)) # tupla\n",
    "\n",
    "lista_vazia = ([])\n",
    "print(type(lista_vazia)) # lista\n",
    "\n",
    "tupla_lista_vazia = ([],)\n",
    "print(type(tupla_lista_vazia)) # tupla\n",
    "\n",
    "variavel_com_quebra_de_linha = ('Olá '\n",
    "                                'meu nome é ')\n",
    "print(variavel_com_quebra_de_linha)"
   ]
  },
  {
   "cell_type": "markdown",
   "metadata": {},
   "source": [
    "Qual a vantagem das tuplas?\n",
    "\n",
    "As tuplas e listas possuem operações úteis parecidas, `slicing`, `index`, `ordenação`. Sendo a principal diferença é que as listas conseguimos modificar o seu conteúdo enquanto as tuplas não conseguimos.\n",
    "\n",
    "Há duas diferenças que sugerem o uso de tuplas no lugar de listas:\n",
    "- Performance:\n",
    "  - Tuplas apresentam uma leve vantagem de acesso (\"pegar\" um elemento)\n",
    "  - Tuplas ocupam menos espaço na memória\n",
    "- Indicar de uma estrutura rígida:\n",
    "  - É um jeito de **sinalizar que esses dados não deveriam ser alterados**. \n",
    "  - É um meio de garantir que os elementos estarão **em uma ordem específica**.\n",
    "\n",
    "\n",
    "  - Quando utilizamos tuplas, queremos indicar que novos elementos não deveriam ser inseridos, assim como o seu conteúdo não deveria ser modificado"
   ]
  },
  {
   "cell_type": "markdown",
   "metadata": {},
   "source": [
    "# Exercícios"
   ]
  },
  {
   "cell_type": "markdown",
   "metadata": {},
   "source": [
    "## Funções"
   ]
  },
  {
   "attachments": {},
   "cell_type": "markdown",
   "metadata": {},
   "source": [
    "1. Escreva uma função que calcule e retorne o dobro de um número inserido. Teste este caso solicitando ao usuário que insira um número e após isso, retorne a resposta."
   ]
  },
  {
   "cell_type": "code",
   "execution_count": null,
   "metadata": {},
   "outputs": [],
   "source": []
  },
  {
   "attachments": {},
   "cell_type": "markdown",
   "metadata": {},
   "source": [
    "2. Crie uma função para cálculo do comprimento da circunferência (C = 2 * 3.14 * R), sendo C o comprimento e R o raio da circunferência "
   ]
  },
  {
   "cell_type": "code",
   "execution_count": null,
   "metadata": {},
   "outputs": [],
   "source": []
  },
  {
   "attachments": {},
   "cell_type": "markdown",
   "metadata": {},
   "source": [
    "3. Faça uma função que emita uma saudação baseada no horário. A função deve receber o nome e o horário (apenas número inteiro) e emita a mensagem com as seguintes condições:\n",
    "- até meio dia (não incluso): \"Bom dia, (VARIAVEL_NOME)\"\n",
    "- entre meio dia (incluso) e 18h (não incluso): \"Boa tarde, (VARIAVEL_NOME)\"\n",
    "- após as 18h (incluso): \"Boa noite, (VARIAVEL_NOME)\""
   ]
  },
  {
   "cell_type": "code",
   "execution_count": null,
   "metadata": {},
   "outputs": [],
   "source": []
  },
  {
   "attachments": {},
   "cell_type": "markdown",
   "metadata": {},
   "source": [
    "4. Faça uma função que verifique se um número é par. Teste esta função solicitando ao usuário que digite um número e emitindo a mensagem adequada caso o número seja par ou não."
   ]
  },
  {
   "cell_type": "code",
   "execution_count": null,
   "metadata": {},
   "outputs": [],
   "source": []
  },
  {
   "attachments": {},
   "cell_type": "markdown",
   "metadata": {},
   "source": [
    "5. Crie uma função que recebe duas listas. Caso estas duas listas sejam do mesmo tamanho some os elementos de cada lista com mesmo índica, caso contrário retorne uma lista vazia.\n",
    "Se as duas listas de entrada forem do mesmo tamanho o programa deve se comportar como no exemplo:\n",
    "```python\n",
    "lista_01 = [1, 2, 3, 4, 5]\n",
    "lista_02 = [6, 7, 8, 9, 10]\n",
    "\n",
    "soma_listas(lista_01, lista_02)\n",
    "```\n",
    "saída:\n",
    "\n",
    "```\n",
    "[7, 9, 11, 13, 15]\n",
    "```"
   ]
  },
  {
   "cell_type": "code",
   "execution_count": 151,
   "metadata": {},
   "outputs": [],
   "source": [
    "def soma(numero1, numero2):\n",
    "    return numero1 + numero2\n",
    "\n",
    "\n",
    "def soma_listas(lista_1, lista_2, operacao):\n",
    "    lista_resposta = []\n",
    "\n",
    "    if len(lista_1) == len(lista_2):\n",
    "        for indice in range(len(lista_1)):\n",
    "            valor_soma = operacao(lista_1[indice], lista_2[indice])\n",
    "            lista_resposta.append(valor_soma)\n",
    "\n",
    "    return lista_resposta"
   ]
  },
  {
   "cell_type": "code",
   "execution_count": 152,
   "metadata": {},
   "outputs": [
    {
     "data": {
      "text/plain": [
       "[7, 9, 11, 13, 15]"
      ]
     },
     "execution_count": 152,
     "metadata": {},
     "output_type": "execute_result"
    }
   ],
   "source": [
    "lista_01 = [1, 2, 3, 4, 5]\n",
    "lista_02 = [6, 7, 8, 9, 10]\n",
    "\n",
    "soma_listas(lista_01, lista_02, soma)"
   ]
  },
  {
   "attachments": {},
   "cell_type": "markdown",
   "metadata": {},
   "source": [
    "6. Utilize a mesma lógica do exercício anterior, porém agora você deve multiplicar os elementos ao invés de somá-los."
   ]
  },
  {
   "cell_type": "code",
   "execution_count": 154,
   "metadata": {},
   "outputs": [
    {
     "data": {
      "text/plain": [
       "[6, 14, 24, 36, 50]"
      ]
     },
     "execution_count": 154,
     "metadata": {},
     "output_type": "execute_result"
    }
   ],
   "source": [
    "def multiplicacao(numero1, numero2):\n",
    "    return numero1 * numero2\n",
    "\n",
    "\n",
    "soma_listas(lista_01, lista_02, multiplicacao)"
   ]
  },
  {
   "attachments": {},
   "cell_type": "markdown",
   "metadata": {},
   "source": [
    "7. Faça uma função que recebe uma lista de números e calcula a média destes números."
   ]
  },
  {
   "cell_type": "code",
   "execution_count": null,
   "metadata": {},
   "outputs": [],
   "source": []
  },
  {
   "attachments": {},
   "cell_type": "markdown",
   "metadata": {},
   "source": [
    "8. Faça uma função que calcula o fatorial de um número."
   ]
  },
  {
   "cell_type": "code",
   "execution_count": null,
   "metadata": {},
   "outputs": [],
   "source": []
  },
  {
   "cell_type": "markdown",
   "metadata": {},
   "source": [
    "## Tuplas"
   ]
  },
  {
   "cell_type": "markdown",
   "metadata": {},
   "source": [
    "Um exemplo de estrutura rígida, é no cadastro de pessoas.  \n",
    "Em que coletamos, o nome, idade e estado por exemplo. Neste o sistema não espera que hajam menos ou mais informações sendo rígida essa estrutura.  \n",
    "\n",
    "1. Crie um código utilizando tupla e funções para coletar e armazenar os nomes, idades e estados dos usuários"
   ]
  },
  {
   "cell_type": "code",
   "execution_count": null,
   "metadata": {},
   "outputs": [],
   "source": []
  },
  {
   "cell_type": "markdown",
   "metadata": {},
   "source": [
    "2. Utilizando a lista gerada anteriormente, crie três funções:\n",
    "- Pegue a idade minima das pessoas cadastradas\n",
    "- Pegue a idade máxima das pessoas cadastradas\n",
    "- Calcule a idade média das pessoas cadastradas"
   ]
  },
  {
   "cell_type": "code",
   "execution_count": null,
   "metadata": {},
   "outputs": [],
   "source": []
  },
  {
   "cell_type": "markdown",
   "metadata": {},
   "source": [
    "**Desafio**\n",
    "\n",
    "3. Modifique a função de cadastro de usuário para pegar as seguintes informações:\n",
    "- Nome\n",
    "- Idade\n",
    "- Estado\n",
    "- Sexo\n",
    "\n",
    "Agora crie uma função que permita descobrir a idade média de pessoas cadastradas pelo sexo (para manter simples, masculino e feminino, representado por `m` e `f`, respectivamente)."
   ]
  },
  {
   "cell_type": "code",
   "execution_count": null,
   "metadata": {},
   "outputs": [],
   "source": []
  }
 ],
 "metadata": {
  "kernelspec": {
   "display_name": "Python 3.9.7 ('base')",
   "language": "python",
   "name": "python3"
  },
  "language_info": {
   "codemirror_mode": {
    "name": "ipython",
    "version": 3
   },
   "file_extension": ".py",
   "mimetype": "text/x-python",
   "name": "python",
   "nbconvert_exporter": "python",
   "pygments_lexer": "ipython3",
   "version": "3.9.12"
  },
  "orig_nbformat": 4,
  "vscode": {
   "interpreter": {
    "hash": "5c66de18c091297d67c9a295278ca9503b5163a383fa85591c3cdb6daec33020"
   }
  }
 },
 "nbformat": 4,
 "nbformat_minor": 2
}
